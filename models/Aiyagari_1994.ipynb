{
 "cells": [
  {
   "cell_type": "markdown",
   "metadata": {},
   "source": [
    "# S. Rao Aiyagari"
   ]
  },
  {
   "cell_type": "markdown",
   "metadata": {},
   "source": [
    "# \"[Uninsured Idiosynratic Risk and Aggregate Saving](https://www.jstor.org/stable/2118417?seq=1#page_scan_tab_contents)\"\n",
    "\n",
    "-Notebook is prepared by Yusuf Suha Kulu"
   ]
  },
  {
   "cell_type": "markdown",
   "metadata": {},
   "source": [
    "### Summary\n",
    "\n",
    "This paper created an environment where the agents get uninsured idiosynratic shocks but there no aggregate uncertainity. Therefore, the model allows to analyze the contribution of precautionary savings to aggregate saving, importance of asset trading between agents, and income and wealth distributions among the agents. These analysis can not be done in the representative agents models as the individual risk creates the aggregate risk.\n",
    "\n",
    "The main quantitative findings are the following:\n",
    "* Contribution of the uninsured idiosynratic risk to aggregate saving is modest under plausible values of calibration\n",
    "* Access to asset markets is quite important in enabling consumers to smooth out earnings fluctuations. An individual can cut consumption variability by about half and enjoy a welfare gain of about 14% of per capita consumption by accessing asset markets. \n",
    "* The model is consistent with some key features of the income and wealth distributions. The distributions are positively skewed (median < mean), the wealth distribution is muck more dispersed than income distribution and, the ineqaulity is higher for wealth than for income."
   ]
  },
  {
   "cell_type": "markdown",
   "metadata": {},
   "source": [
    "### Overview\n",
    "\n",
    "#### Key Features of the Exercise\n",
    "1. Endogeneous Heterogeneity\n",
    "2. Aggregation\n",
    "3. Infinite Horizon\n",
    "4. Borrowing Constraints \n",
    "5. General Equlibrium\n",
    "\n",
    "In the steady state, consumers face a constant interest rate as there is no aggregate uncertainity. Thus, idiosynratic shocks lead to a distribution of agents with different levels of assets.\n",
    "\n",
    "#### Assumption\n",
    "\n",
    " $$R\\beta < 1$$\n",
    " \n",
    " "
   ]
  },
  {
   "cell_type": "markdown",
   "metadata": {},
   "source": [
    "### The Model\n",
    "\n",
    "#### The Individual's Problem\n",
    "\n",
    "$$\\mathbb{E}_0\\left\\{ \\sum_{t=0}^{\\infty} \\beta^{t} U(c_t) \\right\\}$$\n",
    "subject to\n",
    "$$ c_t + a_{t+1} = wl_{t} + (1+r)a_t$$\n",
    "$$ c_t \\geq 0, a_t \\geq -b $$\n",
    "where b is the borrowing limit \\\n",
    "$l_t$ is the idiosynratic iid shock with support [$l_{min}$,$l_{max}$] with $l_{min}$>0 \\\n",
    "Labor is supplied inelastically.\n",
    "\n",
    "Note that if r is positive, there is a natural borrowing constraint due to non negativity of the consumption. Thus, \n",
    "$$ a_t \\geq -\\phi$$\n",
    "$$ \\phi \\equiv min\\left\\{b, \\frac{wl_{min}}{r}\\right\\} \\quad for \\quad r>0 ;\\quad \\phi \\equiv b \\quad for \\quad r\\leq 0$$\n",
    "\n",
    "The Bellman Equation is following:\n",
    "\n",
    "\\begin{equation}\n",
    "V(z_t,b,w,r) = max \\bigg(U(z_t - \\hat{a}) + \\beta \\int V(z_{t+1},b,w,r)dF(l_{t+1}) \\bigg)\n",
    "\\end{equation}\n",
    "where\n",
    "$$\\hat{a} = a_t + \\phi$$\n",
    "$$z_t = wl_t + (1+r)\\hat{a} - r \\phi$$ \n",
    "$z_t$ is the total resources of the agent\n",
    "\n",
    "#### Endogeneous Heterogeneity and Aggregation\n",
    "Let\n",
    "$$ Ea_w = E\\left\\{A(z,b,w,r)\\right\\} - \\phi$$ denote the long-run average assets where A(z,b,w,r) is the asset demand function (solution to the Bellman equation). \n",
    "\n",
    "1. Aggregate assets of the population tends to infinity as $R\\beta$ approaches to one. This reflects the infinite horizon model as if the interest rate equals or exceeds the time preference rate, then the individual will accumulate infinite amount of assets.\n",
    "\n",
    "2. Aggregate assets are always higher under uncertainity than that of the certainity case. \n",
    "\n",
    "#### General Equilibrium\n",
    "\n",
    "Aggregate capital stock is higher and the interest rate is lower in the economy with uninsured idiosynratic shocks and borrowing constraints as compared with the one without the shocks. The saving rate is also higher.\n",
    "\n",
    "Permitting a high borrowing limit serves to lower aggregate capital and raise the interest rate. The intuition is when the borrowing is permitted, individuals need not to rely solely on holdings of capital to buffer earnings variation. Thus, they use the borrowing to buffer the shocks and they hold less capital.\n"
   ]
  },
  {
   "cell_type": "markdown",
   "metadata": {},
   "source": [
    "### Results\n",
    "\n",
    "<center><img src=\"Table2.png\" style=\"height:400px\"></center>\n",
    "\n",
    "where \n",
    "\n",
    "$$ log(l_t) = \\rho log(l_{t-1}) + \\sigma {(1-\\rho^2)}^{0.5} \\epsilon_t $$\n",
    "\n",
    "$\\mu$ is the CRRA coefficient.\n",
    "\n",
    "The full insurance net return to capital is 4.17 percent, and the saving rate is 23.67 percent.\n",
    "\n",
    "The saving rates between the with and without insurance cases is very small under the plausible values. However, for high values of the parameters, saving rate difference can be as high as 14 percentage points. \n",
    "\n",
    "#### Importance of Asset Trading\n",
    "\n",
    "An appropriate expression for the welfare loss from consumption variability is given by $\\mu \\sigma_c/2$. Consumers can smooth their consumption by accumulating or decumulating assets. Under plausible parameter values, consumption smoothing by asset trading can have a welfare benefit of 14 percent of percepita consumption, or about 8 percent of per capita GNP.\n",
    "\n",
    "#### Cross Sectional Distributions and Ineqaulity Measures\n",
    "\n",
    "The skewness of the distributions are captured by the model. However, the degree of skewness is less than the data. Moreover, the model generates emprically plausible relative degrees of inequality. However, still it can not generate the observed degrees of the inequlity for the US. "
   ]
  },
  {
   "cell_type": "markdown",
   "metadata": {},
   "source": [
    "### Conclusion\n",
    "\n",
    "A version of the Brock-Mirman (1972) growth model with a large number if agents subject to uninsured idiosynratic shocks was described. It has important implications for the contribution of the pracautionary saving to aggregate saving, the importance of asset trading, and income and wealth distributions. "
   ]
  },
  {
   "cell_type": "code",
   "execution_count": null,
   "metadata": {},
   "outputs": [],
   "source": []
  }
 ],
 "metadata": {
  "kernelspec": {
   "display_name": "Python 3",
   "language": "python",
   "name": "python3"
  },
  "language_info": {
   "codemirror_mode": {
    "name": "ipython",
    "version": 3
   },
   "file_extension": ".py",
   "mimetype": "text/x-python",
   "name": "python",
   "nbconvert_exporter": "python",
   "pygments_lexer": "ipython3",
   "version": "3.7.3"
  }
 },
 "nbformat": 4,
 "nbformat_minor": 2
}
