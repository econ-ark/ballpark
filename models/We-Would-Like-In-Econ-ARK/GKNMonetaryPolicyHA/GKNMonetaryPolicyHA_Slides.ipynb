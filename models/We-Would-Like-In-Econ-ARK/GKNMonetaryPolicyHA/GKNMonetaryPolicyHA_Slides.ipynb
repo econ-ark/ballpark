{
 "cells": [
  {
   "cell_type": "markdown",
   "metadata": {
    "slideshow": {
     "slide_type": "slide"
    }
   },
   "source": [
    "<br><br><font size=10><b><center> \"Monetary Policy with Heterogeneous </center></b></font>\n",
    "    <font size=10><b><center>Agents\" </center></b></font>\n",
    "    <br><br>\n",
    "    <font size=6><b><center> [Gornemann, Kuester, Nakajima (2012)](https://www.philadelphiafed.org/-/media/research-and-data/publications/working-papers/2012/wp12-21.pdf?la=en)</center></b></font>\n",
    "    <br><br>\n",
    "    <font size=6><b><center> Ballpark created by Nino Kodua </center></b></font>\n",
    "    <br><br>\n",
    "    <font size=6><b><center> November 2, 2020 </center></b></font>\n",
    "   \n",
    "   \n",
    "    \n",
    "   "
   ]
  },
  {
   "cell_type": "markdown",
   "metadata": {
    "slideshow": {
     "slide_type": "slide"
    }
   },
   "source": [
    "# <center> Roadmap\n",
    "    \n",
    "   * **Motivation**\n",
    "   * **Research Question/Main Contribution**\n",
    "   * **The Model**\n",
    "   * **Computation**\n",
    "   * **Results**\n",
    "   * **Conclusion**"
   ]
  },
  {
   "cell_type": "markdown",
   "metadata": {
    "slideshow": {
     "slide_type": "slide"
    }
   },
   "source": [
    "# <center> Motivation"
   ]
  },
  {
   "cell_type": "markdown",
   "metadata": {
    "slideshow": {
     "slide_type": "fragment"
    }
   },
   "source": [
    "### Monetary policy impacts both: \n",
    "\n",
    "   *  **Level of aggregate activity**\n",
    "   *  **Distribution of income and consumption across households**\n",
    "   "
   ]
  },
  {
   "cell_type": "markdown",
   "metadata": {
    "slideshow": {
     "slide_type": "fragment"
    }
   },
   "source": [
    "### Distributional concerns\n",
    "   * **important input for appropriateness of monetary policy actions**\n",
    "   * **empirical evidence (Coibion et al., 2012)**\n",
    "       * **Even with low inflation rates, monetary shocks - persistent effects on wealth distribution**"
   ]
  },
  {
   "cell_type": "markdown",
   "metadata": {
    "slideshow": {
     "slide_type": "slide"
    }
   },
   "source": [
    "# <center> Main Contributions"
   ]
  },
  {
   "cell_type": "markdown",
   "metadata": {
    "slideshow": {
     "slide_type": "subslide"
    }
   },
   "source": [
    "### Research Question\n",
    "* **What are the distributional effects of monetary policy across socioeconomic groups in the US?**\n",
    "* **What is the impact of monetary policy on inequality?** "
   ]
  },
  {
   "cell_type": "markdown",
   "metadata": {
    "slideshow": {
     "slide_type": "subslide"
    }
   },
   "source": [
    "### Paper incorporates:  \n",
    "* **New Keynesian sticky price framework (aggregate level)** \n",
    "* **Imperfect consumption insurance and household heterogeneity - 3 dimensions:**\n",
    "    * **current potential productivity if employed**\n",
    "    * **current wealth**\n",
    "    * **current employment**\n",
    "* **Search and matching frictions (labor market)**"
   ]
  },
  {
   "cell_type": "markdown",
   "metadata": {
    "slideshow": {
     "slide_type": "subslide"
    }
   },
   "source": [
    "### Attributes that distinguish the paper\n",
    "* **Extention of an existing incomplete market general equilibrium models** \n",
    "    * **introduction of nominal frictions)**\n",
    "* **Impact of monetary policy on economic activity even if the redistribution of wealth is absent**\n",
    "* **Distributional consequences of the interaction between monetary policy and unemployment**\n",
    "* **Incomplete asset markets**\n",
    "* **Heterogeneity in income and consumption** \n",
    "    * **even under perfect price stability**"
   ]
  },
  {
   "cell_type": "markdown",
   "metadata": {
    "slideshow": {
     "slide_type": "slide"
    }
   },
   "source": [
    "# <center> Overview\n",
    "    \n",
    "   * **Incomplete Markets and heterogeneity**\n",
    "   * **Cashless limit economy and Government**\n",
    "   * **Mutual Fund and 4 types of firms**\n",
    "   * **Aggregate State Variables**\n",
    "   * **Heterogeneous Household**\n",
    "   * **Timing Assumptions**\n",
    "    "
   ]
  },
  {
   "cell_type": "markdown",
   "metadata": {
    "slideshow": {
     "slide_type": "subslide"
    }
   },
   "source": [
    "### Incomplete Markets and Heterogeneity\n",
    "\n",
    "* **Labor market search and matching frictions (Mortensen and Pissaridis, 1994)**\n",
    "* **Heterogeneous agent circumstances (Nakajima, 2012 and Krusell et al., 2010)**\n",
    "* **Producers** \n",
    "    * **Monopolistically competitive** \n",
    "    * **Face quadratic adjustment costs (Rotemberg 1982)**"
   ]
  },
  {
   "cell_type": "markdown",
   "metadata": {
    "slideshow": {
     "slide_type": "subslide"
    }
   },
   "source": [
    "### Cashless limit economy and Government\n",
    "\n",
    "* **Government balances budget on a period-by-period basis** \n",
    "* **Assumption - cashless-limit economy**\n",
    "    * **Government does not finance its budget through seigniorage**"
   ]
  },
  {
   "cell_type": "markdown",
   "metadata": {
    "slideshow": {
     "slide_type": "subslide"
    }
   },
   "source": [
    "### Mutual Fund and 4 Types of Firms\n",
    "\n",
    "* **A representative mutual fund manages all assets**\n",
    "* **The model has 4 types of firms:**\n",
    "    * **Capital producers** \n",
    "        * **invest in physical capital - competitive market**\n",
    "    * **Labor agencies**\n",
    "        * **hire households - homogeneous labor service**\n",
    "    * **Intermediate-good producers** \n",
    "        * **produce a differentiated good - adjustment costs**\n",
    "    * **Final good producers \n",
    "        * **representative competitive firms**"
   ]
  },
  {
   "cell_type": "markdown",
   "metadata": {
    "slideshow": {
     "slide_type": "subslide"
    }
   },
   "source": [
    "### Aggregate State Variables\n",
    "\n",
    "**Vector of aggregate state variables - X = (K, N, Z, D, $\\mu$)**\n",
    "* **K - aggregate capital stock**\n",
    "* **N - total employment**\n",
    "* **2 shocks for cyclical fluctuations in the model:**\n",
    "    * **Z - the aggregate productivity shock**\n",
    "    * **D - the monetary policy shock**\n",
    "    * **$\\mu=(e, s, a) \\in \\mathcal{M}$ - type distribution fof households**"
   ]
  },
  {
   "cell_type": "markdown",
   "metadata": {
    "slideshow": {
     "slide_type": "subslide"
    }
   },
   "source": [
    "### Heterogeneous Households (e, s, a)\n",
    "\n",
    "**Households are heterogeneours in 3 aspects**\n",
    "\n",
    "* $\\boldsymbol{e \\in\\{0,1\\}}$ **- Employment status (0: unemployed, 1: employed)**\n",
    "* $\\boldsymbol{s \\in S}$ **- Exogeneous household skill level**\n",
    "* $\\boldsymbol{a \\in A \\subseteq \\mathbb{R}^{+}}$ **- Share holdings of a household in the mutual funds**"
   ]
  },
  {
   "cell_type": "markdown",
   "metadata": {
    "slideshow": {
     "slide_type": "subslide"
    }
   },
   "source": [
    "### Timing Assumptions\n",
    "\n",
    "**1. Households know their employment status, skill level & state of economy** \\\n",
    "**2. Transition: households lose jobs with exogeneous probability** $\\boldsymbol{\\lambda}$\\\n",
    "**3. Unemployed households search for jobs and are matched to vacancies**\\\n",
    "**4. Household consumption and saving decision, and the production process**\\\n",
    "**5. Aggregate shocks**"
   ]
  },
  {
   "cell_type": "markdown",
   "metadata": {
    "slideshow": {
     "slide_type": "fragment"
    }
   },
   "source": [
    "<img src=\"Figure1.png\" width=\"550\"/>"
   ]
  },
  {
   "cell_type": "markdown",
   "metadata": {
    "slideshow": {
     "slide_type": "notes"
    }
   },
   "source": [
    "**There are laws of motion outlines in the paper as well**"
   ]
  },
  {
   "cell_type": "markdown",
   "metadata": {
    "slideshow": {
     "slide_type": "slide"
    }
   },
   "source": [
    "# <center> The Model\n",
    "    \n",
    "   * **The New Keynesian model with search and matching frictions and heterogeneity in a nonlinear framework** \n",
    "   * **DSGE model incorporating** \n",
    "       * **an incomplete asset markets** \n",
    "       * **a frictional labor market** \n",
    "       * **nominal frictions**"
   ]
  },
  {
   "cell_type": "markdown",
   "metadata": {
    "slideshow": {
     "slide_type": "subslide"
    }
   },
   "source": [
    "### Households\n",
    "\n",
    "**2 types of problems: employed and unemployed household**"
   ]
  },
  {
   "cell_type": "markdown",
   "metadata": {
    "slideshow": {
     "slide_type": "skip"
    }
   },
   "source": [
    "* **Time separable utility**\n",
    "* **Currently employed household keeps its job in the next period with probability 1-**$\\boldsymbol{\\lambda}$\n",
    "* **Households without a job always search for employment**\n",
    "* **The job finding rate depends on the state of the economy**"
   ]
  },
  {
   "cell_type": "markdown",
   "metadata": {
    "slideshow": {
     "slide_type": "fragment"
    }
   },
   "source": [
    "**1. Problem of a household employed at the 4th stage (production, consumption, saving): e = 1**\n",
    "\n",
    "\\begin{aligned}\n",
    "&\\begin{array}{l}\n",
    "   \\boldsymbol{W(X, 1, s, a)= max _{c, a^{\\prime} \\geq 0}\\left\\{u(c)+\\beta \\mathbb{E}\\left[\\left(1-\\lambda+\\lambda f\\left(\\widetilde{X}^{\\prime}\\right)\\right) W\\left(X^{\\prime}, 1, s^{\\prime}, a^{\\prime}\\right)+\\lambda\\left(1-f\\left(\\tilde{X}^{\\prime}\\right)\\right) W\\left(X^{\\prime}, 0, s^{\\prime}, a^{\\prime}\\right)\\right]\\right\\}}\n",
    "\\end{array}\\\\\n",
    "&\\text { s.t. } \\boldsymbol{\\quad c+p_{a}(X) a^{\\prime}=\\left(p_{a}(X)+d_{a}(X)\\right) a+w(X) s(1-\\tau(X))}\n",
    "\\end{aligned}"
   ]
  },
  {
   "cell_type": "markdown",
   "metadata": {
    "slideshow": {
     "slide_type": "fragment"
    }
   },
   "source": [
    "\n",
    "    \n",
    "* **c: consumption**\n",
    "* $\\boldsymbol{a^{\\prime}}$**: number of share holdings**\n",
    "* $\\boldsymbol{f\\left(\\widetilde{X}^{\\prime}\\right)}$**: the job finding rate**\n",
    "* $\\boldsymbol{p_{a}(X)}$**: the price of share**\n",
    "* $\\boldsymbol{d_{a}(X)}$**: dividends**\n",
    "* $\\boldsymbol{w(X)}$**: wage**\n",
    "* $\\boldsymbol{\\tau(X)}$**: the payroll tax rate** "
   ]
  },
  {
   "cell_type": "markdown",
   "metadata": {
    "slideshow": {
     "slide_type": "subslide"
    }
   },
   "source": [
    "**2. The problem of a household unemployed at the 4th stage (production, consumption, saving): e = 0 (same skill & wealth level)**\n",
    "\n",
    "\\begin{array}{l}\n",
    "\\boldsymbol{W(X, 0, s, a)=\\max _{c, a^{\\prime} \\geq 0}\\left\\{u(c)+\\beta \\mathbb{E}\\left[f\\left(\\tilde{X}^{\\prime}\\right) W\\left(X^{\\prime}, 1, s^{\\prime}, a^{\\prime}\\right)+\\left(1-f\\left(\\tilde{X}^{\\prime}\\right)\\right) W\\left(X^{\\prime}, 0, s^{\\prime}, a^{\\prime}\\right)\\right]\\right\\}} \\\\\n",
    "\\text { s.t. } \\boldsymbol{\\quad c+p_{a}(X) a^{\\prime}=\\left(p_{a}(X)+d_{a}(X)\\right) a+b s}\n",
    "\\end{array}"
   ]
  },
  {
   "cell_type": "markdown",
   "metadata": {
    "slideshow": {
     "slide_type": "fragment"
    }
   },
   "source": [
    "* **b: unemployment insurance benefit per efficiency unity of labor**"
   ]
  },
  {
   "cell_type": "markdown",
   "metadata": {
    "slideshow": {
     "slide_type": "subslide"
    }
   },
   "source": [
    "### Final Good Producer\n",
    "\n",
    "* **Representative competitive final goods sector**\n",
    "* **Used for consumption, investment and vacancy creation**\n",
    "* **Constant elasticity of substitution production technology**\n",
    "* **differentiated products as inputs**\n",
    "* **each input intermediate good price taken as given**\n",
    "* **Dixit-Stiglitz demand functions for intermediate goods**"
   ]
  },
  {
   "cell_type": "markdown",
   "metadata": {
    "slideshow": {
     "slide_type": "fragment"
    }
   },
   "source": [
    "**Representative final good producer's problem:** \n",
    "\n",
    "\\begin{array}{l}\n",
    "\\max _{y, y_{j \\in[0,1]}} &P(X) y-\\int_{0}^{1} P_{j} y_{j} d j \\\\\n",
    "\\text { s.t. } \\quad &y=\\left(\\int_{0}^{1} y_{j}^{\\frac{\\epsilon-1}{\\epsilon}} d j\\right)^{\\frac{\\epsilon}{\\epsilon-1}}\n",
    "\\end{array}\n",
    "\n"
   ]
  },
  {
   "cell_type": "markdown",
   "metadata": {
    "slideshow": {
     "slide_type": "fragment"
    }
   },
   "source": [
    "**where** $\\boldsymbol{P(X)=\\left(\\int_{0}^{1} P_{j}^{1-\\epsilon} d j\\right)^{\\frac{1}{1-\\epsilon}}}$ **is the price of the final good**\n",
    "\n",
    "* $\\boldsymbol{j \\in[0,1]z}$**: type of intermediate goods**\n",
    "* $\\boldsymbol{y_{j}}$**: the quantity of intermediate good j**"
   ]
  },
  {
   "cell_type": "markdown",
   "metadata": {
    "slideshow": {
     "slide_type": "subslide"
    }
   },
   "source": [
    "### Intermediate Good Producer\n",
    "\n",
    "* **Monopolistic competition**\n",
    "* **Cobb-Douglas Production technology**\n",
    "* **Nominal price subject to Rotemberg (1982) adjustment costs** \n",
    "    * **(Nominal rigidities)**"
   ]
  },
  {
   "cell_type": "markdown",
   "metadata": {
    "slideshow": {
     "slide_type": "fragment"
    }
   },
   "source": [
    "**Intermediate good producer's problem:**\n",
    "\n",
    "\\begin{array}{c}\n",
    "\\boldsymbol{J_{I}\\left(X, P_{j,-1}\\right)=\\max _{P_{j}, \\ell_{j}, k_{j}} y_{j}\\left(X, P_{j}\\right)\\left(\\frac{P_{j}}{P(X)}-\\frac{\\phi_{\\Pi}}{2}\\left(\\frac{P_{j}}{P_{j,-1}}-\\bar{\\Pi}\\right)^{2}\\right)-r(X) k_{j}-h(X) \\ell_{j}+\\mathbb{E}\\left[Q\\left(X, X^{\\prime}\\right) J_{I}\\left(X^{\\prime}, P_{j}\\right)\\right]} \\\\\n",
    "\\text { s.t. } \\boldsymbol{\\quad y_{j}\\left(X, P_{j}\\right)=Z k_{j}^{\\theta} \\ell_{j}^{1-\\theta}}\n",
    "\\end{array}"
   ]
  },
  {
   "cell_type": "markdown",
   "metadata": {
    "slideshow": {
     "slide_type": "fragment"
    }
   },
   "source": [
    "* **h(X): labor services**\n",
    "* **r(X): capital services**\n",
    "* $\\boldsymbol{y_{j}\\left(X, P_{j}\\right)}$**: firm's Dixit-Stiglitz demand function**\n",
    "* $\\boldsymbol{\\bar{\\Pi}}$**: steady state inflation rate**\n",
    "* **Z: total factor productivity (TFP)**\n",
    "    * **follows a first-order autoregressive process:**\n",
    "    \\begin{array}\n",
    "    \\log \\left(Z^{\\prime}\\right)=\\left(1-\\rho_{Z}\\right) \\log (\\bar{Z})+\\rho_{Z} \\log (Z)+\\epsilon_{Z}, \\text { where } \\epsilon_{Z} \\text { is i.i.d. } N\\left(0, \\sigma_{Z}^{2}\\right), \\rho_{Z} \\in[0,1)\n",
    "    \\end{array}"
   ]
  },
  {
   "cell_type": "markdown",
   "metadata": {
    "slideshow": {
     "slide_type": "subslide"
    }
   },
   "source": [
    "### Capital-Producing Sector\n",
    "\n",
    "**The problem of a representative capital-producing firm:**\n",
    "\n",
    "\\begin{array}{l}\n",
    "\\boldsymbol{J_{K}(X, K)=\\max _{v, i, K^{\\prime}}\\left\\{r(X) K v-i+\\mathbb{E}\\left[Q\\left(X, X^{\\prime}\\right) J_{K}\\left(X^{\\prime}, K^{\\prime}\\right)\\right]\\right\\}} \\\\\n",
    "\\text { s.t. } \\boldsymbol{\\quad K^{\\prime}=(1-\\delta(v)) K+\\zeta\\left(\\frac{i}{K}\\right) K}\n",
    "\\end{array}"
   ]
  },
  {
   "cell_type": "markdown",
   "metadata": {
    "slideshow": {
     "slide_type": "fragment"
    }
   },
   "source": [
    "* **i: capital investment**\n",
    "* **v: capacity utilization**\n",
    "* $\\boldsymbol{\\delta(v)}$**: depreciation of capital stock**"
   ]
  },
  {
   "cell_type": "markdown",
   "metadata": {
    "slideshow": {
     "slide_type": "subslide"
    }
   },
   "source": [
    "### Labor Market\n",
    "\n",
    "* **sells labor services to the intermediate goods sector**\n",
    "* **labor agencies can only be matched with one household**\n",
    "* **Probability 1-$\\boldsymbol{\\lambda}$: match between a labor agency and its household**\n",
    "* **Search and matching frictions**\n",
    "* **Cobb-Douglas Matching function:** \n",
    "\\begin{array}\n",
    "\\boldsymbol{M(\\widetilde{X}, V)=\\gamma(U(\\tilde{X})+\\lambda N(\\tilde{X}))^{\\alpha} V^{1-\\alpha}}\n",
    "\\end{array}\n",
    "* **A vacancy cost** $\\boldsymbol{\\kappa}$: \n",
    "\\begin{array}\n",
    "\\boldsymbol{\\kappa=\\frac{M(\\tilde{X}, V)}{V} \\int_{\\mathcal{M}} J_{L}(\\hat{G}(\\tilde{X}), s) d \\mu}\n",
    "\\end{array}\n",
    "\n"
   ]
  },
  {
   "cell_type": "markdown",
   "metadata": {
    "slideshow": {
     "slide_type": "fragment"
    }
   },
   "source": [
    "**Value of a labor agency employing s skill level household:**\n",
    "\n",
    "\\begin{array}{J}\n",
    "\\boldsymbol{J_{L}(X, s)=(h(X)-w(X)) s+\\mathbb{E}\\left[Q\\left(X, X^{\\prime}\\right)(1-\\lambda) J_{L}\\left(X^{\\prime}, s^{\\prime}\\right)\\right]}\n",
    "\\end{array}"
   ]
  },
  {
   "cell_type": "markdown",
   "metadata": {
    "slideshow": {
     "slide_type": "fragment"
    }
   },
   "source": [
    "* **w(X): wage per efficiency unit**\n",
    "* $\\boldsymbol{Q\\left(X, X^{\\prime}\\right)}$**: stochastic discount factor**"
   ]
  },
  {
   "cell_type": "markdown",
   "metadata": {
    "slideshow": {
     "slide_type": "subslide"
    }
   },
   "source": [
    "### Mutual Fund\n",
    "\n",
    "* **Households hold assets in the shares in mutual funds**\n",
    "* **5 types of assets**\n",
    "    * **Equity associated with intermedaite goods producers, final goods producers, capital service producers, and labor service producers**\n",
    "    * **Bonds - mutual funds can trade with each other**\n",
    "* **The Central Bank controls rate of return**"
   ]
  },
  {
   "cell_type": "markdown",
   "metadata": {
    "slideshow": {
     "slide_type": "fragment"
    }
   },
   "source": [
    "* **Equilibrium price of bonds:**\n",
    "\\begin{array}{p}\n",
    "\\boldsymbol{p_{b}(X)=\\mathbb{E}\\left[Q\\left(X, X^{\\prime}\\right) \\frac{1}{\\Pi\\left(X^{\\prime}\\right)}\\right]}\n",
    "\\end{array}\n",
    "* **Bond investment decision:**\n",
    "\\begin{array}{1}\n",
    "\\boldsymbol{1=\\mathbb{E}\\left[Q\\left(X, X^{\\prime}\\right) \\frac{R(X)}{\\Pi\\left(X^{\\prime}\\right)}\\right]}\n",
    "\\end{array}\n",
    "* **Dividends per share:** \n",
    "\\begin{aligned}\n",
    "d_{a}(X)=& \\int_{0}^{1}\\left[y_{j}(X) \\frac{P_{j}(X)}{P(X)}-r(X) k_{j}(X)-h(X) \\ell_{j}(X)\\right] d j + r(X) K(X) v(X)-i(X) +\\int_{\\mathcal{M}}(h(X)-w(X)) s d \\mu-\\kappa V(\\tilde{X})\n",
    "\\end{aligned}"
   ]
  },
  {
   "cell_type": "markdown",
   "metadata": {
    "slideshow": {
     "slide_type": "subslide"
    }
   },
   "source": [
    "### The Central Bank\n",
    "\n",
    "* **Monetary policy - Taylor(1993)-type rule:**\n",
    "\\begin{aligned}\n",
    "\\boldsymbol{\\log \\left(\\frac{R(X)}{\\bar{R}}\\right)=\\rho_{\\Pi} \\log \\left(\\frac{\\Pi(X)}{\\bar{\\Pi}}\\right)+\\rho_{y} \\log \\left(\\frac{y}{\\bar{y}}\\right)+D}\n",
    "\\end{aligned}\n",
    "* $\\boldsymbol{\\bar{\\Pi}}$**: inflation target**\n",
    "* $\\boldsymbol{\\bar{y}}$**: output target**\n",
    "* **D: Persistent monetary policy shocks**\n",
    "    * **follows a first-order autogregressive process:**\n",
    "    \\begin{aligned}\n",
    "    \\boldsymbol{\\log \\left(D^{\\prime}\\right)=\\rho_{D} \\log (D)+\\epsilon_{D}, \\text { where } \\epsilon_{D} \\text { is i.i.d. } N\\left(0, \\sigma_{D}^{2}\\right), \\rho_{D} \\in[0,1)}\n",
    "    \\end{aligned}"
   ]
  },
  {
   "cell_type": "markdown",
   "metadata": {
    "slideshow": {
     "slide_type": "notes"
    }
   },
   "source": [
    "### Market Equilibrium\n",
    "\n",
    "**The model consists of 6 markets:**\n",
    "* **final goods**\n",
    "* **intermediate goods**\n",
    "* **labor services**\n",
    "* **capital services**\n",
    "* **share of mutual funds**\n",
    "* **bonds**\n",
    "\n",
    "**The paper describes multiple market clearing conditions and defines a recursive equilibrium**"
   ]
  },
  {
   "cell_type": "markdown",
   "metadata": {
    "slideshow": {
     "slide_type": "slide"
    }
   },
   "source": [
    "# <center> Computation\n",
    "    \n",
    "* **Sample of time period: 1984Q1 - 2008Q3** \n",
    "* **Solution method of an equilibrium with undertainty - described in Appendix B** \n",
    "* **Once calibrated model is solved numerically** \n"
   ]
  },
  {
   "cell_type": "markdown",
   "metadata": {
    "slideshow": {
     "slide_type": "subslide"
    }
   },
   "source": [
    "### Following table presents the calibration parameter values \n",
    "<img src=\"Table1.png\" width=\"550\"/>"
   ]
  },
  {
   "cell_type": "markdown",
   "metadata": {
    "slideshow": {
     "slide_type": "subslide"
    }
   },
   "source": [
    "### Transition Probabilities between different skill levels\n",
    "\n",
    "<img src=\"Table2.png\" width=\"350\"/>"
   ]
  },
  {
   "cell_type": "markdown",
   "metadata": {
    "slideshow": {
     "slide_type": "slide"
    }
   },
   "source": [
    "# <center> Results\n",
    "    \n",
    "**Note:** \n",
    "   * **Here we only present monetary policy shock**\n",
    "   * **Paper also includes a technology (TFP) shock**"
   ]
  },
  {
   "cell_type": "markdown",
   "metadata": {
    "slideshow": {
     "slide_type": "subslide"
    }
   },
   "source": [
    "# Response of the aggregate economy\n",
    "\n",
    "**Contractionary monetary policy shock**\n",
    "\n",
    "### Output and Components\n",
    "\n",
    "* **Expected long real rate of interest rises (by design)**\n",
    "* **Households save more and cut consumption by 0.3 %**\n",
    "* **Markups of intermediate goods firms increases and aggregate demand falls**\n",
    "* **Investment and capacity utilization falls**\n"
   ]
  },
  {
   "cell_type": "markdown",
   "metadata": {
    "slideshow": {
     "slide_type": "fragment"
    }
   },
   "source": [
    "<img src=\"Figure9.png\" width=\"700\"/>\n"
   ]
  },
  {
   "cell_type": "markdown",
   "metadata": {
    "slideshow": {
     "slide_type": "subslide"
    }
   },
   "source": [
    "### Labor Market\n",
    "\n",
    "* **Monetary policy tightening reduces demand for labor services**\n",
    "* **Hiring, vacancy posting and job finding rates fall** \n",
    "* **Unemployment rate increases by 1.5 %**"
   ]
  },
  {
   "cell_type": "markdown",
   "metadata": {
    "slideshow": {
     "slide_type": "fragment"
    }
   },
   "source": [
    "<img src=\"Figure10.png\" width=\"700\"/>"
   ]
  },
  {
   "cell_type": "markdown",
   "metadata": {
    "slideshow": {
     "slide_type": "subslide"
    }
   },
   "source": [
    "### Productivity and Prices\n",
    "\n",
    "* **The rental rates for labor and capital services fall**\n",
    "* **Inflation decreases by 2 %**\n",
    "* **Increase in the long term real rate of interest decreases inflation**\n",
    "* **long term real rate of interest higher than usual**"
   ]
  },
  {
   "cell_type": "markdown",
   "metadata": {
    "slideshow": {
     "slide_type": "fragment"
    }
   },
   "source": [
    "<img src=\"Figure11.png\" width=\"700\"/>\n",
    "\n"
   ]
  },
  {
   "cell_type": "markdown",
   "metadata": {
    "slideshow": {
     "slide_type": "subslide"
    }
   },
   "source": [
    "### Assets\n",
    "\n",
    "* **Share price declines**\n",
    "* **Investment becomes less profitable**"
   ]
  },
  {
   "cell_type": "markdown",
   "metadata": {
    "slideshow": {
     "slide_type": "fragment"
    }
   },
   "source": [
    "<img src=\"Figure12.png\" width=\"700\"/>"
   ]
  },
  {
   "cell_type": "markdown",
   "metadata": {
    "slideshow": {
     "slide_type": "subslide"
    }
   },
   "source": [
    "# Effect on Inequality\n",
    "\n",
    "**Contractionary monetary policy shock - different segments of households**\n",
    "\n",
    "* **The initial drop in labor income is the biggest for higher wealth percentiles**\n",
    "* **Monetary policy significantly impacts composition of income**\n",
    "* **Income of high-wealth household rises strongly**\n",
    "    * **an increase in dividends**\n",
    "* **Income of lower-wealth households declines**\n",
    "* **Difference in the responce of income between the top 5% and the bottom 5% is very significant, 7%**\n",
    "    * **income heterogeneity**\n",
    "* **Consumption declines for the lower-wealth households** \n",
    "    * **stable for the wealthiest**"
   ]
  },
  {
   "cell_type": "markdown",
   "metadata": {
    "slideshow": {
     "slide_type": "fragment"
    }
   },
   "source": [
    "<img src=\"Figure13.png\" width=\"700\"/>"
   ]
  },
  {
   "cell_type": "markdown",
   "metadata": {
    "slideshow": {
     "slide_type": "subslide"
    }
   },
   "source": [
    "### Gini Indexes\n",
    "\n",
    "* **Earnings Gini rises by 0.6 % (persistent)**\n",
    "* **Both the income and consumption Gini rise** \n",
    "* **Conclusion:** \n",
    "    * **even a short-lived monetary policy intervention has a persistent impact** \n",
    "        * **wealth and consumption inequality**"
   ]
  },
  {
   "cell_type": "markdown",
   "metadata": {
    "slideshow": {
     "slide_type": "fragment"
    }
   },
   "source": [
    "<img src=\"Figure14.png\" width=\"700\"/>"
   ]
  },
  {
   "cell_type": "markdown",
   "metadata": {
    "slideshow": {
     "slide_type": "subslide"
    }
   },
   "source": [
    "# Wealth Effects of Productivity and Monetary Policy Shocks\n",
    "\n",
    "**Note: same information from a different perspective**\n",
    "* **Welfare gains and costs measured as consumption**\n",
    "* **Conclusion - monetary policy shock:**\n",
    "    * **5% richest households gain 0.02% consumption-equivalent** \n",
    "    * **Rest of the households have welfare losses** \n",
    "    * **Monotonic in wealth**"
   ]
  },
  {
   "cell_type": "markdown",
   "metadata": {
    "slideshow": {
     "slide_type": "fragment"
    }
   },
   "source": [
    "<img src=\"Table7.png\" width=\"450\"/>"
   ]
  },
  {
   "cell_type": "markdown",
   "metadata": {
    "slideshow": {
     "slide_type": "slide"
    }
   },
   "source": [
    "# <center> Conclusion\n",
    "    \n",
    "**A contractionary monetary policy shock** \n",
    "* **significantly different implications for different segments of households** \n",
    "* **Households in the top 5% of wealth distribution see benefits**\n",
    "* **The bottom 5% of wealth distribution faces loses** \n",
    "* **Increases earnings, income, wealth and consumption heterogeneity**\n",
    "* **Contractionary monetary policy only benefits the wealthiest**\n",
    "\n",
    "**Effects significant - even after the impact of monetary policy on aggregate economy has died out**\n",
    "\n",
    "* **TFP shocks affect the population more uniformly**"
   ]
  },
  {
   "cell_type": "markdown",
   "metadata": {
    "slideshow": {
     "slide_type": "slide"
    }
   },
   "source": [
    "# <center> References\n",
    "    \n",
    "**Gornemann, N., Kuester, K., & Nakajima, M. (2012). Monetary Policy with Heterogeneous Agents. SSRN Electronic Journal. https://www.philadelphiafed.org/-/media/research-and-data/publications/working-papers/2012/wp12-21.pdf?la=en**"
   ]
  }
 ],
 "metadata": {
  "celltoolbar": "Slideshow",
  "kernelspec": {
   "display_name": "Python 3",
   "language": "python",
   "name": "python3"
  },
  "language_info": {
   "codemirror_mode": {
    "name": "ipython",
    "version": 3
   },
   "file_extension": ".py",
   "mimetype": "text/x-python",
   "name": "python",
   "nbconvert_exporter": "python",
   "pygments_lexer": "ipython3",
   "version": "3.7.3"
  }
 },
 "nbformat": 4,
 "nbformat_minor": 2
}
