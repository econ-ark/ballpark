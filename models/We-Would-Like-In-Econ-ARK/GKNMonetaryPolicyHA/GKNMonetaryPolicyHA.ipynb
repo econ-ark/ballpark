{
 "cells": [
  {
   "cell_type": "markdown",
   "metadata": {},
   "source": [
    "# Gornemann, Kuester, Nakajima (2012) "
   ]
  },
  {
   "cell_type": "markdown",
   "metadata": {},
   "source": [
    "# <strong>[\"Monetary Policy with Heterogeneous Agents\"](https://www.philadelphiafed.org/-/media/research-and-data/publications/working-papers/2012/wp12-21.pdf?la=en)"
   ]
  },
  {
   "cell_type": "markdown",
   "metadata": {},
   "source": [
    "* Notebook created by Nino Kodua\n",
    "* October 20, 2020"
   ]
  },
  {
   "cell_type": "markdown",
   "metadata": {},
   "source": [
    "# Summary"
   ]
  },
  {
   "cell_type": "markdown",
   "metadata": {},
   "source": [
    "There is an evidence that even with the low interest rates, monetary policy shocks affect the level of aggegate acitivity, and the distribution of income and consumption across households. This paper analyzes the distributional effects of wealth across socioeconomic groups. It incorporates:\n",
    "* New Keynesian sticky price framework (aggregate level)\n",
    "* Imperfect consumption insurance and household heterogeneity - 3 dimensions:\n",
    "    * current potential productivity if employed\n",
    "    * current wealth\n",
    "    * current employment\n",
    "* Search and matching frictions (labor market)\n",
    "\n",
    "\n",
    "Main contributions and attibutes of the paper that differentiate it from the existing literature include:\n",
    "* Extention of an existing incomplete market general equilibrium models (introduction of nominal frictions)\n",
    "* Impact of monetary policy on economic activity even if the redistribution of wealth is absent\n",
    "* Distributional consequences of the interaction between monetary policy and unemployment\n",
    "* Incomplete asset markets\n",
    "* Heterogeneity in income and consumption even under perfect price stability\n",
    "* While there is an extensive amount of literature on the redistribution consequences of fiscal policies, the literature on the wealth redistribution consequences of monetary policy is limited\n",
    "    "
   ]
  },
  {
   "cell_type": "markdown",
   "metadata": {},
   "source": [
    "# Overview"
   ]
  },
  {
   "cell_type": "markdown",
   "metadata": {},
   "source": [
    "The goal of the paper is to establish the extent to which monetary policy in the US might have distributional effects through the channels included in the model, as well as the impact of monetary policy on inequality."
   ]
  },
  {
   "cell_type": "markdown",
   "metadata": {},
   "source": [
    "### Incomplete Markets and heterogeneity"
   ]
  },
  {
   "cell_type": "markdown",
   "metadata": {},
   "source": [
    "In order to introduce earnings heterogeneity, the model introduces labor market search and matching frictions (Mortensen and Pissaridis, 1994) into the heterogeneous agent circumstances (Nakajima, 2012 and Krusell et al., 2010). Producers are monopolistically competitive and face quadratic adjustment costs (Rotemberg 1982)."
   ]
  },
  {
   "cell_type": "markdown",
   "metadata": {},
   "source": [
    "### Cashless limit economy and Government"
   ]
  },
  {
   "cell_type": "markdown",
   "metadata": {},
   "source": [
    "Government balances budget on a period-by-period basis. Furthermore, assumption is that we have a cashless-limit economy. These two imply that government does not finance its budget through seigniorage. "
   ]
  },
  {
   "cell_type": "markdown",
   "metadata": {},
   "source": [
    "### Mutual Fund and 4 types of firms"
   ]
  },
  {
   "cell_type": "markdown",
   "metadata": {},
   "source": [
    "A representative mutual fund manages all assets. The model has 4 types of firms:\n",
    "* Capital producers (invest in physical capital - competitive market)\n",
    "* Labor agencies (hire households - homogeneous labor service)\n",
    "* Intermediate-good producers (produce a differentiated good - adjustment costs)\n",
    "* Final good producers (representative competitive firms)"
   ]
  },
  {
   "cell_type": "markdown",
   "metadata": {},
   "source": [
    "### Aggregate State Variables"
   ]
  },
  {
   "cell_type": "markdown",
   "metadata": {},
   "source": [
    "Vector of aggregate state variables - X = (K, N, Z, D, $\\mu$)\n",
    "* K - aggregate capital stock\n",
    "* N - total employment\n",
    "* 2 shocks for cyclical fluctuations in the model:\n",
    "    * Z - the aggregate productivity shock\n",
    "    * D - the monetary policy shock\n",
    "    * $\\mu=(e, s, a) \\in \\mathcal{M}$ - type distribution fof households"
   ]
  },
  {
   "cell_type": "markdown",
   "metadata": {},
   "source": [
    "### Heterogeneous Households (e, s, a)"
   ]
  },
  {
   "cell_type": "markdown",
   "metadata": {},
   "source": [
    "Households are heterogeneous in 3 aspects. A household either works full time or does not work, has a skill level and saves for the future in the mutual fund.\n",
    "* $e \\in\\{0,1\\}$ - Employment status (0: unemployed, 1: employed)\n",
    "* $s \\in S$ - Exogeneous household skill level\n",
    "* $a \\in A \\subseteq \\mathbb{R}^{+}$ - Share holdings of a household in the mutual funds."
   ]
  },
  {
   "cell_type": "markdown",
   "metadata": {},
   "source": [
    "### Timing assumptions"
   ]
  },
  {
   "attachments": {},
   "cell_type": "markdown",
   "metadata": {},
   "source": [
    "1. When households start the period the have information about their employment status, skill level and state of economy.\n",
    "2. Afterwards, there is a transition - household lose their jobs with exogeneous probability $\\lambda$.\n",
    "3. Newly employed households - unemployed households search for jobs and are matched to firm vacancies. \n",
    "4. Household consumption and saving decision, and the production process.\n",
    "5. Aggregate shocks\n",
    "\n",
    "There are laws of motion outlined in the paper as well.\n",
    "\n",
    "<img src=\"Figure1.png\" width=\"550\"/>"
   ]
  },
  {
   "cell_type": "markdown",
   "metadata": {},
   "source": [
    "# The Model"
   ]
  },
  {
   "cell_type": "markdown",
   "metadata": {},
   "source": [
    "The paper analyzes the New Keynesian model with search and matching frictions and heterogeneity in a nonlinear framework.  \n",
    "\n",
    "* DSGE model incorporating an incomplete asset markets, a frictional labor market and nominal frictions"
   ]
  },
  {
   "cell_type": "markdown",
   "metadata": {},
   "source": [
    "### Households"
   ]
  },
  {
   "cell_type": "markdown",
   "metadata": {},
   "source": [
    "* time separable utility\n",
    "* Currently employed household keeps its job in the next period with the probability 1-$\\lambda$\n",
    "* Households without a job always search for employment\n",
    "* The job finding rate depends on the state of the economy  \n",
    "\n",
    "We have 2 types of problems: employed and unemployed household.\n",
    "\n",
    "1. The problem of a household employed at the 4th stage (production, consumption, saving): e = 1\n",
    "\n",
    "\\begin{aligned}\n",
    "&\\begin{array}{l}\n",
    "   W(X, 1, s, a)= max _{c, a^{\\prime} \\geq 0}\\left\\{u(c)+\\beta \\mathbb{E}\\left[\\left(1-\\lambda+\\lambda f\\left(\\widetilde{X}^{\\prime}\\right)\\right) W\\left(X^{\\prime}, 1, s^{\\prime}, a^{\\prime}\\right)+\\lambda\\left(1-f\\left(\\tilde{X}^{\\prime}\\right)\\right) W\\left(X^{\\prime}, 0, s^{\\prime}, a^{\\prime}\\right)\\right]\\right\\}\n",
    "\\end{array}\\\\\n",
    "&\\text { s.t. } \\quad c+p_{a}(X) a^{\\prime}=\\left(p_{a}(X)+d_{a}(X)\\right) a+w(X) s(1-\\tau(X))\n",
    "\\end{aligned}\n",
    "\n",
    "* c: consumption\n",
    "* $a^{\\prime}$: number of share holdings\n",
    "* $f\\left(\\widetilde{X}^{\\prime}\\right)$: the job finding rate\n",
    "* $p_{a}(X)$: the price of share\n",
    "* $d_{a}(X)$: dividends\n",
    "* $w(X)$: wage\n",
    "* $\\tau(X)$: the payroll tax rate.  "
   ]
  },
  {
   "cell_type": "markdown",
   "metadata": {},
   "source": [
    "2. The problem of a household unemployed at the 4th stage (production, consumption, saving): e = 0 (same skill & wealth level)\n",
    "\n",
    "\\begin{array}{l}\n",
    "W(X, 0, s, a)=\\max _{c, a^{\\prime} \\geq 0}\\left\\{u(c)+\\beta \\mathbb{E}\\left[f\\left(\\tilde{X}^{\\prime}\\right) W\\left(X^{\\prime}, 1, s^{\\prime}, a^{\\prime}\\right)+\\left(1-f\\left(\\tilde{X}^{\\prime}\\right)\\right) W\\left(X^{\\prime}, 0, s^{\\prime}, a^{\\prime}\\right)\\right]\\right\\} \\\\\n",
    "\\text { s.t. } \\quad c+p_{a}(X) a^{\\prime}=\\left(p_{a}(X)+d_{a}(X)\\right) a+b s\n",
    "\\end{array}\n",
    "\n",
    "* b: unemployment insurance benefit per efficiency unity of labor"
   ]
  },
  {
   "cell_type": "markdown",
   "metadata": {},
   "source": [
    "### Final Good Producer"
   ]
  },
  {
   "cell_type": "markdown",
   "metadata": {},
   "source": [
    "* Representative competitive final goods sector\n",
    "* Final goods - used for consumption, investment and vacancy creation\n",
    "* Constant elasticity of substitution production technology\n",
    "* differentiated products as inputs\n",
    "* each input price of intermediate good taken as given\n",
    "* Dixit-Stiglitz demand functions for each intermediate good\n",
    "\n",
    "Representative final good producer's problem: \n",
    "\n",
    "\\begin{array}{l}\n",
    "\\max _{y, y_{j \\in[0,1]}} &P(X) y-\\int_{0}^{1} P_{j} y_{j} d j \\\\\n",
    "\\text { s.t. } \\quad &y=\\left(\\int_{0}^{1} y_{j}^{\\frac{\\epsilon-1}{\\epsilon}} d j\\right)^{\\frac{\\epsilon}{\\epsilon-1}}\n",
    "\\end{array}\n",
    "\n",
    "where $P(X)=\\left(\\int_{0}^{1} P_{j}^{1-\\epsilon} d j\\right)^{\\frac{1}{1-\\epsilon}}$ is the price of the final good .\n",
    "\n",
    "* $j \\in[0,1]$: type of intermediate goods\n",
    "* $y_{j}$: the quantity of intermediate good j"
   ]
  },
  {
   "cell_type": "markdown",
   "metadata": {},
   "source": [
    "### Intermediate Good Producer"
   ]
  },
  {
   "cell_type": "markdown",
   "metadata": {},
   "source": [
    "* buys labor and capital services\n",
    "* sells output to final good firms\n",
    "* Monopolistic competition\n",
    "* Cobb-Douglas Production technology\n",
    "* Nominal price is subject to Rotemberg (1982) adjustment costs (Nominal rigidities)\n",
    "\n",
    "Intermediate good producer's problem:\n",
    "\n",
    "\\begin{array}{c}\n",
    "J_{I}\\left(X, P_{j,-1}\\right)=\\max _{P_{j}, \\ell_{j}, k_{j}} y_{j}\\left(X, P_{j}\\right)\\left(\\frac{P_{j}}{P(X)}-\\frac{\\phi_{\\Pi}}{2}\\left(\\frac{P_{j}}{P_{j,-1}}-\\bar{\\Pi}\\right)^{2}\\right)-r(X) k_{j}-h(X) \\ell_{j}+\\mathbb{E}\\left[Q\\left(X, X^{\\prime}\\right) J_{I}\\left(X^{\\prime}, P_{j}\\right)\\right] \\\\\n",
    "\\text { s.t. } \\quad y_{j}\\left(X, P_{j}\\right)=Z k_{j}^{\\theta} \\ell_{j}^{1-\\theta}\n",
    "\\end{array}\n",
    "\n",
    "* h(X): labor services\n",
    "* r(X): capital services\n",
    "* $P_{j}$: nominal price of intermediate good j\n",
    "* $P_{j,-1}$: price of good j in the previous period\n",
    "* $y_{j}\\left(X, P_{j}\\right)$: firm's Dixit-Stiglitz demand function\n",
    "* $\\bar{\\Pi}$: steady state inflation rate\n",
    "* $\\phi_{\\Pi}>0$: size of the quadratic price adjustment\n",
    "* Z: total factor productivity (TFP)\n",
    "    * follows a first-order autoregressive process:\n",
    "    \\begin{array}\n",
    "    \\log \\left(Z^{\\prime}\\right)=\\left(1-\\rho_{Z}\\right) \\log (\\bar{Z})+\\rho_{Z} \\log (Z)+\\epsilon_{Z}, \\text { where } \\epsilon_{Z} \\text { is i.i.d. } N\\left(0, \\sigma_{Z}^{2}\\right), \\rho_{Z} \\in[0,1)\n",
    "    \\end{array}"
   ]
  },
  {
   "cell_type": "markdown",
   "metadata": {},
   "source": [
    "### Capital-Producing Sector"
   ]
  },
  {
   "cell_type": "markdown",
   "metadata": {},
   "source": [
    "* produces homogeneous good, capital services\n",
    "* sells capital services to the intermediate goods sector\n",
    "\n",
    "The problem of a representative capital-producing firm: \n",
    "\n",
    "\\begin{array}{l}\n",
    "J_{K}(X, K)=\\max _{v, i, K^{\\prime}}\\left\\{r(X) K v-i+\\mathbb{E}\\left[Q\\left(X, X^{\\prime}\\right) J_{K}\\left(X^{\\prime}, K^{\\prime}\\right)\\right]\\right\\} \\\\\n",
    "\\text { s.t. } \\quad K^{\\prime}=(1-\\delta(v)) K+\\zeta\\left(\\frac{i}{K}\\right) K\n",
    "\\end{array}\n",
    "\n",
    "* i: capital investment\n",
    "* v: capacity utilization\n",
    "* $\\delta(v)$: depreciation of capital stock"
   ]
  },
  {
   "cell_type": "markdown",
   "metadata": {},
   "source": [
    "### Labor Market"
   ]
  },
  {
   "cell_type": "markdown",
   "metadata": {},
   "source": [
    "* produces homogeneous good, labor services\n",
    "* sells labor services to the intermediate goods sector\n",
    "* labor agencies can only be matched with one household\n",
    "* Probability 1-$\\lambda$: match between a labor agency and its household\n",
    "* Search and matching frictions\n",
    "* Cobb-Douglas Matching function: \n",
    "\\begin{array}\n",
    "M(\\widetilde{X}, V)=\\gamma(U(\\tilde{X})+\\lambda N(\\tilde{X}))^{\\alpha} V^{1-\\alpha}\n",
    "\\end{array}\n",
    "* A vacancy cost $\\kappa$: \n",
    "\\begin{array}\n",
    "\\kappa=\\frac{M(\\tilde{X}, V)}{V} \\int_{\\mathcal{M}} J_{L}(\\hat{G}(\\tilde{X}), s) d \\mu\n",
    "\\end{array}\n",
    "\n",
    "Value of a labor agency employing s skill level household:\n",
    "\n",
    "\\begin{array}{J}\n",
    "J_{L}(X, s)=(h(X)-w(X)) s+\\mathbb{E}\\left[Q\\left(X, X^{\\prime}\\right)(1-\\lambda) J_{L}\\left(X^{\\prime}, s^{\\prime}\\right)\\right]\n",
    "\\end{array}\n",
    "\n",
    "* w(X): wage per efficiency unit\n",
    "* $Q\\left(X, X^{\\prime}\\right)$: stochastic discount factor"
   ]
  },
  {
   "cell_type": "markdown",
   "metadata": {},
   "source": [
    "### Mutual Fund"
   ]
  },
  {
   "cell_type": "markdown",
   "metadata": {},
   "source": [
    "* Households hold assets in the shares in mutual funds\n",
    "* share are traded in a competitive market\n",
    "* 5 types of assets\n",
    "    * Equity associated with intermedaite goods procuers, final goods producers, capital service producers, and labor service producers\n",
    "    * Bonds - mutual funds can trade with each other\n",
    "* The Central Bank controls rate of return\n",
    "* Equilibrium price of bonds:\n",
    "\\begin{array}{p}\n",
    "p_{b}(X)=\\mathbb{E}\\left[Q\\left(X, X^{\\prime}\\right) \\frac{1}{\\Pi\\left(X^{\\prime}\\right)}\\right]\n",
    "\\end{array}\n",
    "* Bond investment decision:\n",
    "\\begin{array}{1}\n",
    "1=\\mathbb{E}\\left[Q\\left(X, X^{\\prime}\\right) \\frac{R(X)}{\\Pi\\left(X^{\\prime}\\right)}\\right]\n",
    "\\end{array}\n",
    "* Dividends per share: \n",
    "\\begin{aligned}\n",
    "d_{a}(X)=& \\int_{0}^{1}\\left[y_{j}(X) \\frac{P_{j}(X)}{P(X)}-r(X) k_{j}(X)-h(X) \\ell_{j}(X)\\right] d j + r(X) K(X) v(X)-i(X) +\\int_{\\mathcal{M}}(h(X)-w(X)) s d \\mu-\\kappa V(\\tilde{X})\n",
    "\\end{aligned}"
   ]
  },
  {
   "cell_type": "markdown",
   "metadata": {},
   "source": [
    "### The Central Bank"
   ]
  },
  {
   "cell_type": "markdown",
   "metadata": {},
   "source": [
    "* Monetary policy - Taylor(1993)-type rule:\n",
    "\\begin{aligned}\n",
    "\\log \\left(\\frac{R(X)}{\\bar{R}}\\right)=\\rho_{\\Pi} \\log \\left(\\frac{\\Pi(X)}{\\bar{\\Pi}}\\right)+\\rho_{y} \\log \\left(\\frac{y}{\\bar{y}}\\right)+D\n",
    "\\end{aligned}\n",
    "* $\\bar{\\Pi}$: inflation target\n",
    "* $\\bar{y}$: output target\n",
    "* D: Persistent monetary policy shocks\n",
    "    * follows a first-order autogregressive process:\n",
    "    \\begin{aligned}\n",
    "    \\log \\left(D^{\\prime}\\right)=\\rho_{D} \\log (D)+\\epsilon_{D}, \\text { where } \\epsilon_{D} \\text { is i.i.d. } N\\left(0, \\sigma_{D}^{2}\\right), \\rho_{D} \\in[0,1)\n",
    "    \\end{aligned}"
   ]
  },
  {
   "cell_type": "markdown",
   "metadata": {},
   "source": [
    "### Market Equilibrium"
   ]
  },
  {
   "cell_type": "markdown",
   "metadata": {},
   "source": [
    "The model consists of 6 markets: \n",
    "* final goods\n",
    "* intermediate goods\n",
    "* labor services\n",
    "* capital services\n",
    "* share of mutual funds\n",
    "* bonds\n",
    "\n",
    "The paper describes multiple market clearing conditions and defines a recursive equilibrium. "
   ]
  },
  {
   "cell_type": "markdown",
   "metadata": {},
   "source": [
    "# Computation"
   ]
  },
  {
   "cell_type": "markdown",
   "metadata": {},
   "source": [
    "The model is calibrated for the sample of the time period: 1984Q1 - 2008Q3. One period refers to a quarter. \n",
    "\n",
    "The following table shows the calibration parameter values. Once calibrated, the model is solved numerically. \n",
    "* Computation involves a solution method of an equilibrium with aggregate uncertainty (described in Appendix B)\n",
    "\n",
    "<img src=\"Table1.png\" width=\"550\"/>"
   ]
  },
  {
   "cell_type": "markdown",
   "metadata": {},
   "source": [
    "In order to calibrate the model, we also need information about the transition probabilities between different skill levels. Table below describes assigned probabilities.\n",
    "\n",
    "<img src=\"Table2.png\" width=\"350\"/>"
   ]
  },
  {
   "cell_type": "markdown",
   "metadata": {},
   "source": [
    "# Results"
   ]
  },
  {
   "cell_type": "markdown",
   "metadata": {},
   "source": [
    "## Transmission of a Technology Shock (TFP)"
   ]
  },
  {
   "cell_type": "markdown",
   "metadata": {},
   "source": [
    "#### Response of the aggregate economy"
   ]
  },
  {
   "cell_type": "markdown",
   "metadata": {},
   "source": [
    "First, the response of the aggregate economy, including output and its compenents, labor market, prices, and assets, to the TFP shocks is reported. (1% TFP shock in period 1)\n",
    "\n",
    "Figures present responses in the New Keynesian (NK) model and in the economy without nominal rigidities (RBC). \n",
    "\n",
    "Output and Components(Consumption, Investment, Capacity Utilization):\n",
    "\n",
    "* Responses are larger in the NK economy compared to RBC\n",
    "* Output, aggregate consumption and investment rise in response to the shock\n",
    "* Capacity utilization rises more in the NK model due to the stronger demand effect\n",
    "\n",
    "Labor Market:\n",
    "\n",
    "* Demand and price for labor services increases\n",
    "* More vacancies are posted\n",
    "* The job finding rate rises by 3 %\n",
    "* Employment increases due to the TFP shock and unemployment decreases by 0.4 %\n",
    "\n",
    "Productivity and Prices:\n",
    "\n",
    "* Despite the increase in productivity, inflation rises\n",
    "* The aggregate wage rises less than output\n",
    "* The value of household-firm matches increases\n",
    "\n",
    "Assets:\n",
    "\n",
    "* The value of firms increases\n",
    "* The share prices of the mutual fund increases by 0.6 %\n",
    "* During first 10 periods, mutual fund decreases dividend payments\n",
    "* Real return on the bond falls initially"
   ]
  },
  {
   "cell_type": "markdown",
   "metadata": {},
   "source": [
    "#### Effect on Inequality"
   ]
  },
  {
   "cell_type": "markdown",
   "metadata": {},
   "source": [
    "Second, the impact of a productivity shock on inequality is reported. \n",
    "\n",
    "* TFP shock increases the standard of living for all households\n",
    "* Labor-related income rises for all segments of population\n",
    "* Labor earnings of all households are affected proportionally\n",
    "* Labor income increases by a different degree for different segments of wealth\n",
    "* The lowest percentiles of the wealth distribution show stronger response in terms of all income compared to higher percentiles\n",
    "* Consumption response is also heterogeneous\n",
    "* The responces of the Gini indexes is mild\n",
    "    * 1 % TFP shocks results into a fall of the earnings Gini by 0.16 %"
   ]
  },
  {
   "cell_type": "markdown",
   "metadata": {},
   "source": [
    "Note: Here I will not be be displaying figures related to a TFP shock"
   ]
  },
  {
   "cell_type": "markdown",
   "metadata": {},
   "source": [
    "## Transmission of a Monetary Policy Shock"
   ]
  },
  {
   "cell_type": "markdown",
   "metadata": {},
   "source": [
    "#### Response of the aggregate economy"
   ]
  },
  {
   "cell_type": "markdown",
   "metadata": {},
   "source": [
    "The main part of the paper is reported here. More specifically, monetary policy shock allows for a discussion of the impact of monetary policy on inequality. \n",
    "Again, first, the responces of the aggregate economy to a contractionary policy shock is reported. \n",
    "\n",
    "* Monetary shock is chosen in a way that it increases nominal interest rate by 1 %, annual in period 1\n",
    "\n",
    "Output and Components(Consumption, Investment and Capacity Utilization):\n",
    "\n",
    "* Expected long real rate of interest rises (by design)\n",
    "* Households save more and cut consumption by 0.3 %\n",
    "* Markups of intermediate goods firms increases and aggregate demand falls\n",
    "* Investment and capacity utilization falls\n",
    "\n",
    "<img src=\"Figure9.png\" width=\"700\"/>\n",
    "\n",
    "Labor Market: \n",
    "\n",
    "* Monetary policy tightening reduces demand for labor services\n",
    "* Hiring, vacancy posting and job finding rates fall \n",
    "* Unemployment rate increases by 1.5 %\n",
    "* Since households are borrowing-constraines, unemployment decreases aggregate demand even further\n",
    "\n",
    "<img src=\"Figure10.png\" width=\"700\"/>\n",
    "\n",
    "Productivity and Price:\n",
    "\n",
    "* The rental rates for labor and capital services fall\n",
    "* Inflation decreases by 2 %\n",
    "* Increase in the long term real rate of interest decreases inflation\n",
    "* long term real rate of interest higher than usual\n",
    "\n",
    "<img src=\"Figure11.png\" width=\"700\"/>\n",
    "\n",
    "Assets:\n",
    "\n",
    "* Share price declines\n",
    "* Investment becomes less profitable\n",
    "\n",
    "<img src=\"Figure12.png\" width=\"700\"/>\n"
   ]
  },
  {
   "cell_type": "markdown",
   "metadata": {},
   "source": [
    "#### Effect on Inequality"
   ]
  },
  {
   "cell_type": "markdown",
   "metadata": {},
   "source": [
    "Now, the paper reports the impact of a contractionary monetary policy on different segments of households. \n",
    "\n",
    "* The initial drop in labor income is the biggest for higher wealth percentiles\n",
    "* Monetary policy significantly impacts composition of income\n",
    "* Income of high-wealth household rises strongly because of an increase in dividends\n",
    "* Income of lower-wealth households declines\n",
    "* Difference in the responce of income betwee the top 5% and the bottom 5% is very significant, 7% (income heterogeneity)\n",
    "* Consumption declines for the lower-wealth households and is stable for the wealthies\n",
    "\n",
    "<img src=\"Figure13.png\" width=\"700\"/>\n",
    "\n",
    "* As a result of monetary tightening, earnings Gini rises by 0.6 % (persistent)\n",
    "* Both the income and consumption Gini rise \n",
    "* Conclusion: even short-lived monetary policy intervention has a persistent impact on wealth and consumption inequality\n",
    "\n",
    "<img src=\"Figure14.png\" width=\"700\"/>\n",
    "\n"
   ]
  },
  {
   "cell_type": "markdown",
   "metadata": {},
   "source": [
    "## Welfare effects of Productivity and Monetary Policy Shocks"
   ]
  },
  {
   "cell_type": "markdown",
   "metadata": {},
   "source": [
    "The paper reports the same information from a different perspective. In particular, in this section authors analyze welfare gainst and costs measured as consumption. \n",
    "\n",
    "* Monetary policy shock: 5% richest households gain 0.02% consumption-equivalend from the monetary tightening policy. The rest of the households have welfare losses (monotonic in wealth).\n",
    "\n",
    "<img src=\"Table7.png\" width=\"450\"/>"
   ]
  },
  {
   "cell_type": "markdown",
   "metadata": {},
   "source": [
    "# Conclusion"
   ]
  },
  {
   "cell_type": "markdown",
   "metadata": {},
   "source": [
    "The monetary policy shocks have significantly different implications in terms of the welfare of different segments of households. While households in the top 5% of wealth distribution see benefits from a contractionary monetary policy, the bottom 5% of wealth distribution faces loses. Therefore, monetary policy affects different households differently and increases earnings, income, wealth and consumption heterogeneity.\n",
    "\n",
    "* The effects are significant even after the impact of monetary policy on aggregate economy has died out\n",
    "* TFP shocks affect the population more uniformly\n",
    "* Contractionary monetary policy only benefits the wealthies"
   ]
  }
 ],
 "metadata": {
  "kernelspec": {
   "display_name": "Python 3",
   "language": "python",
   "name": "python3"
  },
  "language_info": {
   "codemirror_mode": {
    "name": "ipython",
    "version": 3
   },
   "file_extension": ".py",
   "mimetype": "text/x-python",
   "name": "python",
   "nbconvert_exporter": "python",
   "pygments_lexer": "ipython3",
   "version": "3.7.3"
  }
 },
 "nbformat": 4,
 "nbformat_minor": 2
}
