{
 "cells": [
  {
   "cell_type": "markdown",
   "metadata": {},
   "source": [
    "# Raquel Fernandez (2013, AER)\n"
   ]
  },
  {
   "cell_type": "markdown",
   "metadata": {},
   "source": [
    "## \"Cultural Change as Learning: The Evolution of Female Labor Force Participation over a Century\""
   ]
  },
  {
   "cell_type": "markdown",
   "metadata": {},
   "source": [
    "This notebook is created by Wonsik Ko.  \n"
   ]
  },
  {
   "cell_type": "markdown",
   "metadata": {},
   "source": [
    "### Summary  \n",
    "This paper investigates the role of changes in culture in generating the dramatic increase in married women's labor force participation over the last century. \n",
    "\n",
    "* It develops a dynamic model of culture in which individuals hold heterogeneous beliefs regarding the relative long-run payoffs for women who work in the market versus the home. \n",
    "* These beliefs evolve endogenously via an intergenerational learning process. \n",
    "* It calibrates the model to several key statistics and show that it does a good job in replicating the quantitative evolution of female\n",
    "LFP in the US over the last 120 years. \n",
    "* The model highlights a new dynamic role for changes in wages via their effect on intergenerational learning. "
   ]
  },
  {
   "cell_type": "markdown",
   "metadata": {},
   "source": [
    "### The Model  \n",
    "\n",
    "#### The Work Decision\n",
    "\n",
    "\\begin{align*}\n",
    "U(w_{f}, w_{h}, v_{i})&=\\frac{c^{1-\\gamma}}{1-\\gamma}-\\textbf{1} (E_{i t}v_i)\\\\\n",
    "c = w_h + \\textbf{1} w_f,   v_i &=l_i + B_i , B_i = \\beta + u_i , E(u_i)=0\n",
    "\\end{align*}\n",
    "\n",
    "* $\\textbf{1}$: an indicator function that takes the value one if she works.\n",
    "* $w_f$: a woman's earning\n",
    "* $w_h$: a husband's earning\n",
    "* $l_i$: a known idiosyncratic component of disutility of working with distribution in the population G(l)\n",
    "* $B_i$: an individual-level realization of a random variable that is iid across women\n",
    "* Consumption is a household public good\n",
    "* $\\beta \\in \\{\\beta_H, \\beta_L\\}$, $\\beta_H >\\beta_L \\geq 0$\n",
    "\n",
    "Prior to making her work decision, a woman inherits her mother's private signal $s_i$ that yields information about true $\\beta$.\n",
    "\n",
    "\\begin{align*}\n",
    "s_i = \\beta + \\epsilon_i\n",
    "\\end{align*}\n",
    "where $\\epsilon \\sim N(0,\\sigma_{\\epsilon}^2)$\n",
    "\n",
    "After inheriting her private signal $s_i$, each woman updates her prior belief using Bayes' rule.\n",
    "\n",
    "Consider a woman i in period t who has a prior belief about $\\beta$ as summarized in the log likelihood ratio (LLR) $\\lambda_t = ln \\frac{P(\\beta=\\beta_L)}{P(\\beta=\\beta_H)}$. By Bayes rule, her beliefs given her private signal s can be summarized in a new LLR, $\\lambda_{i t}(s)$ given by\n",
    "\n",
    "\\begin{align*}\n",
    "\\lambda_{i t}(s)=\\lambda_t + ln(\\frac{P(s|\\beta=\\beta_L)}{P(s|\\beta=\\beta_H)})=\\lambda_t - (\\frac{\\beta_H - \\beta_L}{\\sigma_{\\epsilon}^2})(s-\\bar{\\beta})\n",
    "\\end{align*}\n",
    "where $\\bar{\\beta}=(\\beta_H+\\beta_L)/2$, $s \\sim N(\\beta, \\sigma_{\\epsilon}^2)$, $\\lambda_{it} \\sim N(\\lambda_t - (\\frac{\\beta_H-\\beta_L}{\\sigma_{\\epsilon}^2})(\\beta - \\bar{\\beta}), \\frac{(\\beta_H-\\beta_L)^2}{\\sigma_{\\epsilon}^2})$\n",
    "\n",
    "Woman i will work iff $W(w_{h t}, w_{f t})=\\frac{1}{1-\\gamma}[(w_{h t}+w_{f t})^{1-\\gamma} - w_{h t}^{1-\\gamma} ] - E_{i t}(\\beta) \\geq l_i$\n",
    "\n",
    "Woman with low $l(l \\leq \\underline{l})$ will always work and women with high l $(l \\geq \\bar{l})$ will never choose to work.\n",
    "\n",
    "\\begin{align*}\n",
    "\\underline{l}(w_{h t}, w_{f t}) &= W(w_{h t}, w_{f t})-\\beta_H\\\\\n",
    "\\bar{l}(w_{h t}, w_{f t})&=W(w_{h t}, w_{f t})-\\beta_L\n",
    "\\end{align*}\n",
    "\n",
    "One can solve for the critical value of the private signal $s_{l}^{*}(\\lambda)$ that she would need to inherit from her mother in order to be indifferent between working and not working.\n",
    "\n",
    "\\begin{align*}\n",
    "s_{l}^{*} (\\lambda_t ; w_{h t}, w_{f t} )=\\bar{\\beta} + (\\frac{\\sigma_{\\epsilon}^2}{\\beta_H-\\beta_L})(\\lambda_t + ln (\\frac{\\bar{l}(w_{h t}, w_{f t})-l}{l_l - \\underline{l}(w_{h t}, w_{f t})})) = s_{l}^{*}(\\lambda_t)\n",
    "\\end{align*}\n",
    "\n",
    "$L_{l t}(\\beta ; \\lambda_t)$ is the proportion of women who will choose to work given the true value of $\\beta$ and a prior of $\\lambda_t$.\n",
    "\n",
    "\\begin{align*}\n",
    "L_t(\\beta ; \\lambda_t) = G(\\underline{l})+\\int_{\\underline{l}}^{\\bar{l}} F(s_{l}^{*}(\\lambda_t)-\\beta ; \\sigma_{\\epsilon})g(l)dl\n",
    "\\end{align*}\n",
    "\n",
    "\n",
    "#### Intergenerational Transmission of Belief\n",
    "\n",
    "The model assumes that generation t+1 inherits the prior of generation t (its \"culture\"), $\\lambda_t$, which each individual then updates with her own idiosyncratic private signal, $s_i$, inherited from her mother.\n",
    "\n",
    "A woman in t+1 ends up with the belief $\\lambda_{i t}(s)$.\n",
    "\n",
    "There is potentially an additional source of information available to women in t+1 that was unavailable to women at time t:$L_t$.\n",
    "\n",
    "Women observe a noisy signal of $L_t$, given by $y_t$\n",
    "\n",
    "\\begin{align*}\n",
    "y_t(\\beta ; \\lambda_t ) = L_t (\\beta ; \\lambda_t ) + \\eta_t\n",
    "\\end{align*}\n",
    "\n",
    "where $\\eta_t \\sim N(0, \\sigma_{\\eta}^2)$ with a pdf $h(\\cdot;\\sigma_{\\eta})$\n",
    "\n",
    "Using Bayes law after observing $y_t$ generates an updated common belief for generation t + 1 of:\n",
    "\n",
    "\\begin{align*}\n",
    "\\lambda_{t+1}(\\lambda_t , y_t) = \\lambda_t + ln\\frac{h(y_t | \\beta =\\beta_L)}{h(y_t|\\beta = \\beta_H)} = \\lambda_t + (\\frac{L_{t}(\\beta_L ;\\lambda_t)-L_t(\\beta_H ; \\lambda_t)}{\\sigma_{\\eta}^2})(y_t -\\bar{L}_t(\\lambda_t))\n",
    "\\end{align*}\n",
    "\n",
    "#### Calibration Strategy\n",
    "\n",
    "Married women decide whether to engage in market work taking their husbands' earnings and their own potential earnings as given. \n",
    "\n",
    "Given the paucity of data prior to 1940, the median earnings of full-time white men and women in 1890 was used. \n",
    "\n",
    "After 1940, the 1% IPUMS samples of the U.S. Census for yearly earnings are used.\n",
    "\n",
    "Calibration matches the model to female LFP in 1980, 1990, and 2000 and the own and cross-wage elasticity in 2000, the cross-wage elasticity in 1990 and the relative probability of a woman working in 1980.\n",
    "\n",
    "To calculate the probability that a woman worked in 1980 conditional on her mother's work behavior, the response from the General Social Survey (GSS) question was used. \n",
    "\n",
    "Table 1 shows the calibration target and the values obatained in the calibrated learning model.\n",
    "\n",
    "Figure 4 presents the LFP predictions from the calibrated model.\n",
    "\n",
    "#### Discussion and Conclusion\n",
    "\n",
    "* In the model, married women compared the benefits of increased consumption from labor earnings with the expected utility cost of working.\n",
    "* This cost was unknown and women's beliefs about it evolved endogenously over time in a Bayesian fashion.\n",
    "* The calibrated model finds that at the outset women were pessimistic about the true cost of working.\n",
    "* The paper shows that a simple model with these features, calibrated to key statistics from the later part of the 20th century, generates a time trend of married women's LFP that is roughly similar to the historical one in the US over the last 120 years."
   ]
  }
 ],
 "metadata": {
  "kernelspec": {
   "display_name": "Python 3",
   "language": "python",
   "name": "python3"
  },
  "language_info": {
   "codemirror_mode": {
    "name": "ipython",
    "version": 3
   },
   "file_extension": ".py",
   "mimetype": "text/x-python",
   "name": "python",
   "nbconvert_exporter": "python",
   "pygments_lexer": "ipython3",
   "version": "3.8.3"
  }
 },
 "nbformat": 4,
 "nbformat_minor": 4
}
