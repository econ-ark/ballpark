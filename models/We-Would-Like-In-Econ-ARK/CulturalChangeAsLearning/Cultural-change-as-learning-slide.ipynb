{
 "cells": [
  {
   "cell_type": "markdown",
   "metadata": {
    "slideshow": {
     "slide_type": "slide"
    }
   },
   "source": [
    "<font size=\"10\"><b><center>Cultural Change as Learning:</center></b></font><br>\n",
    "<font size=\"10\"><b><center>The Evolution of Female Labor Force</center></b></font><br>\n",
    "<font size=\"10\"><b><center>Paritcipation over a Century</center></b></font>\n",
    "<br><br>\n",
    "<font size=\"6\"><b><center>Wonsik Ko</center></b></font>\n",
    "<font size=\"6\"><b><center>Johns Hopkins University</center></b></font>\n",
    "<br><br>\n",
    "     <font size=\"6\"><b><center>Computational Method, November 2020</center></b></font><br>\n"
   ]
  },
  {
   "cell_type": "markdown",
   "metadata": {
    "slideshow": {
     "slide_type": "slide"
    }
   },
   "source": [
    "# What drives the evolution of Female Labor Force Participation Rate?\n"
   ]
  },
  {
   "cell_type": "markdown",
   "metadata": {
    "slideshow": {
     "slide_type": "subslide"
    }
   },
   "source": [
    "## Dynamic Model with beleif updating "
   ]
  },
  {
   "cell_type": "markdown",
   "metadata": {
    "slideshow": {
     "slide_type": "fragment"
    }
   },
   "source": [
    "### Beliefs evolve endogenously via an intergenerational learning process."
   ]
  },
  {
   "cell_type": "markdown",
   "metadata": {
    "slideshow": {
     "slide_type": "slide"
    }
   },
   "source": [
    "## Model\n",
    "\n",
    "\\begin{align*}\n",
    "U(w_{f}, w_{h}, v_{i})&=\\frac{c^{1-\\gamma}}{1-\\gamma}-\\textbf{1} (E_{i t}v_i)\\\\\n",
    "c = w_h + \\textbf{1} w_f,   v_i &=l_i + B_i , B_i = \\beta + u_i , E(u_i)=0\n",
    "\\end{align*}\n",
    "\n",
    "* $\\textbf{1}$: an indicator function that takes the value one if she works.\n",
    "* $w_f$: a woman's earning\n",
    "* $w_h$: a husband's earning\n",
    "* $l_i$: a known idiosyncratic component of disutility of working with distribution in the population G(l)\n",
    "* $B_i$: an individual-level realization of a random variable that is iid across women\n",
    "* Consumption is a household public good\n",
    "* $\\beta \\in \\{\\beta_H, \\beta_L\\}$, $\\beta_H >\\beta_L \\geq 0$"
   ]
  },
  {
   "cell_type": "markdown",
   "metadata": {
    "slideshow": {
     "slide_type": "notes"
    }
   },
   "source": [
    "#### Prior to making her work decision, a woman inherits her mother's private signal $s_i$ that yields information about true $\\beta$."
   ]
  },
  {
   "cell_type": "markdown",
   "metadata": {
    "slideshow": {
     "slide_type": "subslide"
    }
   },
   "source": [
    "\\begin{align*}\n",
    "s_i = \\beta + \\epsilon_i\n",
    "\\end{align*}\n",
    "where $\\epsilon \\sim N(0,\\sigma_{\\epsilon}^2)$\n",
    "\n",
    "With signal $s_i$, updating her prior belief using Bayes' rule."
   ]
  },
  {
   "cell_type": "markdown",
   "metadata": {
    "slideshow": {
     "slide_type": "subslide"
    }
   },
   "source": [
    "\n",
    "Consider a woman i in period t who has a prior belief about $\\beta$ as summarized in the log likelihood ratio (LLR) $\\lambda_t = ln \\frac{P(\\beta=\\beta_L)}{P(\\beta=\\beta_H)}$. \n"
   ]
  },
  {
   "cell_type": "markdown",
   "metadata": {
    "slideshow": {
     "slide_type": "fragment"
    }
   },
   "source": [
    "By Bayes rule, her beliefs given her private signal s can be summarized in a new LLR, $\\lambda_{i t}(s)$ given by"
   ]
  },
  {
   "cell_type": "markdown",
   "metadata": {
    "slideshow": {
     "slide_type": "fragment"
    }
   },
   "source": [
    "\\begin{align*}\n",
    "\\lambda_{i t}(s)=\\lambda_t + ln(\\frac{P(s|\\beta=\\beta_L)}{P(s|\\beta=\\beta_H)})=\\lambda_t - (\\frac{\\beta_H - \\beta_L}{\\sigma_{\\epsilon}^2})(s-\\bar{\\beta})\n",
    "\\end{align*}\n",
    "where $\\bar{\\beta}=(\\beta_H+\\beta_L)/2$, $s \\sim N(\\beta, \\sigma_{\\epsilon}^2)$, $\\lambda_{it} \\sim N(\\lambda_t - (\\frac{\\beta_H-\\beta_L}{\\sigma_{\\epsilon}^2})(\\beta - \\bar{\\beta}), \\frac{(\\beta_H-\\beta_L)^2}{\\sigma_{\\epsilon}^2})$"
   ]
  },
  {
   "cell_type": "markdown",
   "metadata": {
    "slideshow": {
     "slide_type": "subslide"
    }
   },
   "source": [
    "Work iff $W(w_{h t}, w_{f t})=\\frac{1}{1-\\gamma}[(w_{h t}+w_{f t})^{1-\\gamma} - w_{h t}^{1-\\gamma} ] - E_{i t}(\\beta) \\geq l_i$\n",
    "\n"
   ]
  },
  {
   "cell_type": "markdown",
   "metadata": {
    "slideshow": {
     "slide_type": "fragment"
    }
   },
   "source": [
    "Low $l(l \\leq \\underline{l})$ will always work\n",
    "\n",
    "High l $(l \\geq \\bar{l})$ will never choose to work."
   ]
  },
  {
   "cell_type": "markdown",
   "metadata": {
    "slideshow": {
     "slide_type": "fragment"
    }
   },
   "source": [
    "\\begin{align*}\n",
    "\\underline{l}(w_{h t}, w_{f t}) &= W(w_{h t}, w_{f t})-\\beta_H\\\\\n",
    "\\bar{l}(w_{h t}, w_{f t})&=W(w_{h t}, w_{f t})-\\beta_L\n",
    "\\end{align*}"
   ]
  },
  {
   "cell_type": "markdown",
   "metadata": {
    "slideshow": {
     "slide_type": "subslide"
    }
   },
   "source": [
    "$s_{l}^{*}(\\lambda)$ is the value where a woman is indifferent between working and not working."
   ]
  },
  {
   "cell_type": "markdown",
   "metadata": {
    "slideshow": {
     "slide_type": "fragment"
    }
   },
   "source": [
    "\\begin{align*}\n",
    "s_{l}^{*} (\\lambda_t ; w_{h t}, w_{f t} )=\\bar{\\beta} + (\\frac{\\sigma_{\\epsilon}^2}{\\beta_H-\\beta_L})(\\lambda_t + ln (\\frac{\\bar{l}(w_{h t}, w_{f t})-l}{l_l - \\underline{l}(w_{h t}, w_{f t})})) = s_{l}^{*}(\\lambda_t)\n",
    "\\end{align*}"
   ]
  },
  {
   "cell_type": "markdown",
   "metadata": {
    "slideshow": {
     "slide_type": "subslide"
    }
   },
   "source": [
    "$L_{l t}(\\beta ; \\lambda_t)$ is the proportion of women who will choose to work"
   ]
  },
  {
   "cell_type": "markdown",
   "metadata": {
    "slideshow": {
     "slide_type": "fragment"
    }
   },
   "source": [
    "\\begin{align*}\n",
    "L_t(\\beta ; \\lambda_t) = G(\\underline{l})+\\int_{\\underline{l}}^{\\bar{l}} F(s_{l}^{*}(\\lambda_t)-\\beta ; \\sigma_{\\epsilon})g(l)dl\n",
    "\\end{align*}"
   ]
  },
  {
   "cell_type": "markdown",
   "metadata": {
    "slideshow": {
     "slide_type": "slide"
    }
   },
   "source": [
    "## Intergenerational Transmission of Belief\n"
   ]
  },
  {
   "cell_type": "markdown",
   "metadata": {
    "slideshow": {
     "slide_type": "subslide"
    }
   },
   "source": [
    "The prior of generation t (its \"culture\"), $\\lambda_t$\n",
    "\n",
    "Updated with idiosyncratic private signal, $s_i$\n",
    "\n",
    "Ends up with $\\lambda_{i t}(s)$"
   ]
  },
  {
   "cell_type": "markdown",
   "metadata": {
    "slideshow": {
     "slide_type": "fragment"
    }
   },
   "source": [
    "observe a noisy signal of $L_t$, given by $y_t$\n",
    "\n",
    "\\begin{align*}\n",
    "y_t(\\beta ; \\lambda_t ) = L_t (\\beta ; \\lambda_t ) + \\eta_t\n",
    "\\end{align*}\n",
    "\n",
    "where $\\eta_t \\sim N(0, \\sigma_{\\eta}^2)$ with a pdf $h(\\cdot;\\sigma_{\\eta})$\n"
   ]
  },
  {
   "cell_type": "markdown",
   "metadata": {
    "slideshow": {
     "slide_type": "subslide"
    }
   },
   "source": [
    "Again using Bayes rule\n",
    "\n",
    "\\begin{align*}\n",
    "\\lambda_{t+1}(\\lambda_t , y_t) = \\lambda_t + ln\\frac{h(y_t | \\beta =\\beta_L)}{h(y_t|\\beta = \\beta_H)} = \\lambda_t + (\\frac{L_{t}(\\beta_L ;\\lambda_t)-L_t(\\beta_H ; \\lambda_t)}{\\sigma_{\\eta}^2})(y_t -\\bar{L}_t(\\lambda_t))\n",
    "\\end{align*}"
   ]
  },
  {
   "cell_type": "markdown",
   "metadata": {
    "slideshow": {
     "slide_type": "slide"
    }
   },
   "source": [
    "## Calibration Strategy\n",
    "\n"
   ]
  },
  {
   "cell_type": "markdown",
   "metadata": {
    "slideshow": {
     "slide_type": "subslide"
    }
   },
   "source": [
    "### Data\n",
    "\n",
    "* Before 1940: The median earnings of full-time white men and women in 1890.\n",
    "\n",
    "* After 1940, the 1% IPUMS samples of the U.S. Census for yearly earnings.\n",
    "\n",
    "* The probability that a woman worked in 1980 conditional on her mother's work behavior: General Social Survey (GSS)\n"
   ]
  },
  {
   "cell_type": "markdown",
   "metadata": {
    "slideshow": {
     "slide_type": "subslide"
    }
   },
   "source": [
    "* Calibration matching: \n",
    "\n",
    "* Female LFP in 1980, 1990, and 2000 \n",
    "\n",
    "* The own and cross-wage elasticity in 2000\n",
    "\n",
    "* The cross-wage elasticity in 1990\n",
    "\n",
    "* The relative probability of a woman working in 1980.\n",
    "\n",
    "\n",
    "* Table 1 shows the calibration target and the values obatained in the calibrated learning model.\n",
    "\n",
    "* Figure 4 presents the LFP predictions from the calibrated model."
   ]
  }
 ],
 "metadata": {
  "celltoolbar": "Slideshow",
  "cite2c": {
   "citations": {
    "6273435/2BJ6FM4X": {
     "author": [
      {
       "family": "Arslan",
       "given": "Yavuz"
      },
      {
       "family": "Guler",
       "given": "Bulent"
      },
      {
       "family": "Kuruscu",
       "given": "Burhanettin"
      }
     ],
     "id": "6273435/2BJ6FM4X",
     "issued": {
      "year": 2018
     },
     "title": "Bank Balance Sheets and Boom-Bust Cycles",
     "type": "report"
    },
    "6273435/2LKSCVY3": {
     "DOI": "10.1016/j.jue.2009.11.001",
     "URL": "http://www.sciencedirect.com/science/article/pii/S0094119009000977",
     "abstract": "In a recent paper, Leamer (2007) identified housing as an important precursor of the national business cycle. Previous work, on the other hand, has shown that regional cycles may not be synchronous with the aggregate cycle. In this paper, we analyze the relationship between housing and the business cycle at the MSA-level for a set of 51 US cities. We find that declines in house prices are often not followed by declines in that city’s employment. While the growth rates in housing variables appeared to slow ahead of city-level peaks, we find no consistent statistical relationship suggesting a city’s permits or prices influences its business cycle. In fact, we find that national permits are a better leading indicator for a city’s employment than a city’s own permits. This suggest the possibility that housing is merely a proxy for other consumption or wealth indicators.",
     "accessed": {
      "day": 6,
      "month": 9,
      "year": 2018
     },
     "author": [
      {
       "family": "Ghent",
       "given": "Andra C."
      },
      {
       "family": "Owyang",
       "given": "Michael T."
      }
     ],
     "container-title": "Journal of Urban Economics",
     "container-title-short": "Journal of Urban Economics",
     "id": "6273435/2LKSCVY3",
     "issue": "3",
     "issued": {
      "day": 1,
      "month": 5,
      "year": 2010
     },
     "journalAbbreviation": "Journal of Urban Economics",
     "page": "336-351",
     "page-first": "336",
     "shortTitle": "Is housing the business cycle?",
     "title": "Is housing the business cycle? Evidence from US cities",
     "title-short": "Is housing the business cycle?",
     "type": "article-journal",
     "volume": "67"
    },
    "6273435/3SMCKLDX": {
     "DOI": "10.1093/rfs/hhw018",
     "URL": "https://academic.oup.com/rfs/article/29/7/1635/2607168",
     "abstract": "Abstract.  This paper highlights the importance of middle-class and high-FICO borrowers for the mortgage crisis. Contrary to popular belief, which focuses on su",
     "accessed": {
      "day": 5,
      "month": 9,
      "year": 2018
     },
     "author": [
      {
       "family": "Adelino",
       "given": "Manuel"
      },
      {
       "family": "Schoar",
       "given": "Antoinette"
      },
      {
       "family": "Severino",
       "given": "Felipe"
      }
     ],
     "container-title": "The Review of Financial Studies",
     "container-title-short": "Rev Financ Stud",
     "id": "6273435/3SMCKLDX",
     "issue": "7",
     "issued": {
      "day": 1,
      "month": 7,
      "year": 2016
     },
     "journalAbbreviation": "Rev Financ Stud",
     "language": "en",
     "page": "1635-1670",
     "page-first": "1635",
     "shortTitle": "Loan Originations and Defaults in the Mortgage Crisis",
     "title": "Loan Originations and Defaults in the Mortgage Crisis: The Role of the Middle Class",
     "title-short": "Loan Originations and Defaults in the Mortgage Crisis",
     "type": "article-journal",
     "volume": "29"
    },
    "6273435/4LMAJ3FI": {
     "author": [
      {
       "family": "Krivenko",
       "given": "Pavel"
      }
     ],
     "id": "6273435/4LMAJ3FI",
     "issued": {
      "year": 2018
     },
     "title": "Unemployment and the US Housing Market during the Great Recession",
     "type": "report"
    },
    "6273435/5DTVAPZ9": {
     "DOI": "10.1111/jofi.12586",
     "URL": "https://onlinelibrary.wiley.com/doi/abs/10.1111/jofi.12586",
     "abstract": "We present a model of credit cycles arising from diagnostic expectations—a belief formation mechanism based on Kahneman and Tversky's representativeness heuristic. Diagnostic expectations overweight future outcomes that become more likely in light of incoming data. The expectations formation rule is forward looking and depends on the underlying stochastic process, and thus is immune to the Lucas critique. Diagnostic expectations reconcile extrapolation and neglect of risk in a unified framework. In our model, credit spreads are excessively volatile, overreact to news, and are subject to predictable reversals. These dynamics can account for several features of credit cycles and macroeconomic volatility.",
     "accessed": {
      "day": 5,
      "month": 9,
      "year": 2018
     },
     "author": [
      {
       "family": "Bordalo",
       "given": "Pedro"
      },
      {
       "family": "Gennaioli",
       "given": "Nicola"
      },
      {
       "family": "Shleifer",
       "given": "Andrei"
      }
     ],
     "container-title": "The Journal of Finance",
     "id": "6273435/5DTVAPZ9",
     "issue": "1",
     "issued": {
      "day": 1,
      "month": 2,
      "year": 2018
     },
     "language": "en",
     "page": "199-227",
     "page-first": "199",
     "title": "Diagnostic Expectations and Credit Cycles",
     "type": "article-journal",
     "volume": "73"
    },
    "6273435/5EW3ZYSE": {
     "URL": "https://www.nytimes.com/2005/08/08/opinion/that-hissing-sound.html",
     "abstract": "Paul Krugman Op-Ed column on signs that United States housing bubble has started to deflate (M)",
     "accessed": {
      "day": 5,
      "month": 9,
      "year": 2018
     },
     "author": [
      {
       "family": "Krugman",
       "given": "Paul"
      }
     ],
     "container-title": "The New York Times",
     "id": "6273435/5EW3ZYSE",
     "issued": {
      "day": 8,
      "month": 8,
      "year": 2005
     },
     "language": "en-US",
     "section": "Opinion",
     "title": "That Hissing Sound",
     "type": "article-newspaper"
    },
    "6273435/5LQEJQJH": {
     "DOI": "10.1093/qje/qjq004",
     "URL": "https://academic.oup.com/qje/article/126/1/373/1901343",
     "abstract": "Abstract.  We investigate whether individual experiences of macroeconomic shocks affect financial risk taking, as often suggested for the generation that experi",
     "accessed": {
      "day": 5,
      "month": 9,
      "year": 2018
     },
     "author": [
      {
       "family": "Malmendier",
       "given": "Ulrike"
      },
      {
       "family": "Nagel",
       "given": "Stefan"
      }
     ],
     "container-title": "The Quarterly Journal of Economics",
     "container-title-short": "Q J Econ",
     "id": "6273435/5LQEJQJH",
     "issue": "1",
     "issued": {
      "day": 1,
      "month": 2,
      "year": 2011
     },
     "journalAbbreviation": "Q J Econ",
     "language": "en",
     "page": "373-416",
     "page-first": "373",
     "shortTitle": "Depression Babies",
     "title": "Depression Babies: Do Macroeconomic Experiences Affect Risk Taking?*",
     "title-short": "Depression Babies",
     "type": "article-journal",
     "volume": "126"
    },
    "6273435/62FERJKI": {
     "URL": "https://papers.ssrn.com/abstract=3069621",
     "abstract": "Shared Appreciation Mortgages (SAMs) feature mortgage payments that adjust with house prices. These mortgage contracts are designed to stave off home owner default by providing payment relief in the wake of a large house price shock. SAMs have been hailed as an innovative solution that could prevent the next foreclosure crisis, act as a work-out tool during a crisis, and alleviate fiscal pressure during a downturn. They have inspired Fintech companies to offer home equity contracts. However, the home owner's gains are the mortgage lender's losses. A general equilibrium model with financial intermediaries who channel savings from saver households to borrower households shows that indexation of mortgage payments to aggregate house prices increases financial fragility, reduces risk sharing, and leads to expensive financial sector bailouts. In contrast, indexation to local house prices reduces financial fragility and improves risk-sharing. The two types of indexation have opposite implications for wealth inequality.",
     "author": [
      {
       "family": "Greenwald",
       "given": "Daniel"
      },
      {
       "family": "Landvoigt",
       "given": "Tim"
      },
      {
       "family": "Van Nieuwerburgh",
       "given": "Stijn"
      }
     ],
     "genre": "MIT Sloan Research Paper",
     "id": "6273435/62FERJKI",
     "issued": {
      "year": 2018
     },
     "language": "en",
     "number": "5261-17",
     "publisher": "MIT",
     "title": "Financial Fragility with SAM?",
     "type": "report"
    },
    "6273435/6ASZQUFK": {
     "author": [
      {
       "family": "Kahneman",
       "given": "Daniel"
      }
     ],
     "event-place": "New York",
     "id": "6273435/6ASZQUFK",
     "issued": {
      "year": 2011
     },
     "publisher": "Farrar, Straus and Giroux",
     "publisher-place": "New York",
     "title": "Thinking, Fast and Slow",
     "type": "book"
    },
    "6273435/6HQGCZHA": {
     "DOI": "10.1093/qje/qjx017",
     "URL": "https://academic.oup.com/qje/article/132/4/1755/3854928",
     "abstract": "Abstract.  An increase in the household debt to GDP ratio predicts lower GDP growth and higher unemployment in the medium run for an unbalanced panel of 30 coun",
     "accessed": {
      "day": 5,
      "month": 9,
      "year": 2018
     },
     "author": [
      {
       "family": "Mian",
       "given": "Atif"
      },
      {
       "family": "Sufi",
       "given": "Amir"
      },
      {
       "family": "Verner",
       "given": "Emil"
      }
     ],
     "container-title": "The Quarterly Journal of Economics",
     "container-title-short": "Q J Econ",
     "id": "6273435/6HQGCZHA",
     "issue": "4",
     "issued": {
      "day": 1,
      "month": 11,
      "year": 2017
     },
     "journalAbbreviation": "Q J Econ",
     "language": "en",
     "page": "1755-1817",
     "page-first": "1755",
     "title": "Household Debt and Business Cycles Worldwide",
     "type": "article-journal",
     "volume": "132"
    },
    "6273435/8IVI23TT": {
     "author": [
      {
       "family": "Schlafmann",
       "given": "Kathrin"
      }
     ],
     "genre": "CEPR Discussion Paper",
     "id": "6273435/8IVI23TT",
     "issued": {
      "year": 2016
     },
     "number": "11589",
     "title": "Housing, Mortgages, and Self Control",
     "type": "report"
    },
    "6273435/98I3UQNW": {
     "author": [
      {
       "family": "Minsky",
       "given": "Hyman P."
      }
     ],
     "id": "6273435/98I3UQNW",
     "issued": {
      "year": 1986
     },
     "title": "Stabilizing an Unstable Economy",
     "type": "book"
    },
    "6273435/9ERTKWRC": {
     "author": [
      {
       "family": "Garcia",
       "given": "Daniel"
      }
     ],
     "id": "6273435/9ERTKWRC",
     "issued": {
      "year": 2018
     },
     "title": "Employment in the Great Recession: How Important were Household Credit Supply Shocks?",
     "type": "report"
    },
    "6273435/9GRH68SP": {
     "author": [
      {
       "family": "Bartscher",
       "given": "Alina"
      },
      {
       "family": "Schularick",
       "given": "Moritz"
      },
      {
       "family": "Steins",
       "given": "Ulrike I."
      }
     ],
     "id": "6273435/9GRH68SP",
     "issued": {
      "year": 2017
     },
     "title": "The Great American Debt Boom, 1948-2013",
     "type": "report"
    },
    "6273435/A2G7SCE7": {
     "URL": "https://ideas.repec.org/a/fip/fedkpr/y2007p149-233.html",
     "abstract": "Of the components of GDP, residential investment offers by far the best early warning sign of an oncoming recession. Since World War II we have had eight recessions preceded by substantial problems in housing and consumer durables. Housing did not give an early warning of the Department of Defense Downturn after the Korean Armistice in 1953 or the Internet Comeuppance in 2001, nor should it have. By virtue of its prominence in our recessions, it makes sense for housing to play a prominent role in the conduct of monetary policy. A modified Taylor Rule would depend on a long-term measure of inflation having little to do with the phase in the cycle, and, in place of Taylor's output gap, housing starts and the change in housing starts, which together form the best forward-looking indicator of the cycle of which I am aware. This would create pre-emptive anti-inflation policy in the middle of the expansions when housing is not so sensitive to interest rates, making it less likely that anti-inflation policies would be needed near the ends of expansions when housing is very interest rate sensitive, thus making our recessions less frequent and/or less severe.<br><small>(This abstract was borrowed from another version of this item.)</small>",
     "accessed": {
      "day": 5,
      "month": 9,
      "year": 2018
     },
     "author": [
      {
       "family": "Leamer",
       "given": "Edward E."
      }
     ],
     "container-title": "Proceedings - Economic Policy Symposium - Jackson Hole",
     "id": "6273435/A2G7SCE7",
     "issued": {
      "year": 2007
     },
     "language": "en",
     "page": "149-233",
     "page-first": "149",
     "title": "Housing is the business cycle",
     "type": "article-journal"
    },
    "6273435/AR5CX6Z6": {
     "author": [
      {
       "family": "Nagel",
       "given": "Stefan"
      },
      {
       "family": "Xu",
       "given": "Zhengyang"
      }
     ],
     "id": "undefined",
     "issued": {
      "year": 2018
     },
     "language": "en",
     "page": "56",
     "page-first": "56",
     "title": "Asset Pricing with Fading Memory",
     "type": "article-journal"
    },
    "6273435/AV7DSQTR": {
     "URL": "https://www.businessinsider.com/how-to-spot-stock-market-bubbles-2017-10",
     "accessed": {
      "day": 5,
      "month": 9,
      "year": 2018
     },
     "author": [
      {
       "family": "Chudley",
       "given": "Jody"
      }
     ],
     "container-title": "Business Insider",
     "id": "6273435/AV7DSQTR",
     "title": "JFK's father used a simple trick to spot market bubbles — and you can too",
     "type": "webpage"
    },
    "6273435/BL42NIKV": {
     "author": [
      {
       "family": "Finocchiaro",
       "given": "Daria"
      },
      {
       "family": "Jonsson",
       "given": "Magnus"
      },
      {
       "family": "Nilsson",
       "given": "Christian"
      },
      {
       "family": "Strid",
       "given": "Ingvar"
      }
     ],
     "container-title": "Sveriges Riksbank Economic Review",
     "id": "6273435/BL42NIKV",
     "issued": {
      "year": 2018
     },
     "title": "Macroeconomic effects of reducing household debt",
     "type": "article-journal"
    },
    "6273435/BLFT9BEG": {
     "author": [
      {
       "family": "Mackay",
       "given": "Charles"
      }
     ],
     "id": "6273435/BLFT9BEG",
     "issued": {
      "year": 1841
     },
     "language": "English",
     "publisher": "Richard Bentley",
     "shortTitle": "Extraordinary Popular Delusions",
     "title": "Extraordinary Popular Delusions and the Madness of Crowds",
     "title-short": "Extraordinary Popular Delusions",
     "type": "book"
    },
    "6273435/D7FS5MRE": {
     "URL": "http://www.nber.org/papers/w22903",
     "abstract": "This paper studies temporary policy incentives designed to address capital overhang by inducing asset demand from buyers in the private market. Using variation across local geographies in ex ante program exposure and a difference-in-differences design, we find that the First-Time Homebuyer Credit induced a cumulative increase in home sales of 397 to 546 thousand, or 7.8 to 10.7 percent, nationally. We find little evidence of a sharp reversal of the policy response; instead, demand comes from several years in the future. The program likely sped the process of reallocating homes from distressed sellers to high value buyers, which stabilized house prices. The response is concentrated in the existing home sales market, implying the stimulative effects of the program were less important than its role in accelerating reallocation.",
     "accessed": {
      "day": 9,
      "month": 9,
      "year": 2018
     },
     "author": [
      {
       "family": "Berger",
       "given": "David"
      },
      {
       "family": "Turner",
       "given": "Nicholas"
      },
      {
       "family": "Zwick",
       "given": "Eric"
      }
     ],
     "genre": "Working Paper",
     "id": "6273435/D7FS5MRE",
     "issued": {
      "month": 12,
      "year": 2016
     },
     "note": "DOI: 10.3386/w22903",
     "number": "22903",
     "publisher": "National Bureau of Economic Research",
     "title": "Stimulating Housing Markets",
     "type": "report"
    },
    "6273435/DCC92Q2Z": {
     "URL": "http://www.economist.com/special-report/2003/05/29/house-of-cards",
     "abstract": "In many countries the stockmarket bubble has been replaced by a property-price bubble. Sooner or later it will burst, says Pam Woodall, our economics editor",
     "accessed": {
      "day": 6,
      "month": 9,
      "year": 2018
     },
     "container-title": "The Economist",
     "id": "6273435/DCC92Q2Z",
     "issued": {
      "day": 29,
      "month": 5,
      "year": 2003
     },
     "title": "House of cards",
     "type": "article-magazine"
    },
    "6273435/EB4C5G4S": {
     "author": [
      {
       "family": "Kindleberger",
       "given": "Charles P."
      }
     ],
     "id": "6273435/EB4C5G4S",
     "issued": {
      "year": 1978
     },
     "language": "en",
     "publisher": "Palgrave Macmillan",
     "title": "Manias, Panics, and Crashes: A History of Financial Crises",
     "type": "book"
    },
    "6273435/EGT99GAZ": {
     "author": [
      {
       "family": "Walentin",
       "given": "Karl"
      },
      {
       "family": "Hull",
       "given": "Isaiah"
      },
      {
       "family": "Olovsson",
       "given": "Conny"
      }
     ],
     "genre": "Sveriges Riksbank Working Paper Series",
     "id": "6273435/EGT99GAZ",
     "issued": {
      "year": 2018
     },
     "number": "349",
     "title": "The Granular Origins of Aggregate House Price Volatility",
     "type": "report"
    },
    "6273435/EJUQGA4W": {
     "author": [
      {
       "family": "Albanesi",
       "given": "Stefania"
      }
     ],
     "id": "6273435/EJUQGA4W",
     "issued": {
      "year": 2018
     },
     "title": "Real Estate Investors and the 2007-2009 Mortgage Crisis",
     "type": "report"
    },
    "6273435/EXL57QX8": {
     "author": [
      {
       "family": "Khan",
       "given": "Shujaat"
      }
     ],
     "id": "6273435/EXL57QX8",
     "issued": {
      "year": 2018
     },
     "title": "The Anatomy of Macroprudential Policies in a Heterogeneous Agent Model of Housing Default",
     "type": "report"
    },
    "6273435/HAEFCS8B": {
     "DOI": "10.1257/aer.91.2.1",
     "URL": "https://www.aeaweb.org/articles?id=10.1257/aer.91.2.1",
     "accessed": {
      "day": 5,
      "month": 9,
      "year": 2018
     },
     "author": [
      {
       "family": "Hall",
       "given": "Robert E."
      }
     ],
     "container-title": "American Economic Review",
     "id": "6273435/HAEFCS8B",
     "issue": "2",
     "issued": {
      "month": 5,
      "year": 2001
     },
     "language": "en",
     "page": "1-11",
     "page-first": "1",
     "title": "Struggling to Understand the Stock Market",
     "type": "article-journal",
     "volume": "91"
    },
    "6273435/HRF5MEAR": {
     "DOI": "10.1086/680584",
     "URL": "https://www.journals.uchicago.edu/doi/10.1086/680584",
     "accessed": {
      "day": 5,
      "month": 9,
      "year": 2018
     },
     "author": [
      {
       "family": "Hall",
       "given": "Robert E."
      }
     ],
     "container-title": "NBER Macroeconomics Annual",
     "container-title-short": "NBER Macroeconomics Annual",
     "id": "6273435/HRF5MEAR",
     "issue": "1",
     "issued": {
      "day": 1,
      "month": 1,
      "year": 2015
     },
     "journalAbbreviation": "NBER Macroeconomics Annual",
     "page": "71-128",
     "page-first": "71",
     "title": "Quantifying the Lasting Harm to the US Economy from the Financial Crisis",
     "type": "article-journal",
     "volume": "29"
    },
    "6273435/HZE378I7": {
     "URL": "https://www.brookings.edu/wp-content/uploads/2003/06/2003b_bpea_caseshiller.pdf",
     "abstract": "This paper looks for evidence of a bubble in U.S. housing prices. It analyzes quarterly state-level data over 1985-2002, focusing on the relationship between home prices and selected fundamental variables. Income per capita alone largely explains price changes in all but eight states; in the latter, large price movements are observed unrelated to the fundamentals. Results from a new survey of recent homebuyers in the Los Angeles, San Francisco, Boston, and Milwaukee metropolitan areas are reported. This survey replicates an almost identical 1988 survey and finds, as before, that buyers in most of these markets perceive little risk in their housing investment, have unrealistic expectations about future price increases, and hold economically implausible beliefs about home price behavior—findings consistent with a bubble. Prices in such markets could stall or decline, but only if such declines are simultaneous or spread to other markets are significant effects on the national economy likely.",
     "author": [
      {
       "family": "Case",
       "given": "Karl E."
      },
      {
       "family": "Shiller",
       "given": "Robert J."
      }
     ],
     "collection-title": "Brookings Papers on Economic Activity",
     "id": "6273435/HZE378I7",
     "issued": {
      "year": 2003
     },
     "publisher": "Brookings Institute",
     "title": "Is There a Bubble in the Housing Market?",
     "type": "report"
    },
    "6273435/JMNWJTKW": {
     "DOI": "10.1016/j.iref.2015.02.002",
     "URL": "http://www.sciencedirect.com/science/article/pii/S1059056015000246",
     "abstract": "There has been, in recent years, a renewed interest in and a growing recognition of the role played by uncertainty shocks in driving fluctuations in the economy and in asset markets. We create new text-based indicators of both general economic and policy specific uncertainty from New York Times and use them first, to chart changes in the level of uncertainty in the US for the period 1985–2007, second, to determine the role of policy in these swings, and, third to assess their impact on the economy, equity markets, and business cycles. Overall, our results indicate that uncertainty shocks – both general and policy related – depress the level of economic activity, significantly increase stock market volatility, and decrease market returns.",
     "accessed": {
      "day": 5,
      "month": 9,
      "year": 2018
     },
     "author": [
      {
       "family": "Alexopoulos",
       "given": "Michelle"
      },
      {
       "family": "Cohen",
       "given": "Jon"
      }
     ],
     "container-title": "International Review of Economics & Finance",
     "container-title-short": "International Review of Economics & Finance",
     "id": "6273435/JMNWJTKW",
     "issued": {
      "day": 1,
      "month": 11,
      "year": 2015
     },
     "journalAbbreviation": "International Review of Economics & Finance",
     "page": "8-28",
     "page-first": "8",
     "shortTitle": "The power of print",
     "title": "The power of print: Uncertainty shocks, markets, and the economy",
     "title-short": "The power of print",
     "type": "article-journal",
     "volume": "40"
    },
    "6273435/JYAC2RG2": {
     "URL": "https://ideas.repec.org/a/fip/fedker/y2007iqivp115-145nv.92no.4.html",
     "abstract": "Residential foreclosures in the United States have been rising very rapidly since 2006. In the second quarter of 2007, the share of outstanding mortgages in some stage of foreclosure stood at 1.4 percent, near historic highs and up from less than 1 percent a year earlier. The number of mortgages entering the foreclosure process reached an all-time high in mid-2007, suggesting that the foreclosure surge is likely to get worse before it gets better. ; The foreclosure surge was created by a perfect storm of events. First, in recent years the share of subprime mortgage originations increased substantially. Second, foreclosure rates for adjustable-rate mortgages (ARMs) have increased considerably, especially for subprime ARMs. This increase is largely due to rising short-term interest rates and to payment resets for many nontraditional mortgages. Finally, high loan-to-value originations in recent years, coupled with stagnant or falling home prices, have left many people with insufficient equity to sell or refinance their homes. ; Edmiston and Zalneraitis provide a detailed dissection of the current foreclosure surge. They conclude with a discussion of why the foreclosure situation is likely to get worse over the next one to two years and why it is likely to improve afterward.",
     "accessed": {
      "day": 5,
      "month": 9,
      "year": 2018
     },
     "author": [
      {
       "family": "Edmiston",
       "given": "Kelly D."
      },
      {
       "family": "Zalneraitis",
       "given": "Roger"
      }
     ],
     "container-title": "Economic Review",
     "id": "6273435/JYAC2RG2",
     "issue": "Q IV",
     "issued": {
      "year": 2007
     },
     "language": "en",
     "page": "115-145",
     "page-first": "115",
     "shortTitle": "Rising foreclosures in the United States",
     "title": "Rising foreclosures in the United States: a perfect storm",
     "title-short": "Rising foreclosures in the United States",
     "type": "article-journal"
    },
    "6273435/LGD94T7L": {
     "URL": "https://www.federalreserve.gov/boarddocs/speeches/2004/20040521/default.htm",
     "author": [
      {
       "family": "Gramlich",
       "given": "Edward M."
      }
     ],
     "id": "6273435/LGD94T7L",
     "issued": {
      "year": 2004
     },
     "note": "Remarks by Governor Edward M. Gramlich at the Financial Services Roundtable Annual Housing Policy Meeting, Chicago, Illinois.",
     "title": "Subprime Mortgage Lending: Benefits, Costs, and Challenges",
     "type": "webpage"
    },
    "6273435/MRW6WNVP": {
     "author": [
      {
       "family": "Blinder",
       "given": "Alan S."
      }
     ],
     "id": "6273435/MRW6WNVP",
     "issued": {
      "year": 2013
     },
     "publisher": "Penguin Press",
     "title": "After the Music Stopped: The Financial Crisis, the Response, and the Work Ahead",
     "type": "book"
    },
    "6273435/N2QBSRRP": {
     "URL": "https://faculty.missouri.edu/~hedlunda/research/housing_boombust_main.pdf",
     "author": [
      {
       "family": "Garriga",
       "given": "Carlos"
      },
      {
       "family": "Hedlund",
       "given": "Aaron"
      }
     ],
     "id": "6273435/N2QBSRRP",
     "issued": {
      "year": 2018
     },
     "title": "Housing Finance, Boom-Bust Episodes, and\nMacroeconomic Fragility",
     "type": "report"
    },
    "6273435/PUJGD86E": {
     "URL": "http://www.nber.org/chapters/c13907",
     "accessed": {
      "day": 9,
      "month": 9,
      "year": 2018
     },
     "author": [
      {
       "family": "Manski",
       "given": "Charles F."
      }
     ],
     "container-title": "NBER Macroeconomics Annual 2017, volume 32",
     "id": "6273435/PUJGD86E",
     "issued": {
      "day": 10,
      "month": 4,
      "year": 2017
     },
     "page": "411-471",
     "page-first": "411",
     "shortTitle": "Survey Measurement of Probabilistic Macroeconomic Expectations",
     "title": "Survey Measurement of Probabilistic Macroeconomic Expectations: Progress and Promise",
     "title-short": "Survey Measurement of Probabilistic Macroeconomic Expectations",
     "type": "article-journal"
    },
    "6273435/Q7UH3SHN": {
     "DOI": "10.1257/089533005775196769",
     "URL": "https://www.aeaweb.org/articles?id=10.1257/089533005775196769",
     "abstract": "How does one tell when rapid growth in house prices is caused by fundamental factors of supply and demand and when it is an unsustainable bubble? In this paper, we explain how to assess the state of house prices—both whether there is a bubble and what underlying factors support housing demand—in a way that is grounded in economic theory. In doing so, we correct four common fallacies about the costliness of the housing market. For a number of reasons, conventional metrics for assessing pricing in the housing market such as price-to-rent ratios or price-to-income ratios generally fail to reflect accurately the state of housing costs. To the eyes of analysts employing such measures, housing markets can appear \"exuberant\" even when houses are in fact reasonably priced. We construct a measure for evaluating the cost of home owning that is standard for economists—the imputed annual rental cost of owning a home, a variant of the user cost of housing—and apply it to 25 years of history across a wide variety of housing markets. This calculation enables us to estimate the time pattern of housing costs within a market. As of the end of 2004, our analysis reveals little evidence of a housing bubble.",
     "accessed": {
      "day": 5,
      "month": 9,
      "year": 2018
     },
     "author": [
      {
       "family": "Himmelberg",
       "given": "Charles"
      },
      {
       "family": "Mayer",
       "given": "Christopher"
      },
      {
       "family": "Sinai",
       "given": "Todd"
      }
     ],
     "container-title": "Journal of Economic Perspectives",
     "id": "6273435/Q7UH3SHN",
     "issue": "4",
     "issued": {
      "month": 12,
      "year": 2005
     },
     "language": "en",
     "page": "67-92",
     "page-first": "67",
     "shortTitle": "Assessing High House Prices",
     "title": "Assessing High House Prices: Bubbles, Fundamentals and Misperceptions",
     "title-short": "Assessing High House Prices",
     "type": "article-journal",
     "volume": "19"
    },
    "6273435/TJ86B67S": {
     "author": [
      {
       "family": "Mian",
       "given": "Atif"
      },
      {
       "family": "Sufi",
       "given": "Amir"
      }
     ],
     "container-title": "Journal of Economic Perspectives",
     "id": "6273435/TJ86B67S",
     "issue": "3",
     "issued": {
      "year": 2018
     },
     "page": "1-30",
     "page-first": "1",
     "title": "Finance and Business Cycles: The Credit-Driven Household Demand Channel",
     "type": "article-journal",
     "volume": "32"
    },
    "6273435/UWMQ3ND7": {
     "URL": "http://www.nber.org/papers/w23281",
     "abstract": "This paper extends the benchmark New-Keynesian model with a representative agent and rational expectations by introducing two key frictions: (1) agent heterogeneity with incomplete markets, uninsurable idiosyncratic risk, and occasionally-binding borrowing constraints; and (2) bounded rationality in the form of level-k thinking. Compared to the benchmark model, we show that the interaction of these two frictions leads to a powerful mitigation of the effects of monetary policy, which is much more pronounced at long horizons, and offers a potential rationalization of the “forward guidance puzzle”. Each of these frictions, in isolation, would lead to no or much smaller departures from the benchmark model. We conclude that the interaction of bounded rationality and market frictions improves the ability of the model to account for the effects of monetary policy.",
     "accessed": {
      "day": 5,
      "month": 9,
      "year": 2018
     },
     "author": [
      {
       "family": "Farhi",
       "given": "Emmanuel"
      },
      {
       "family": "Werning",
       "given": "Iván"
      }
     ],
     "genre": "Working Paper",
     "id": "6273435/UWMQ3ND7",
     "issued": {
      "month": 3,
      "year": 2017
     },
     "note": "DOI: 10.3386/w23281",
     "number": "23281",
     "publisher": "National Bureau of Economic Research",
     "title": "Monetary Policy, Bounded Rationality, and Incomplete Markets",
     "type": "report"
    },
    "6273435/V8M7KIK5": {
     "URL": "https://www.brookings.edu/wp-content/uploads/2016/03/ByrneEtAl_ProductivityMeasurement_ConferenceDraft.pdf",
     "author": [
      {
       "family": "Byrne",
       "given": "David M."
      },
      {
       "family": "Fernald",
       "given": "John G."
      },
      {
       "family": "Reinsdorf",
       "given": "Marshall B."
      }
     ],
     "genre": "Brookings Papers on Economic Activity",
     "id": "6273435/V8M7KIK5",
     "issued": {
      "year": 2016
     },
     "publisher": "Brookings Institute",
     "title": "Does the United States have a productivity slowdown or a measurement problem?",
     "type": "report"
    },
    "6273435/VDK9EZWA": {
     "URL": "https://ideas.repec.org/p/fip/fedgsq/77.html",
     "abstract": "a speech at the Sandridge Lecture, Virginia Association of Economics, Richmond, Virginia, March 10, 2005 and the Homer Jones Lecture, St. Louis, Missouri, on April 14, 2005",
     "accessed": {
      "day": 5,
      "month": 9,
      "year": 2018
     },
     "author": [
      {
       "family": "Bernanke",
       "given": "Ben S."
      }
     ],
     "collection-title": "Speech",
     "id": "6273435/VDK9EZWA",
     "issued": {
      "year": 2005
     },
     "language": "en",
     "number": "77",
     "publisher": "Board of Governors of the Federal Reserve System (U.S.)",
     "title": "The global saving glut and the U.S. current account deficit",
     "type": "report"
    },
    "6273435/WTWTWFWP": {
     "DOI": "10.1257/aer.20110683",
     "URL": "https://www.aeaweb.org/articles?id=10.1257/aer.20110683",
     "abstract": "The paper studies how high household leverage and crises can be caused by changes in the income distribution. Empirically, the periods 1920-1929 and 1983-2008 both exhibited a large increase in the income share of high-income households, a large increase in debt leverage of low- and middle-income households, and an eventual financial and real crisis. The paper presents a theoretical model where higher leverage and crises are the endogenous result of a growing income share of high-income households. The model matches the profiles of the income distribution, the debt-to-income ratio and crisis risk for the three decades preceding the Great Recession. (JEL D14, D31, D33, E32, E44, G01, N22)",
     "accessed": {
      "day": 5,
      "month": 9,
      "year": 2018
     },
     "author": [
      {
       "family": "Kumhof",
       "given": "Michael"
      },
      {
       "family": "Rancière",
       "given": "Romain"
      },
      {
       "family": "Winant",
       "given": "Pablo"
      }
     ],
     "container-title": "American Economic Review",
     "id": "6273435/WTWTWFWP",
     "issue": "3",
     "issued": {
      "month": 3,
      "year": 2015
     },
     "language": "en",
     "page": "1217-1245",
     "page-first": "1217",
     "title": "Inequality, Leverage, and Crises",
     "type": "article-journal",
     "volume": "105"
    },
    "6273435/YS4K82GI": {
     "URL": "https://ideas.repec.org/p/red/sed018/1017.html",
     "abstract": "I quantify the extent to which deterioration of bank balance sheets explains the large contraction in housing prices and consumption experienced by the U.S. during the last recession. I introduce a Banking Sector with balance sheet frictions into a model of long-term collateralized debt with risk of default. Credit supply is endogenously determined and depends on the capitalization of the entire banking sector. Mortgage spreads and endogenous down payments increase in periods when banks are poorly capitalized. I simulate an increase in the stock of housing and a negative income shock to match the decline in house prices between 2006-2009. The model generates changes in consumption, foreclosures and refinance rates similar to those observed in the U.S. between 2006 and 2009. Changes in financial intermediaries’ cost of funding explain, respectively, 38, 22 and 29 percent of the changes in housing prices, foreclosures and consumption generated by the model. These results show that the endogenous response of banks’ credit supply can partially explain how changes in housing prices affect consumption decisions. I use this framework to analyze the impact of debt forgiveness and banks’ recapitalization to mitigate the drop in housing prices and consumption. I also present empirical evidence that balance sheet mechanism implied by the model was operational during this period. In other words, I show that during the great recession, changes in the real estate prices impacted the balance sheet of the banks that reacted by contracting their mortgage credit supply.",
     "accessed": {
      "day": 5,
      "month": 9,
      "year": 2018
     },
     "author": [
      {
       "family": "Paixao",
       "given": "Nuno"
      }
     ],
     "collection-title": "2018 Meeting Papers",
     "id": "6273435/YS4K82GI",
     "issued": {
      "year": 2018
     },
     "language": "en",
     "number": "1017",
     "publisher": "Society for Economic Dynamics",
     "shortTitle": "Housing Prices and Consumer Spending",
     "title": "Housing Prices and Consumer Spending: The Bank Balance Sheet Channel",
     "title-short": "Housing Prices and Consumer Spending",
     "type": "report"
    },
    "6273435/ZNBZENA9": {
     "URL": "http://www.nber.org/papers/w23863",
     "abstract": "We revisit La Porta’s (1996) finding that returns on stocks with the most optimistic analyst long term earnings growth forecasts are substantially lower than those for stocks with the most pessimistic forecasts. We document that this finding still holds, and present several further facts about the joint dynamics of fundamentals, expectations, and returns for these portfolios. We explain these facts using a new model of belief formation based on a portable formalization of the representativeness heuristic. In this model, analysts forecast future fundamentals from the history of earnings growth, but they over-react to news by exaggerating the probability of states that have become objectively more likely. Intuitively, fast earnings growth predicts future Googles but not as many as analysts believe. We test predictions that distinguish this mechanism from both Bayesian learning and adaptive expectations, and find supportive evidence. A calibration of the model offers a satisfactory account of the key patterns in fundamentals, expectations, and returns.",
     "accessed": {
      "day": 5,
      "month": 9,
      "year": 2018
     },
     "author": [
      {
       "family": "Bordalo",
       "given": "Pedro"
      },
      {
       "family": "Gennaioli",
       "given": "Nicola"
      },
      {
       "family": "Porta",
       "given": "Rafael La"
      },
      {
       "family": "Shleifer",
       "given": "Andrei"
      }
     ],
     "genre": "Working Paper",
     "id": "6273435/ZNBZENA9",
     "issued": {
      "month": 9,
      "year": 2017
     },
     "note": "DOI: 10.3386/w23863",
     "number": "23863",
     "publisher": "National Bureau of Economic Research",
     "title": "Diagnostic Expectations and Stock Returns",
     "type": "report"
    },
    "undefined": {
     "author": [
      {
       "family": "Nagel",
       "given": "Stefan"
      },
      {
       "family": "Xu",
       "given": "Zhengyang"
      }
     ],
     "id": "undefined",
     "issued": {
      "year": 2018
     },
     "language": "en",
     "page": "56",
     "page-first": "56",
     "title": "Asset Pricing with Fading Memory",
     "type": "article-journal"
    }
   }
  },
  "kernelspec": {
   "display_name": "Python 3",
   "language": "python",
   "name": "python3"
  },
  "language_info": {
   "codemirror_mode": {
    "name": "ipython",
    "version": 3
   },
   "file_extension": ".py",
   "mimetype": "text/x-python",
   "name": "python",
   "nbconvert_exporter": "python",
   "pygments_lexer": "ipython3",
   "version": "3.8.3"
  }
 },
 "nbformat": 4,
 "nbformat_minor": 2
}
