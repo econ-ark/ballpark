{
 "cells": [
  {
   "cell_type": "markdown",
   "metadata": {},
   "source": [
    "## Jeske, Krueger and Mitman"
   ]
  },
  {
   "cell_type": "markdown",
   "metadata": {},
   "source": [
    "## \"[Housing, mortgage bailout guarantees and the macroeconomy](https://www.sciencedirect.com/science/article/abs/pii/S0304393213001219)\" (2013)\n",
    "\n",
    "- Notebook is prepared by Yusuf Suha Kulu"
   ]
  },
  {
   "cell_type": "markdown",
   "metadata": {},
   "source": [
    "### Summary\n",
    "The article uses a model with heterogeneous, infinitely lived households to understand the macroeconomic and distributional effects of government bailout guarantees for Government Sponsored Enterprises (GSE)\n",
    "\n",
    "The main findings are as follows: \n",
    "\n",
    "- Eliminating the bailout guarantee leads to a large decline in mortgage origination and increases aggregate welfare by 0.5% in comsumption equivalent variation but has little effect on foreclosure rates and housing investment.\n",
    "\n",
    "- Bailout guarantee hurts low income and low asset households.\n"
   ]
  },
  {
   "cell_type": "markdown",
   "metadata": {},
   "source": [
    "\n"
   ]
  },
  {
   "cell_type": "markdown",
   "metadata": {},
   "source": [
    "### Overview\n",
    "\n",
    "#### Tax financed mortgage interest rate subsidy\n",
    "\n",
    "The baiolout guarantees are modeled as the tax financed interest rate subsidy because prior to the bailout of the GSEs, they could borrow at interest rates close to that on U.S government debt, despite the fact that they were heavily exposed to aggregate house price risk. The absence of risk premium can be attributed to implicit government bailout guarantee.\n",
    "\n",
    "\n"
   ]
  },
  {
   "cell_type": "markdown",
   "metadata": {},
   "source": [
    "### The Model \n",
    "\n",
    "- Heterogeneous agent general equilibrium model with incomplete markets in the tradition of Bewley(1986), Huggett(1993), and Aiyagari(1994).\n",
    "\n",
    "#### Households \n",
    "- U(c,h) where c is nondurable consumption c and h is housing services.\n",
    "- Endowment and (labor) income are used interchangeably. Households receive idiosynratic endowments which follow a finite state Markov chain $\\pi$(y'|y) and unique invariant distribution $\\Pi$(y).\n",
    "- Two types of assets: \n",
    "  - b' one period bonds with price P$_b$ \n",
    "  - g' perfectly divisible houses with price P$_h$. Houses are risky assets which are subject to idiosynratic house price shocks. F($\\delta$') cdf of house price depreciation rate $\\delta$' tomorrow with support D = [$\\underline{\\delta}$,1] where $\\underline{\\delta}$ $\\leq$ 0 which represents house value appreciation.\n",
    "- Mortgages: Households can borrow againts their real estate position using one period martgage debt. m' denote the size of the mortgage with price P$_m$. The price is determined by competition of banks through a zero profit condition. The gross mortgage interest rate is R$_m$ = $\\frac{1}{P_m}$\n",
    "- Households choose to default whenever the amount owed in the mortgage is greater than the value of the house after the realization of the price shock.\n",
    "- Recursive Formulation:\n",
    "\n",
    "v(a,y) = $max_{c,h,b',m'g' \\geq 0} \\bigg(U(c,h) + \\beta \\sum_{y'} \\pi(y'|y) \\int_{\\underline{\\delta}}^1 v(a',y')dF(\\delta') \\bigg)$\n",
    "\n",
    "s.t\n",
    "\n",
    "c + b'P$_b$ + hP$_l$ + g'P$_h$ - m'P$_m$(g',m') = a + g'P$_l$\n",
    "\n",
    "a'($\\delta$',y',m',g') = b' + max $\\big(0,P_h(1-\\delta')g' - m'\\big) + (1-\\tau$)y'\n",
    "\n",
    "\n",
    "#### The Real Estate Construction Sector\n",
    "- Reversibility of the technology: Real estate companies can turn houses into consumption goods\n",
    "\n",
    "max P$_h$I - C$_h$ \\\n",
    "s.t \\\n",
    "I=C$_h$ \\\n",
    "where I is the output (houses) and C$_h$ is the input of the consumption good\n",
    "\n",
    "- The equilibrium house price is P$_h$=1\n",
    "\n",
    "#### The banking sector \n",
    "- Effective cost of the banking sector for financing one dollar of mortgage equals (1 + r$_b$)(1 + r$_w$ + $\\theta$ - $\\phi$) where $\\phi$ is the is the mortgage subsidy, $\\theta$ is the cost of insurance, r$_w$ is the percentage real resource cost to the bank and r$_b$ equal to P$_b$ = $\\frac{1}{1+r_b}$.\n",
    "- Let $\\delta^*$(m',g') be cutoff level of household depreciation at which household is indifferent between defaulting and not defaulting on her mortgage. \n",
    "- A bank will originate a mortgage if and only if \\\n",
    "m'P$_m$(g',m') $\\leq$ $\\frac{1}{(1 + r_b)(1 + r_w + \\theta - \\phi)}$ $\\bigg( m'F(\\delta^*(m',g')) + \\gamma g' \\int_{\\delta^*(m',g')}^1 (1-\\delta')dF(\\delta') \\bigg)$\n",
    "\n"
   ]
  },
  {
   "cell_type": "markdown",
   "metadata": {},
   "source": [
    "### Results\n",
    "\n",
    "#### Comparison of steady state equilibria of economies with and without a tax financed mortgage interest rates subsidy of 30 basis points\n",
    "\n",
    "- Removing subsidy make mortgages less attractive by increasing the effective interest rate\n",
    " - Households with low levels of cash in hand do not respond much to the change in interest rate subsidy.\n",
    " - For wealthier households, the change in policy induces a massive reduction in leverage, and thus substantial reduction in mortgage debt.\n",
    "- Thus, households shifts away from bonds toward home equity. Median household was holding 60.7$%$ of its net worth in bonds with subsidy reduces to 5.8$%$ without subsidy."
   ]
  },
  {
   "cell_type": "code",
   "execution_count": 10,
   "metadata": {},
   "outputs": [
    {
     "data": {
      "text/html": [
       "<img src=\"results.png\"/>"
      ],
      "text/plain": [
       "<IPython.core.display.Image object>"
      ]
     },
     "execution_count": 10,
     "metadata": {},
     "output_type": "execute_result"
    }
   ],
   "source": [
    "from IPython.display import Image\n",
    "imgUrl = 'results.png'            # setup path and filename\n",
    "img = Image(url=imgUrl)              # create the image object\n",
    "img                                  # display the image"
   ]
  },
  {
   "cell_type": "code",
   "execution_count": null,
   "metadata": {},
   "outputs": [],
   "source": []
  },
  {
   "cell_type": "code",
   "execution_count": null,
   "metadata": {},
   "outputs": [],
   "source": []
  }
 ],
 "metadata": {
  "kernelspec": {
   "display_name": "Python 3",
   "language": "python",
   "name": "python3"
  },
  "language_info": {
   "codemirror_mode": {
    "name": "ipython",
    "version": 3
   },
   "file_extension": ".py",
   "mimetype": "text/x-python",
   "name": "python",
   "nbconvert_exporter": "python",
   "pygments_lexer": "ipython3",
   "version": "3.7.3"
  }
 },
 "nbformat": 4,
 "nbformat_minor": 2
}
