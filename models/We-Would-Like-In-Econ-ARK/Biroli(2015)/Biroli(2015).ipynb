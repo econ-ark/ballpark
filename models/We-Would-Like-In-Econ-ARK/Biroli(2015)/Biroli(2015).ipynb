{
 "cells": [
  {
   "cell_type": "markdown",
   "metadata": {},
   "source": [
    "# Pietro Biroli\n"
   ]
  },
  {
   "cell_type": "markdown",
   "metadata": {},
   "source": [
    "## \"Genetic and Economic Interaction in the Formation of Human Capital: The Case of Obsesity\""
   ]
  },
  {
   "cell_type": "markdown",
   "metadata": {},
   "source": [
    "This notebook is created by Wonsik Ko.  \n",
    "All the results of this paper is from https://drive.google.com/file/d/1cYedv5O5d1n5fCnxPgtYpLOg41yfiPV-/view on 10/4/2020."
   ]
  },
  {
   "cell_type": "markdown",
   "metadata": {},
   "source": [
    "### Summary  \n",
    "The paper develops a structural model of health and human captial formation illustrating the dynamic interaction between genetic inheritance and investments in health over the life cycle.  \n",
    "\n",
    "* Genetic heterogeneity changes the utility cost of investments and the production of health.  \n",
    "* Using BMI as a measure of health, the paper considers physical activity and food intake as investments in health.  \n",
    "* The result shows that Gene-Environment interaction plays a pivotal role in the evolution of BMI. Food intake has a stronger impact on BMI.  \n",
    "*  This analysis provides an economic framework of health and human capital formation."
   ]
  },
  {
   "cell_type": "markdown",
   "metadata": {},
   "source": [
    "### The Model  \n",
    "\n",
    "$H$ is human capital, $I_k$ is investment, and $g$ is genetic markers.  \n",
    "BMI is a measure of $H$ and proxies for $I_k$ are food consumption $F$ and exercise $E$.  \n",
    "\n",
    "1. Utility function $U(B_t, F_t, l_t, c_t, g)$ is derived from non-food consumption $c_t$, food consumption $F_t$, leisure $l_t$, and BMI $B_t$.  \n",
    "2. $B_{t+1} = I(F_t, E_t;g)+(1-\\delta_t)B_t + \\epsilon_t$. Future stock of health $B_{t+1}$ depends on current stock $B_t$, depreciation term $\\delta_t$, health investment $I(F_t, E_t;g)$, and a health shock $\\epsilon_t$.  \n",
    "3. In each period, current stock of health determines the amount of productive time $\\Omega_t$, which can be allocated to $l_t$ and $E_t$.  \n",
    "4. In each period, the agent is endowed with the income $Y_t$ that is devoted to $c_t$ and $F_t$.  \n",
    "5. $F_t$ is divided again into nutritious food $NF_t$ with a lower caloric content and non-nutritious food $UF_t$ with higher caloric content.  \n",
    "6. The overall expenditure on food will be $P_{F_t}F(UF, NF)=P_{UF_t}UF_{t}+P_{NF_t}NF_{t}$ so that $Y_t = P_{f}F(UF_t, NF_t) +c_t$.\n"
   ]
  },
  {
   "cell_type": "markdown",
   "metadata": {},
   "source": [
    "### The agent's problem  \n",
    "\\begin{align}\n",
    "V(B_0, Y_0, \\epsilon_0; g) = &max_{NF_t, E_t} \\sum_{t=0}^{T-1}\\beta^t EU(B_t, F_t, l_t, c_t;g) \\\\\n",
    "&s.t.\\\\\n",
    "\\Omega(B_t)&=l_t + E_t \\\\\n",
    "Y_t &=P_{F_t}F(UF_t, NF_t) + c_t \\\\\n",
    "B_{t+1} &= I(F_t, E_t;g)+(1-\\delta_t)B_t + \\epsilon_t\n",
    "\\end{align}"
   ]
  },
  {
   "cell_type": "markdown",
   "metadata": {},
   "source": [
    "### Channel of genetic variants  \n",
    "\n",
    "1. Production function of health: $I(\\cdot ; g)$  \n",
    "2. Preference: $\\partial U(\\cdot ; g) / \\partial F$"
   ]
  },
  {
   "cell_type": "markdown",
   "metadata": {},
   "source": [
    "### The three period model  \n",
    "\n",
    "In the final period, $E_3=0$ and expenditure will solve $\\partial U_F(F_3)=P_{F_3}\\partial U_c(Y_3 - P_{F_3}F_3)$. The optimal food consumption in period 2 is given by  \n",
    "\\begin{align}\n",
    "U_{F_2}^{'}(\\cdot ; g) &=P_{F_2} U_{c_2}^{'}(\\cdot ; g) +\\beta E[- U_{B_3}^{'}(\\cdot ; g) - U_{l_3}^{'}(\\cdot ; g)\\partial \\Omega / \\partial B_3] I_{F_2}^{'}(\\cdot;g) \\\\\n",
    "&= P_{F_2}U_{c_2}^{'}(\\cdot ; g)+\\beta E[\\phi_{B_3}]I_{F_2}^{'}(\\cdot ;g)\n",
    "\\end{align}  \n",
    "\n",
    "The split between nutritious and non-nutritious food is determined by income and relative prices, such that $NF_t = F_t - \\kappa UF_t $ and $UF_t = \\frac{Y_t - c_t - P_{NF}F_t}{P_{UF}-\\kappa P_{NF}}$  \n",
    "Optimal investment in exercise must satisfy\n",
    "\n",
    "\\begin{align}\n",
    "-U_{t}^{'}(B_2, F_2, l_2)=\\beta E[\\phi_{B_3}]\\frac{\\partial I(F_2, E_2;g)}{\\partial E_2}\n",
    "\\end{align}  \n",
    "\n",
    "The optimal choice of food consumption in period 1 must satisfy the following:\n",
    "\n",
    "\\begin{align}\n",
    "U_F^{'}(B_1, F_1, l_1)=P_{F_1}U_{c_1}^{'}+\\beta E[\\phi_{B_2}+\\beta (1-\\delta)\\phi_{B_3}]\\frac{\\partial I(F_1, E_1;g)}{\\partial F_1}\n",
    "\\end{align}  \n",
    "\n",
    "Comparing a change in the cost of food consumption in period one or in period two, we can see how a decrease in the implicit price of food today has a greater effect on investments and health. This is due to the fact that a higher level of investment today has an impact on both health today and health tomorrow, because of the law of motion of health capital. Unless the health stock fully depreciates in one period, by investing today we will rip the benefits in all following periods."
   ]
  },
  {
   "cell_type": "markdown",
   "metadata": {},
   "source": [
    "\n",
    "### Data  \n",
    "Avon Longitudinal Study of Parents and Children(main) and Offspring Cohort of the Framingham Heart Study.  \n",
    "\n",
    "### A linear production function of health  \n",
    "\n",
    "\n",
    "A log linear production function $B_{t+1}=A(B_{t}, X_t)g^{\\beta_g} [F_{t}^{\\alpha_{f}} (g), E_{t}^{\\alpha_{e}} (g)]$\n",
    "\n",
    "\n",
    "## Results \n",
    "\n",
    "The genetic endowment of the child has a clear and strong effect on the obesity level, even after controlling for standard demographic\n",
    "characteristics as well as the mother BMI.  \n",
    "The past stock of BMI is a very important determinant of its current level of Bt, and its inclusion raises significantly the explanatory power.  \n",
    "The most important contribution to BMI comes from food consumption and exercise, and their interaction with the genetic endowment.  \n",
    "The interaction between the genetic variant and caloric intake is positive and statistically significant.  \n",
    "The genetic endowment of a child can have an effect not only on the production function of health $f(\\cdot; g) $ but also on the level of investments $I_{t}^{*}=(F_{t}^{*}, E_{t}^{*})$.  \n",
    "\n",
    "\n",
    "Assuming Cobb-Douglas function for health investment production function and the utility function,  \n",
    "\n",
    "### Bellman equation  \n",
    "\\begin{align}\n",
    "V_{t}(B_t, Y_t , \\epsilon_t;g) &= max_{E_{t},B_{t+1}}\\zeta_B log B_t +\\frac{\\zeta_F (g)}{a(g)} (log B_{t+1} -(1-\\delta_t)log B_t - log \\epsilon_t) - \\frac{b(g) \\zeta_F (g)}{a(g)} log E_t +\\zeta_l log(\\Omega- E_t) + \\zeta_c log c \\\\\n",
    "&+\\beta EV_{t+1}(B_{t+1},Y_{t+1},\\epsilon_{t+1};g)\n",
    "\\end{align}  \n",
    "\n",
    "\n",
    "An increase in prices lowers caloric consumption and consequently BMI: the average reduction at the end of the period (beginning of adulthood) is about .6BMI points (1.5kg, 3% reduction). Such price changes induce di\u000b",
    "erent responses according to the genotype of the individual: carriers of the risky A-allele reduce caloric intake much more, so much that the overall genetic difference in BMI is negligible.  \n",
    "  \n",
    "  \n",
    "Now considering a 25% reduction in food intake for the first 10 years of life. It can mimic the effect of an intervention that removes high-caloric foods from school cafeteria and replaces them with healthier options. The effect of the policy on the evolution of BMI is more moderate, with an average reduction of .4 BMI points (.9 kg, 2% reduction).  \n",
    "\n",
    "\n",
    "## Conclusion  \n",
    "\n",
    "* The genotype of an individual can shift preferences as well as human capital production possibility frontiers.  \n",
    "  \n",
    "  \n",
    "* Adolescents carrying the A-allele in the FTO genotype are at greater risk of obesity, even when consuming the same calories and performing the same physical activity as the adolescents with the other genotype. Their production function is shifted, with a rate of conversion of calories into BMI 1/3 steeper. Instead of counterbalancing this effect with a stricter diet, they tend to consume 2% more calories, suggesting a difference in their preferences for food intake. There is no evidence of a significant interaction between the FTO genotype and physical activity.  \n",
    "  \n",
    "  \n",
    "* 35.4% of this differences is attributable to changes in productivity parameters of the BMI production function; the remaining 64.5% is attributable to changes in the investments. Secondly, calibrating a structural model.  \n",
    "  \n",
    "  \n",
    "* A high calorie tax almost eliminates the difference in BMI across genetic groups. An early childhood policy target at reducing caloric intake in the first 10 years of life does not have the same equalizing effect, but still manages to lower BMI in the long run.\n",
    "\n",
    "\n",
    "\n"
   ]
  },
  {
   "cell_type": "code",
   "execution_count": null,
   "metadata": {},
   "outputs": [],
   "source": []
  }
 ],
 "metadata": {
  "kernelspec": {
   "display_name": "Python 3",
   "language": "python",
   "name": "python3"
  },
  "language_info": {
   "codemirror_mode": {
    "name": "ipython",
    "version": 3
   },
   "file_extension": ".py",
   "mimetype": "text/x-python",
   "name": "python",
   "nbconvert_exporter": "python",
   "pygments_lexer": "ipython3",
   "version": "3.7.6"
  }
 },
 "nbformat": 4,
 "nbformat_minor": 4
}
