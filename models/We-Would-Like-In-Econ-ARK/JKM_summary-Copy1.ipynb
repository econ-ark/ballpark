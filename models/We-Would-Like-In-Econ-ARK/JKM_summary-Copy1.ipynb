{
 "cells": [
  {
   "cell_type": "markdown",
   "metadata": {},
   "source": [
    "## Jeske, Krueger and Mitman"
   ]
  },
  {
   "cell_type": "markdown",
   "metadata": {},
   "source": [
    "## \"[Housing, mortgage bailout guarantees and the macroeconomy](https://www.sciencedirect.com/science/article/abs/pii/S0304393213001219)\" (2013)\n",
    "\n",
    "- Notebook is prepared by Yusuf Suha Kulu"
   ]
  },
  {
   "cell_type": "markdown",
   "metadata": {},
   "source": [
    "### Summary\n",
    "The article uses a model with heterogeneous, infinitely lived households to understand the macroeconomic and distributional effects of government bailout guarantees for Government Sponsored Enterprises?\n",
    "\n",
    "The main findings are as follows: \n",
    "\n",
    "- Eliminating the bailout guarantee leads to a large decline in mortgage origination and increases aggregate welfare by 0.5% in comsumption equivalent variation but has little effect on foreclosure rates and housing investment.\n"
   ]
  },
  {
   "cell_type": "markdown",
   "metadata": {},
   "source": [
    "\n"
   ]
  },
  {
   "cell_type": "markdown",
   "metadata": {},
   "source": [
    "### Overview\n"
   ]
  },
  {
   "cell_type": "code",
   "execution_count": null,
   "metadata": {},
   "outputs": [],
   "source": []
  }
 ],
 "metadata": {
  "kernelspec": {
   "display_name": "Python 3",
   "language": "python",
   "name": "python3"
  },
  "language_info": {
   "codemirror_mode": {
    "name": "ipython",
    "version": 3
   },
   "file_extension": ".py",
   "mimetype": "text/x-python",
   "name": "python",
   "nbconvert_exporter": "python",
   "pygments_lexer": "ipython3",
   "version": "3.7.3"
  }
 },
 "nbformat": 4,
 "nbformat_minor": 2
}
