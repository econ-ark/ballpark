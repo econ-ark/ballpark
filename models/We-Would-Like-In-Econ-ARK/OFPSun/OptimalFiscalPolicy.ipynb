{
 "cells": [
  {
   "cell_type": "markdown",
   "metadata": {},
   "source": [
    "# Optimal Fiscal Policy with Heterogeneous Agents\n",
    "## Journal: Quantitative Economics\n",
    "## Author: Marco Bassetto\n",
    "## Notebook by Mingzuo Sun\n",
    "## Sep 15, 2019\n"
   ]
  },
  {
   "cell_type": "markdown",
   "metadata": {},
   "source": [
    "### Goal of the paper\n",
    "This paper is designed to study the relationship between the intertemporal behavior of taxes and wealth distribution in a Heterogeneous-Agent framework. While optimal-taxation problem appears quite often in the literature of representative agent model, it is much less often discussed in a heterogeneous-agent context, one of the reasons of which is that Representative Agent ('RA') model has much stronger welfare implications since the maximization of the social welfare and the maximization of the representative agent's welfare are equivalent. However, in Heterogeneous Agent ('HA') model, with a given social welfare function, we can still do that by studying how the government can manipulate the intertemporal prices to favor some groups over others."
   ]
  },
  {
   "cell_type": "markdown",
   "metadata": {},
   "source": [
    "###  Overview\n",
    "\n",
    "This paper tries to study the optimal fiscal policy with heterogeneous agents on both of the normative side and positive side. On the normative side, the Pareto frontier on which there is a trade-off between 'equity and efficiency' is being traced in this paper. In addition, it also tries to find some positive implications since an ideal political system will select policies close to the Pareto frontier. Particularly when there are large fiscal shocks occurring like a war, the welfare differences among possible fiscal policies will differ a lot, which in turn could make the main argument of the paper more evident."
   ]
  },
  {
   "cell_type": "markdown",
   "metadata": {},
   "source": [
    "### Model\n",
    "\n",
    "#### Setup of the general model\n",
    "\n",
    "\n",
    "##### Endowment and technology\n",
    "\n",
    "Exogenous stream of public spending which has no effect on utility function.\n",
    "\n",
    "$\\{g_t\\}_{t=0}^\\infty$: stochastic process with a finite range G.\n",
    "\n",
    "Randomization of taxation plan: $h_0$, revealed after the choice of consumption and tax plans at time 0. （Note: Here tax rates are randomized in individuals but not in periods. Stiglitz(1981) made the argument that randomization will capture the feature of optimal taxation under a series of conditions related to the consumer's utility functions and the average tax rate. And randomization here can still preserve ex ante equity.)\n",
    "\n",
    "No storage and only one consumption good. \n",
    "\n",
    "CRS technology with labor being the only input, productivity $w^{i}$.\n",
    "\n",
    "Each agent is endowed with 1 unit of time.\n",
    "\n",
    "Government can levy proportional taxes on the labor income of each agent in the economy.\n",
    "\n",
    "Complete market for both privately issued and publicly issued securities. No defalt is allowed.\n",
    "\n",
    "$b^i(s^t)$: the amount of government-issued contingent claims payable at time $t$.\n",
    "\n",
    "$\\eta^i(s^t)$: entitlement to the state-contingent goods owned by agent $i$ as of time 0. $$\\sum_{n=1}^{N} \\eta^i(s^t) \\equiv 0$$\n",
    "##### Preferences\n",
    "###### Agent\n",
    "$Agent=\\{1,...,i,...,N \\}$.\n",
    "\n",
    "$U^i\\equiv E_0 \\sum_{t=0}^{\\infty}  \\beta^t u^i(c^i(s^t),u^i(s^t))$\n",
    "\n",
    "The $ith$  agent has the Arrow-Debreu budget constraint\n",
    "\n",
    " $\\sum _ { t = 0 } ^ { \\infty } \\sum _ { s^t \\in S^t } ^ { n } p \\left( s ^ { t } \\right) \\left[ c ^ { i } \\left( s ^ { t } \\right) - \\eta ^ { i } \\left( s ^ { t } \\right) - b ^ { i } \\left( s ^ { t } \\right) - \\left( 1 - \\tau \\left( s ^ { t } \\right) \\right) w ^ { i } \\left( 1 - x ^ { i } \\left( s ^ { t } \\right) \\right) \\right] = 0 $\n",
    "\n",
    "where $p(s^t)$ is the time-0 price of an Arrow-Debreu security that pays 1 at date $t$ in state $s^t$.\n",
    "\n",
    "###### Government\n",
    "\n",
    "The preference of the goverment(social welfare function)\n",
    "\n",
    "$W \\equiv \\sum_{n=1}^{N} \\alpha^iU^i$,$\\alpha^i$ is the Pareto weight of the $i$th agent.\n",
    "\n",
    "Government budget constraint\n",
    "\n",
    "$\\sum _ { t = 0 } ^ { \\infty } \\sum _ { s ^ { t } \\in S ^ { t } } p \\left( s ^ { t } \\right) \\left[ g _ { t } + \\sum _ { i = 1 } ^ { N } \\left( b ^ { i } \\left( s ^ { t } \\right) - \\tau \\left( s ^ { t } \\right) w ^ { i } \\left( 1 - x ^ { i } \\left( s ^ { t } \\right) \\right) \\right) \\right] = 0$\n",
    "#### Market clear condition\n",
    "\n",
    " $\\sum _ { i = 1 } ^ { N } c ^ { i } \\left( s ^ { t } \\right) + g _ { t } = \\sum _ { i = 1 } ^ { N } w ^ { i } \\left( 1 - x ^ { i } \\left( s ^ { t } \\right) \\right) + \\sum _ { i = 1 } ^ { N } \\eta ^ { i } \\left( s ^ { t } \\right) \\quad \\forall t \\geq 0 \\quad \\forall s ^ { t } \\in S ^ { t }  $\n",
    "\n",
    "\n",
    "#### The two class economy\n",
    "\n",
    "The general framework is specialized into a particular case in which there are two types of agents in the economy M agents of type 1 and (by normalization) one agent of type 2. Type-1 agents are 'rentiers'. Their productivity $w^1=0$ is 0, so they always choose $x^1_t= 1$.They have no labor income and live only out of their assets.Type-2 agents\n",
    "are identified as the 'taxpayers', as they are the only ones who have labor income and therefore pay taxes. We normalize their productivity to be $w^2 = 1$.\n",
    "We assume the agents have the utility functions\n",
    "\n",
    "$u^1(c_t^1,x_t^1)=\\frac{(c_t^1)^{(1-\\gamma)} \\quad -1}{1-\\gamma}$ \n",
    "\n",
    "$u^2(c_t^2,x_t^2)=\\frac{(c_t^2)^{(1-\\gamma)} \\quad -1}{1-\\gamma}+\\xi\\frac{(x_t^2)^{(1-\\sigma)} \\quad -1}{1-\\sigma} $ \n"
   ]
  },
  {
   "cell_type": "markdown",
   "metadata": {},
   "source": [
    "### Basic results\n",
    "\n",
    "Different tax rates in different periods can distort intertemporal prices, which is an important redistribution tool of the government.\n",
    "\n",
    "For the rentiers, the intertemporal change of tax rates will not have  direct effect but indirect effect(general equilibrium effect) on them.\n",
    "\n",
    "By taxing labor in odd periods and subsidizing it in even periods, the government generates an artificial scarcity of  goods in odd periods, which is beneficial to the rentiers but very costly to the tax payers.\n",
    "\n",
    "A government that draws its main support from the people who pay taxes should optimally run larger deficits and wait for the end of the war to levy the taxes necessary to repay the defense expenses and vice versa.\n",
    "\n",
    "\n"
   ]
  },
  {
   "cell_type": "markdown",
   "metadata": {},
   "source": [
    "### Novelties of the paper\n",
    "\n",
    "Using a simple model, this paper tries to find a link between the way of financing large public project and political inclination with efficiency considerations. By doing that, it manages to reveal some features of the optimal distortionary fiscal policy in a 2-agent model. Besides the theoretical work, it also tries to validate its result through some empirical evidence. By a simulation of the economies of France and Britain during their war time, this paper shows that the patterns of fiscal policy suggested by the model coincide with the real patterns in history, so  it also has some political implications."
   ]
  },
  {
   "cell_type": "code",
   "execution_count": null,
   "metadata": {},
   "outputs": [],
   "source": []
  }
 ],
 "metadata": {
  "kernelspec": {
   "display_name": "Python 3",
   "language": "python",
   "name": "python3"
  },
  "language_info": {
   "codemirror_mode": {
    "name": "ipython",
    "version": 3
   },
   "file_extension": ".py",
   "mimetype": "text/x-python",
   "name": "python",
   "nbconvert_exporter": "python",
   "pygments_lexer": "ipython3",
   "version": "3.6.8"
  },
  "latex_envs": {
   "LaTeX_envs_menu_present": true,
   "autoclose": false,
   "autocomplete": true,
   "bibliofile": "biblio.bib",
   "cite_by": "apalike",
   "current_citInitial": 1,
   "eqLabelWithNumbers": true,
   "eqNumInitial": 1,
   "hotkeys": {
    "equation": "Ctrl-E",
    "itemize": "Ctrl-I"
   },
   "labels_anchors": false,
   "latex_user_defs": false,
   "report_style_numbering": false,
   "user_envs_cfg": false
  },
  "toc": {
   "base_numbering": 1,
   "nav_menu": {},
   "number_sections": true,
   "sideBar": true,
   "skip_h1_title": false,
   "title_cell": "Table of Contents",
   "title_sidebar": "Contents",
   "toc_cell": false,
   "toc_position": {
    "height": "calc(100% - 180px)",
    "left": "10px",
    "top": "150px",
    "width": "165px"
   },
   "toc_section_display": true,
   "toc_window_display": true
  }
 },
 "nbformat": 4,
 "nbformat_minor": 2
}
