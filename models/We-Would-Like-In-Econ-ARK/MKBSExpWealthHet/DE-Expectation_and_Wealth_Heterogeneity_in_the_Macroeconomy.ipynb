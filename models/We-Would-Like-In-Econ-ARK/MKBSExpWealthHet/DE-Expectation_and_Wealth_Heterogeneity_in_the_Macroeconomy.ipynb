{
 "cells": [
  {
   "cell_type": "markdown",
   "metadata": {
    "tags": []
   },
   "source": [
    "# Mitman, Kohlhas, Broer, and Schlafmann (2022)\n",
    "\n",
    "# [Expectation and Wealth Heterogeneity in the Macroeconomy](http://perseus.iies.su.se/~akohl/EWHM_web.pdf)\n",
    "\n",
    "* Notebook is created Decory Edwards\n",
    "* Created on February 14, 2022"
   ]
  },
  {
   "cell_type": "markdown",
   "metadata": {},
   "source": [
    "## 1. Introduction\n",
    "\n",
    "As the expectations of agents in the economy has become an important feature of macroeconomic modelling, recent work by Mitman, Kohlhas, Broer, and Schlafmann (2022) adds to this literature by developing a model of expectation formation for households that is consistent with the data. \n",
    "\n",
    "That is, recent empirical work suggests that households not only have significantly different expectations but that these differences are systematically correlated with some economics characteristics of the household (ex. *wealth*). \n",
    "\n",
    "The model in this paper develops a theory incorporates households' decisions to acquire information into the standard framework of macroeconomic models of heterogeneous agents with *a precautionary saving motive, who face aggregate risk, and have the choice to invest in a single, riskless asset*.  \n"
   ]
  },
  {
   "cell_type": "markdown",
   "metadata": {
    "tags": []
   },
   "source": [
    "## 2. Empirical Findings\n",
    "\n",
    "The key empirical insight of the paper consolidates data from the Survey of Consumer Expectations (SCE) regarding (i) a panel of point and density forecasts for relevant macroeconomic and financial variables and (ii) survey data on the composition of household wealth to provide evidence of a systematic relationship between a household's wealth holdings and the accuracy of their expectations regarding uncertain economic events. \n",
    "\n",
    "Specifically, the article finds a **non-monotone relationship between wealth and expectations**. Wealthier households tend to have more accurate forecasts, but this pattern from the data only holds for those households above the 20th percentile of the wealth distribution. In fact, households below this 20th percentile threshold have expectations that are closer to those of the most wealthy households."
   ]
  },
  {
   "cell_type": "markdown",
   "metadata": {
    "tags": []
   },
   "source": [
    "![Figure 1](Figures/MKBS_fig1.png)"
   ]
  },
  {
   "cell_type": "markdown",
   "metadata": {},
   "source": [
    "This is reflected in the graph below. The figure on the left show that, when compared to the average *absolute value of unemployment forecast errors* across households, the households in the bottom 0-10 percentile of the wealth distribution have the most accurate forecasts. Those households between the 10th and 60th percentile have forecasts that are relatively less accurate than the average. Lastly, households between the 60th and 100th percentile have increasingly more accurate forecasts relative to the average.\n",
    "\n",
    "The figure on the right show the results of a regression of the absolute value of unemployment errors on the wealth decile the respondent belongs to, with various control variables included. The estimates are taken relative to the top decile of households (80-100).  \n",
    "\n",
    "This analysis of the SCE data gives motivation for the authors' proposed model of heterogeneity in expectations, embedded in the standard heterogeneouos agent model framework. This is done by allowing for households at a given level of wealth to choose the optimal level of information to acquire. "
   ]
  },
  {
   "cell_type": "markdown",
   "metadata": {},
   "source": [
    "## 3. Model\n",
    "\n",
    "### Household problem\n",
    "\n",
    "Each household maximizes utility subject to the following constraint:\n",
    "\n",
    "$$ \\mathcal{U_i} = \\mathbb{E}_{i0} \\sum_{t=0}^{\\infty} \\beta^t \\bigg[ \\frac{c_{it}^{1-\\gamma} - 1}{1 - \\gamma} - \\kappa_t (\\mathcal{I}_{it}) \\bigg], $$\n",
    "\n",
    "$$ \\text{s.t. $\\hspace{2.5mm}$} c_{it} + k_{i t+1} + \\nu(\\mathcal{I}_{it}) = r_t k_{it} + (1 - \\tau_t)\\epsilon_{it} w_t \\bar{l} + \\mu (1-\\epsilon_{it})w_t + (1-\\delta)k_{it} ,$$\n",
    "\n",
    "where $\\kappa_t$ is the utility cost of acquiring information $\\mathcal{I}_{it}$ and $\\nu(\\mathcal{I}_{it})$ is the monetary cost of acquiring information. \n",
    "\n",
    "(Hereafter, we will follow the authors in referring to the combination of terms on the right hand side of this equation as \"cash-on-hand\" ($m_i$) because it reflects the funds that are available either for consumption or investment that will result in capital (and capital income) in the next period. We avoid use of the word \"savings\" because it is too easy to confuse the stock of resources at the end of the period with the closely related but distinct meaning of the term \"saving rate\".)\n",
    "\n",
    "### Timeline and information structure\n",
    "\n",
    "At the beginning of each period, both idiosyncratic shocks $(\\epsilon_{it}, \\kappa_{it})_{i}$ and aggregate shocks $(z_t)$ are realized. Note that the aggregate shocks are modeled as an extension of the seminal work by [Krusell-Smith](https://econ-ark.org/materials/krusellsmith). \n",
    "\n",
    "From there, households choose which signals $\\mathcal{I}_{it}$ to acquire regarding the current state of the economy. Following this choice from all households, firms rent capital and labor, production takes place, and factor payments are made.\n",
    "\n",
    "Lastly, households make consumptions and saving choices $(c_{it}, k_{i t+1})$ *conditional on information choices at the previous stage*.\n",
    "\n",
    "### Recursive formulation of the problem\n",
    "\n",
    "The two-stage household problem can be reformulated recursively as follows. At the beginning of the period, households choose what information to acquire $\\mathcal{I}_i \\in \\emptyset \\cup \\mathcal{I}^{max}$:\n",
    "\n",
    "$$ V(m_i, \\epsilon_i, p_{i,-1}, \\Sigma_{-1}) = \\max_{\\mathcal{I}_i} \\mathbb{E}[W(m_i - \\nu(\\mathcal{I}_i), \\epsilon_i, p_i, \\Sigma) - \\kappa(\\mathcal{I}_i) | \\Omega_{i,-1}] ,$$\n",
    "\n",
    "where $V(\\cdot)$ and $W(\\cdot)$ denote a household's value functions before and after information choice, respectively. \n",
    "\n",
    "Following the choice of information, households make consumption $c_i$ and saving decisions $k'_{i}$ out of cash-at-hand net of information acquisition costs $y_i$:\n",
    "\n",
    "$$ W(y_i, \\epsilon_i, p_i, \\Sigma) = \\max_{c_i, k'_{i} \\geq 0}  \\frac{c_{it}^{1-\\gamma}}{1-\\gamma} + \\beta \\mathbb{E}[V(m'_{i}, \\epsilon'_{i}, p_i, \\Sigma) | \\Omega_i]  $$\n",
    "\n",
    "subject to\n",
    "\\begin{gather}\n",
    " c_i + k'_{i} = y_i \\\\\n",
    " m'_{i} = r(\\Sigma')k'_i + (1-\\tau) \\epsilon'_i w(\\Sigma') \\bar{l} + \\mu (1-\\epsilon'_{i})w(\\Sigma') + (1-\\delta)k'_i.\\\\\n",
    "\\end{gather}"
   ]
  },
  {
   "cell_type": "markdown",
   "metadata": {},
   "source": [
    "## 4. Approximated Model of the Household's Decision Problem\n",
    "\n",
    "After considering the general formulation of the model, it is useful to consider the approximated version of the model that the authors solve and present quantitative results for. This computational strategy is similar to the one proposed by Krusell-Smith (1998).\n",
    "\n",
    "Again, each household solves a two-stage optimization problem. At the beginning of the period, the agent can choose to observe the economy's productivity state $z$ given their relevant state-variables:\n",
    "\n",
    "1. cash-at-hand, $m_i$,\n",
    "2. employment status, $\\epsilon_i$,\n",
    "3. prior over the probability that the economy is in the high productivity state, $p_{i,-1}^{z} \\equiv \\mathbb{P}(z = z_h | \\Omega_{i,-1})$,\n",
    "4. prior over the aggregate capital stock $p_{i,-1}^{K}$.\n",
    "\n",
    "Following this choice of information acquisition, the agent then makes the standard consumption-saving decisions given their relevant (updated) state-variables:\n",
    "\n",
    "1. cash-at-hand minus costs of acquiring information, $y_i$,\n",
    "2. employment status, $\\epsilon_i$,\n",
    "3. updated beliefs over the probability that the economy is in the high productivity state, $p_{i,-1}^{z} \\equiv \\mathbb{P}(z = z_h | \\Omega_{i,-1})$,\n",
    "4. updated beliefs over the aggregate capital stock $p_{i,-1}^{K}$.\n",
    "\n",
    "The problem can be reexpressed as:\n",
    "\n",
    "*Stage 1: Information choice*\n",
    "\n",
    "$$ \\tilde{V}(m_i, \\epsilon_i, p_{i,-1}^{z}, p_{i,-1}^{K}) = \\max_{\\mathcal{I} \\in \\{\\emptyset, z\\}} \\mathbb{E}[\\tilde{W}(m_i - \\nu(\\mathcal{I}), \\epsilon_i, p_{i,-1}^{z}, p_{i,-1}^{K}) - \\kappa(\\mathcal{I}) | p_{i,-1}^{z}, p_{i,-1}^{K} ] $$\n",
    "\n",
    "$$ p_{i,-1}^{z} =  \\mathbb{P}(z = z_h | \\Omega_{i})$$\n",
    "\n",
    "*Stage 2: Consumption-saving choice*\n",
    "\n",
    "$$ \\tilde{W}(y_i, \\epsilon_i, p_{i,-1}^{z}, p_{i,-1}^{K}) = \\max_{c_i, k'_{i} \\geq 0}  \\frac{c_{it}^{1-\\gamma}}{1-\\gamma} + \\beta \\mathbb{E}[V(m'_{i}, \\epsilon'_{i}, p_i, \\Sigma) | p_{i,-1}^{z}, p_{i,-1}^{K'}]$$\n",
    "\n",
    "subject to\n",
    "\\begin{gather}\n",
    " c_i + k'_{i} = y_i \\\\\n",
    " m'_{i} = r(z', K')k'_i + (1-\\tau) \\epsilon'_i w(z', K') \\bar{l} + \\mu (1-\\epsilon'_{i})w(z',K') + (1-\\delta)k'_i. \\\\\n",
    " K' = \\tilde{H}(z,K) \\\\\n",
    " p_{i}^{K'} = \\mathbb{E}[\\tilde{H}(z,p_{i}^{K}) | \\Omega_i],\n",
    "\\end{gather}\n",
    "\n",
    "where $\\Omega_i = \\{\\mathcal{I_i}, \\Omega_{-1}\\}$ and $\\tilde{H}(z,K)$ is the law of motion for the aggregate capital stock.\n",
    "\n",
    "Notice that the final expression ($p_{i}^{K'} = \\mathbb{E}[\\tilde{H}(z,p_{i}^{K}) | \\Omega_i]$) captures the fact that an agent forms their prior for the aggregate capital stock in the next period by forming an expectation over the law of motion given the aggregate state of the economy and their prior over the capital stock in the current period. Thus, if the agent chose to acquire information in the current period, then they will have correct beliefs about both the productivity state ($z$) and the capital stock $K$. If they don't acquire information, then this expectation is calculated using their prior over both $z,K$."
   ]
  },
  {
   "cell_type": "markdown",
   "metadata": {},
   "source": [
    "## 5. Quantitative Results\n",
    "\n",
    "### Information acquisition and saving behavior \n",
    "\n",
    "Agents in this model have two main reasons to save across periods: to smooth consumption over their lifetime due to potential loss in income (precautionary saving) and to reap the benefits of movements in the rate of return to assets (intertemporal substitution).\n",
    "\n",
    "With this in mind, the first result of the paper describes how endogenous information choice affects households' saving decisions by analyzing the two cases: \n",
    "\n",
    "1. The *static cost* of not being informed: This is done by comparing the saving behavior of an informed household with an uninformed household whose prior regarding productivity is kept fixed at $50-50$ (i.e. uninformative). This case is called *static* because it is assumed that both individuals have the same prior over the capital stock and that this belief is held constant during the analysis. \n",
    "\n",
    "This will in turn fix their expectation regarding the rate of return to assets. So, this is an attempt to isolate the effect of the precautionary saving motive on saving behavior given the household's choice of acquiring information. Again, since both households are assumed to have the *same prior over the capital stock*, then the difference in saving behavior at a given level of wealth is drive by the household's ability to accurately forecast future probabilities of unemployment and labor productivity given their current information.\n",
    "\n",
    "The paper finds that **informed households save more than uninformed in recessions** (captured by $z_l$) since they can accurately assess that the probability of becoming unemployed is higher. This strengthens the effect of the precautionary saving motives for *all* households; thus, uninformed housholds make a mistake in their optimal saving decision given the state of the economy.\n",
    "\n",
    "Since the precautionary saving motive is stronger at lower levels of wealth, the difference in saving behavior at lower levels of wealth is more pronounced given the choice to acquire information. This can be seen in figure 3.\n",
    "\n",
    "![Figure 3](Figures/MKBS_fig3.png)\n",
    "\n",
    "2. The *dynamic cost* of not being informed: The choice to not acquire information will lead to mean-biased expectations for these households. The differences in household saving behavior from the previous case are then compounded by the desire to substitute intertemporally. Uninformed households will then make worse saving decisions as their beliefs about next period's capital stock will determine their expectation on the rate of return.  \n",
    "\n",
    "Specifically, the paper finds that uninformed households additionally save less in recessions than informed households. As the **aggregate capital stock falls during recessions, households who choose not to acquire information believe that the capital stock is larger** than it is. This in turn leads to an **expectation on the rate of return to their investments that is lower** than what it is, **given the fall in the capital stock**. \n",
    "\n",
    "The effect of underpredicting the rate of return during recessions (or overpredicting during booms) given the choice to not acquire information can be significant even at higher levels of wealth. This is captured in figure 4.\n",
    "\n",
    "![Figure 4](Figures/MKBS_fig4.png)"
   ]
  },
  {
   "cell_type": "markdown",
   "metadata": {},
   "source": [
    "### Individual state-variables and information acquisition\n",
    "\n",
    "The paper next discusses how consumers' decision whether to acquire information depends upon their state-variables. \n",
    "\n",
    "![Figure 5](Figures/MKBS_fig5.png)\n",
    "\n",
    "Recall that the consumer's decision relfects an optimal choice given their set of state-variables at the time of acquisition of information:  \n",
    "\n",
    "$$ \\tilde{V}(m_i, \\epsilon_i, p_{i,-1}^{z}, p_{i,-1}^{K}) = \\max_{\\mathcal{I} \\in \\{\\emptyset, z\\}} \\mathbb{E}[\\tilde{W}(m_i - \\nu(\\mathcal{I}), \\epsilon_i, p_{i,-1}^{z}, p_{i,-1}^{K}) - \\kappa(\\mathcal{I}) | p_{i,-1}^{z}, p_{i,-1}^{K} ] $$\n",
    "\n",
    "**Note:** This equation assumes that the consumer does not know how much labor income they have received or how much capital income or how much capital they owned at the beginning of the period. In the standard Krusell-Smith model, when the consumer makes a consumption decision, that decision is completely uninfluenced by how their cash-on-hand decomposes into these components. So even if the consumer knew them, they would not constitute state-variables on their own. Here, however, an employed consumer who was able to see how much their labor income or their income tax rate was would be able to infer with almost perfect accuracy the aggregate state because those variables alone provide what is likely a sufficient statistic to determine the economy's state. Even unemployed consumers, whose income is assumed to be the same whether there is a recession or not, would likely be able to make a very good guess about the economy's state from the capital income that their capital stock had yielded. \n",
    "\n",
    "In order to usefully depict the systematic patterns in how the choice to acquire information depends on cash-on-hand, prior beliefs about the productivity state of the economy, and the consumer's employment status, the authors integrate over the distribution of priors regarding the aggregate capital stock in order to obtain a probability of choosing to acquire information given these state-variables of interest.\n",
    "\n",
    "1. *Prior over productivity*\n",
    "\n",
    "Nonsurprisingly, households with less informative prior expectations regarding productivity levels are more likely to acquire information at all wealth levels.\n",
    "\n",
    "From here, to understand the rest of this argument, it is best to consider the result conditional on a household's employment status, since this implies markedly different saving behavior.\n",
    "\n",
    "$\\hspace{1mm}$ 2A. *Employed households (main savers in the economy)*\n",
    "\n",
    "**As wealth levels increase, employed households are more likely acquire information**. Since the precautionary saving motive is not as strong for these households who are far from the borrowing constraint, they are making the comparison between the cost of acquiring information and the benefit of accurately predicting the rate of return to financial assets. \n",
    "\n",
    "$\\hspace{1mm}$ 2B. *Unemployed households (dissavers in the economy)*\n",
    "\n",
    "When **sufficiently far enough from the borrowing constraint, unemployed households are very likely to acquire information**. This is due to the incentive against making what the authors call a \"savings mistake\" (that is, choosing to consume a suboptimal amount out of cash-on-hand) close to the borrowing constraint. \n",
    "\n",
    "As wealth increases, the value of information acqusition falls in this regard, so the probability of acquiring information does as well. However, at higher levels of wealth, the same comparison between costs and benefits for employed households will cause unemployed households to also become more likely to acquire information.  "
   ]
  },
  {
   "cell_type": "markdown",
   "metadata": {},
   "source": [
    "### Matching the forecast accuracy data\n",
    "\n",
    "The previous results describe how wealth and employment status affect a household's decision to acquire information, as well as how a household's optimal saving behavior is affected by their relevant state-variables.\n",
    "\n",
    "The next finding shows that the interaction between information and saving choices allows the model to match the SCE data on household expectations.\n",
    "\n",
    "Recall that the SCE data featured a non-montone relationship between wealth and expectations. The model presented in MKBS (2022) adds some economic intuition to this relationship. Consider the following graphic (figure 6) from the paper.\n",
    "\n",
    "![Figure 6](Figures/MKBS_fig6.png)\n",
    "\n",
    "Households with lower levels of wealth are, on average, more likely to be unemployed. Figure 5 showed that the model predicts that these households acquire information with high probability. This corresponds to these same households having more accurate forecasts, as reflected in the SCE data. \n",
    "\n",
    "Furthermore, as wealth levels increase, the probability of acquiring information eventually becomes monotonic in wealth, as did the forecast accuracy in the SCE data. This can be seen in figure 6 as well.\n",
    "\n",
    "### Aggregate implications\n",
    "\n",
    "The paper then describes the aggregate implications of the previous findings. From here on out, it will be useful to keep in mind three different \"variations of the economy\":\n",
    "\n",
    "1. Full-information economy: all households acquire information every period.\n",
    "\n",
    "2. Exogenous-information economy: households probability of acquiring information is exogenously given.\n",
    "\n",
    "3. (Benchmark) Endogenous-information economy: this is the model presented in the paper, where agents choose in every period whether or not to acquire information.\n",
    "\n",
    "When the benchmark model is compared to the full-information economy, it is clear that uninformed households systematically underpredict the capital stock in booms (and overpredict it in recessions). These uninformed households, not present in the full-information economy, will relatively overpredict the returns to saving in booms. \n",
    "\n",
    "Thus, **in equilibrium the benchmark economy \"overaccumulates\" capital in booms and \"underaccumulates\" in recessions**. This corresponds to **larger fluctuations in output, consumption, and investment.**\n",
    "\n",
    "The exogenous-information economy also features this increase in volatility for relevant aggregate variables, but it is **less pronounced than in the benchmark model**. This is because it is the middle-to-rich households, who combine to hold the bulk of the capital stock, that choose not to acquire information.  \n"
   ]
  },
  {
   "cell_type": "markdown",
   "metadata": {},
   "source": [
    "### Implications for the Distribution of Wealth\n",
    "\n",
    "After discussing the implications for the aggregate capital stock, the paper does a further analysis on the wealth distribution to discuss inequality.\n",
    "\n",
    "First, when comparing the benchmark model to the full-information economy, there is **more mass placed at the bottom and near the top** of the wealth distribution. Consequently, the model implies **fewer middle-income and extremely wealthy households**. This can be seen in figure 7.\n",
    "\n",
    "![Figure 7](Figures/MKBS_fig7.png)\n",
    "\n",
    "When comparing the benchmark model to the exogenous-information economy, these effects on the distribution of wealth are less pronounced than when information is endogenously determined. \n",
    "\n",
    "### Disaggregating the effects on the distribution of wealth\n",
    "\n",
    "To see this, we first describe the decomposition of the interaction between information and the distribution of wealth in the following three cases:\n",
    "\n",
    "1. *General equilibrium effects*\n",
    "\n",
    "This experiment is done by having the law of motion for capital be the one from the benchmark, endogenous information choice setting. Agents have full information about $z_t$, and make optimal decisions given this surprise in the aggregate capital stock they face (as opposed to the benchmark where some agents would be surprised AND not have information about $z_t$).\n",
    "\n",
    "* The distribution of capital that arises in this case is compared to the one from the full-information economy with the \"correct\" law-of-motion for capital to isolate the effects of the change in the equilibrium law-of-motion for capital.\n",
    "\n",
    "2. *The effect of exogenous, incomplete information*\n",
    "\n",
    "Now, a given household's optimal behavior is the same as the case where there is exogenous, incomplete information (infrequent updating of beliefs, as opposed to full information about $z_t$). They believe that the law-of-motion for capital is the one from the benchmark model. \n",
    "\n",
    "* The resulting distribution, when compared to the one resulting from the previous case, isolates the effect of the presence of incomplete information on households.\n",
    "\n",
    "3. *The effect of incomplete information from endogenous information choice*\n",
    "\n",
    "The last experiment is to compare the distribution that arises from the previous case where each household has the same probability of acquiring information given the law-of-motion of the capital stock from the benchmark case, with the equilibrium distribution from the benchmark case. \n",
    "\n",
    "* This final exercise isolates the additional effects of heterogeneous information choices on the wealth distribution, since now the infrequent, updated beliefs are a result of optimal household behavior.\n",
    "\n",
    "This can be seen in figure 8 and in table 3.\n",
    "\n",
    "![Figure 8](Figures/MKBS_fig8.png)\n",
    "\n",
    "![Table 3](Figures/MKBS_tab3.png)\n",
    "\n",
    "The key insight regarding the effect of incomplete information on the distribution of wealth is that the increase in volatility and fluctuations in the capital stock leads to random saving behavior, which becomes more important for households with larger wealth holdings."
   ]
  },
  {
   "cell_type": "markdown",
   "metadata": {
    "tags": []
   },
   "source": [
    "## 6. Aggregate effects of Wealth Tax Policy\n",
    "\n",
    "The final analysis of the paper considers the aggregate effects of a wealth tax on households in this setting of endogenous information choice.\n",
    "\n",
    "Specifically, consider the following linear wealth tax $\\tau_k > 0$, which modifies the expression for a given household's cash-at-hand $m_i$:\n",
    "\n",
    "$$ m_i = r k_i + (1 - \\tau) \\epsilon_i w \\bar{l} + \\mu (1 - \\epsilon) w + (1 - \\delta - \\tau_k)k_i . $$\n",
    "\n",
    "There is a direct effect of the wealth tax: a reduction in the size of the aggregate capital stock. However, recall the established relationship between wealth and information acquisition in this model. This causes a **reduction in the average level of information in the economy since lower-wealth level households acquire information less frequently**. Furthermore, with less information in the economy on average, there is **more volatility in the aggregate capital stock**. \n",
    "\n",
    "As for the distribution of wealth, the implementation of the wealth tax $\\tau_k$ actually increases the number of super-rich households (i.e. those with more than \\\\$3.5 million in wealth) in the model. The number of households below \\\\$600,000 in wealth also increases, while those in the \\\\$600,000 to \\\\$3.5 million range falls. Correspondingly, the **90/10 percentile ratio falls, while both the Gini coefficient and the 99/1 percentile ratio both rise**.\n",
    "\n",
    "This is different from the implications of a similar wealth tax policy in the full-information economy. There, **inequality falls in each of the standard measures of inequality** (the Gini coefficient, the 90/10 percentile ratio, and the 99/1 precentile ratio). This can be seen in table IV.\n",
    "\n",
    "![Table 4](Figures/MKBS_tab4.png)\n",
    "\n",
    "Notably, if one measuring inequality in the distribution of wealth by using a measure such as the Gini coefficient (which is typically done for these types of HA models), then the *wealth tax actually increases wealth inequality*. This is opposite of the intended effect of the policy implementation! The final figure compares the effects of the wealth tax in the benchmark economy and the full-information economy.\n",
    "\n",
    "![Figure 9](Figures/MKBS_fig9.png)\n",
    "\n",
    "Lastly, the paper cites three forces as an explanation for why the wealth tax policy could have such an unintended effect on the level of inequality in the wealth distribution.\n",
    "\n",
    "1. The model of endogenous information choice has a considerable share of high-wealth households (i.e. those with at least \\\\$500,000 in wealth) who are disproportionately effected by the tax, as these households are less likely to acquire information. Thus, their wealth share decreases.\n",
    "\n",
    "2. Households with less wealth holdings are more likely to be uninformed, as they are closer to the borrowing contraint. These households make worse saving decisions with the introduction of the wealth tax, which decreases their share of wealth as well.\n",
    "\n",
    "3. Recalling that the wealth tax decreases the average level of information in the economy, the aggregate capital stock becomes more volatile. For the super-wealthy households, they now face \"random saving rates\". But, these households with more than \\\\$3.5 million in wealth are significantly more likely to acquire information and make correct saving decisions. Thus, their share of the wealth increases."
   ]
  },
  {
   "cell_type": "code",
   "execution_count": null,
   "metadata": {},
   "outputs": [],
   "source": []
  }
 ],
 "metadata": {
  "jupytext": {
   "formats": "ipynb,py"
  },
  "kernelspec": {
   "display_name": "Python 3 (ipykernel)",
   "language": "python",
   "name": "python3"
  },
  "language_info": {
   "codemirror_mode": {
    "name": "ipython",
    "version": 3
   },
   "file_extension": ".py",
   "mimetype": "text/x-python",
   "name": "python",
   "nbconvert_exporter": "python",
   "pygments_lexer": "ipython3",
   "version": "3.9.13"
  },
  "vscode": {
   "interpreter": {
    "hash": "c92354872c3dadc1b14e03038f090e8e33ae52d6235f332cb16ca3701e84d76c"
   }
  }
 },
 "nbformat": 4,
 "nbformat_minor": 4
}
