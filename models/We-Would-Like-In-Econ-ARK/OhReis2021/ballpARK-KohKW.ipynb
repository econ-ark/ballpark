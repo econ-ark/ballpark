{
 "cells": [
  {
   "cell_type": "markdown",
   "id": "aef0dd80",
   "metadata": {},
   "source": [
    "# Targeted Transfers and the Fiscal Response to the Great Recession\n",
    "Hyunseung Oh, Ricardo Reis\n",
    "Journal of Monetary Economics 59 (2012) S50-S64\n",
    "(http://dx.doi.org/10.1016/j.jmoneco.2012.10.025)"
   ]
  },
  {
   "cell_type": "markdown",
   "id": "f97fa3ed",
   "metadata": {},
   "source": [
    "## Fiscal transfers are an increasingly large but understudied part of fiscal policy\n",
    "\n",
    "\\begin{itemize}\n",
    "    \\item End-2007 to End-2009: Three quarters of increase in US government expenditures (government consumption + government investment + interest payments + transfers) have been increases in transfers; three quarters of that are social transfers\n",
    "    \\item Also a trend in OECD and European economies, where at least 30% of the increase in government spending during the Great Recession was in government transfers\n",
    "\\end{itemize}\n",
    "\n",
    "But economists have focused on output effects of government \\textbf{purchases}, i.e. government consumption + government investment, in the form of fiscal multipliers\n",
    "\\begin{itemize}\n",
    "    \\item A representative agent model would only show the representative agent transferring income to itself from taxation of itself, and therefore such models cannot show the effects of fiscal transfers\n",
    "    \\item No effect on aggregate employment and output\n",
    "    \\item Government transfers across time are neutral (Ricardian equivalence)\n",
    "\\end{itemize}"
   ]
  },
  {
   "cell_type": "markdown",
   "id": "aa7bb418",
   "metadata": {},
   "source": [
    "## Why in ballpARK?\n",
    "\n",
    "What does a heterogeneous agent model bring to the discussion on the effects of fiscal transfers?\n",
    "\\begin{itemize}\n",
    "    \\item Lump-sum transfers, directed from one group of agents to another group, can increase output and employment in recessions\n",
    "\\end{itemize}\n",
    "\n",
    "What assumptions do we need in a heterogeneous agent model?\n",
    "\\begin{enumerate}\n",
    "    \\item Idiosyncratic, uninsurable uncertainty about income and health\n",
    "    \\item Nominal rigidities in price setting\n",
    "    \\item Therefore, the model should nest the following three models:\n",
    "    \\begin{enumerate}\n",
    "        \\item Neoclassical growth model\n",
    "        \\item Aiyagari incomplete markets model\n",
    "        \\item Sticky-information New Keynesian model\n",
    "    \\end{enumerate}\n",
    "\\end{enumerate}\n",
    "Each of these models can be practically addressed with tools already existing in HARK toolkit"
   ]
  },
  {
   "cell_type": "markdown",
   "id": "9f6bb922",
   "metadata": {},
   "source": [
    "### Variables and Parameters\n",
    "\n",
    "Continuum of households $\\{k,s,h\\}$, where \n",
    "\n",
    "| Variable   | Description                                     |\n",
    "|------------|-------------------------------------------------|\n",
    "| $k$        | capital                                         |\n",
    "| $s$        | individual-specific salary offer                |\n",
    "| $h$        | health affecting relative disutility of working |\n",
    "| $V(\\cdot)$ | value function                                  |\n",
    "| $c$        | consumption                                     |\n",
    "| $n$        | choice to work or not                           |\n",
    "| $r$        | gross interest rate                             |\n",
    "| $w$        | average wage                                    |\n",
    "| $d$        | dividends                                       |\n",
    "| $\\tau$     | lump-sum taxes                                  |\n",
    "| $T(\\cdot)$ | non-negative lump-sum transfers                 |\n",
    "| $z(\\cdot)$ | insurance payments                              |\n",
    "\n",
    "\n",
    "| Parameter    | Description                                        |\n",
    "|--------------|----------------------------------------------------|\n",
    "| $\\chi$       | disutility from working with worst possible health |\n",
    "| $\\beta$      | discount factor                                    |\n",
    "| $\\delta$     | depreciation rate                                  |\n",
    "| $\\rho$       | persistence of shocks to salary offers             |\n",
    "| $\\sigma^{2}$ | variance of shocks to salary offers                |\n",
    "| $\\pi$        | probability that person is healthy                 |\n",
    "| $\\eta$       | average utility gap between healthy and unhealthy  |"
   ]
  },
  {
   "cell_type": "markdown",
   "id": "175c8cce",
   "metadata": {},
   "source": [
    "### Model Setup\n",
    "\n",
    "Household's Optimization Problem: Find optimal $c^{*}(k,s,h)$, $n^{*}(k,s,h)$, $k^{\\prime *}(k,s,h)$ that solves:\n",
    "\\begin{align}\n",
    "V(k,s,h) &= \\max_{c,n,k^{\\prime}} \\left\\{ ln(c) - \\chi(1-h)n + \\beta \\iint V(k^{\\prime}, s^{\\prime}, h^{\\prime}) dF(s^{\\prime}, h^{\\prime}) \\right\\} \\\\\n",
    "n &\\in \\{0,1\\}, \\quad c \\geq 0, \\quad k^{\\prime} \\geq 0  \\\\\n",
    "c+k^{\\prime} &= (1-\\delta +r)k + swn + d - \\tau + T(s,h) + z(k,s,h)  \\\\\n",
    "ln (s^{\\prime}) &=  \\frac{\\sigma^{2}}{2(1+\\rho)} + \\rho ln(s) + \\varepsilon^{\\prime} \\text{ with } \\varepsilon \\sim N(0, \\sigma^{2}) \\text{ }  i.i.d. \\\\\n",
    "h &= \\begin{cases} 1 & \\text{ with probability } \\pi \\\\ \\text{draw from } U[0, \\eta] & \\text{ with probability } 1-\\pi \\end{cases}\n",
    "\\end{align}\n",
    "\n",
    "#### Representative Competitive Firm: Produces consumption good by combining aggregate capital $K$ and intermediate goods $x(j)$\n",
    "\\begin{align}\n",
    "\tY &= AK^{\\alpha}X^{1-\\alpha} \\\\\n",
    "\tX &= \\left( \\int_{0}^{1} x(j)^{1/\\mu} dj \\right)^{\\mu}\n",
    "\\end{align}\n",
    "\n",
    "#### Monopolistic Intermediate Competitive Goods Firms: Equally owned by all households, making profits $d(j)$, immediately distributes as dividends\n",
    "\n",
    "\n",
    "\n",
    "#### Government: Chooses lump-sum transfers subject to budget constraint\n",
    "\\begin{equation}\n",
    "\tG + \\iint T(s,h) dF(s,h) = \\tau\n",
    "\\end{equation}\n",
    "\n",
    "#### Market Clearing Conditions\n",
    "Labor: $\\int sn^{*}(k,s,h) dF(k,s,h) = L = \\int l(j) dj$\n",
    "Capital: $\\int k^{\\prime *}(k,s,h) dF(k,s,h) = K^{\\prime}$\n",
    "Total Dividends: $ \\int d(j) dj = d $\n",
    "Zero Aggregate Insurance Payments: $\\int z(k,s,h) dF(k,s,h) = 0$"
   ]
  },
  {
   "cell_type": "markdown",
   "id": "3f488c7b",
   "metadata": {},
   "source": [
    "### Some Results\n",
    "\n",
    "Different parameter values lead to different benchmark models\n",
    "\n",
    "#### Full insurance: Choice of $T(s,h)$ is irrelevant for aggregate output and employment\n",
    "\n",
    "#### Imperfect insurance: Transfers from healthy high-salarpy households to low-wealth, low-income(salaries) households boost employment and output through ``neoclassical'' channel\n",
    "\\begin{itemize}\n",
    "\t``Since the marginal worker pays more in taxes than she receives in transfers, more generous transfers imply she has less wealth and so has a stronger incentive to work.''\n",
    "\\end{itemize}\n",
    "![Neoclassical](Neoclassical.png)\n"
   ]
  },
  {
   "cell_type": "markdown",
   "id": "0609571d",
   "metadata": {},
   "source": [
    "#### Keynesian Channel from Targeted Transfers\n",
    "Transfer recipients have an average higher MPC than transfer payees\n",
    "$\\rightarrow$ transfers boost aggregate demand\n",
    "$\\rightarrow$ firms with rigid prices satisfy by hirign more workers and produce more\n",
    "![Keynesian](Keynesian.png)"
   ]
  }
 ],
 "metadata": {
  "kernelspec": {
   "display_name": "Python 3 (ipykernel)",
   "language": "python",
   "name": "python3"
  },
  "language_info": {
   "codemirror_mode": {
    "name": "ipython",
    "version": 3
   },
   "file_extension": ".py",
   "mimetype": "text/x-python",
   "name": "python",
   "nbconvert_exporter": "python",
   "pygments_lexer": "ipython3",
   "version": "3.8.12"
  },
  "latex_envs": {
   "LaTeX_envs_menu_present": true,
   "autoclose": false,
   "autocomplete": true,
   "bibliofile": "biblio.bib",
   "cite_by": "apalike",
   "current_citInitial": 1,
   "eqLabelWithNumbers": true,
   "eqNumInitial": 1,
   "hotkeys": {
    "equation": "Ctrl-E",
    "itemize": "Ctrl-I"
   },
   "labels_anchors": false,
   "latex_user_defs": false,
   "report_style_numbering": false,
   "user_envs_cfg": false
  }
 },
 "nbformat": 4,
 "nbformat_minor": 5
}
