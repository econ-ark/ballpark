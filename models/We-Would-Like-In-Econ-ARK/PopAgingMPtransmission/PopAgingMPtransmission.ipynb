{
 "cells": [
  {
   "cell_type": "markdown",
   "metadata": {
    "slideshow": {
     "slide_type": "slide"
    }
   },
   "source": [
    "<br><br><font size=10><b><center> Paper 2: \"Population Aging and the Transmission of Monetary Policy to Consumption\"  </center></b></font>\n",
    "    <br><br>\n",
    "    <font size=6><b><center> Arlene Wond (2015)</center></b></font>\n",
    "    <br><br>\n",
    "    <font size=5><b><center> Nino Kodua </center></b></font>\n",
    "    <br><br>\n",
    "    <font size=4><b><center> Johns Hopkins University </center></b></font>\n",
    "    <br><br>\n",
    "    <font size=4><b><center> February 16, 2020 </center></b></font>"
   ]
  },
  {
   "cell_type": "markdown",
   "metadata": {
    "slideshow": {
     "slide_type": "slide"
    }
   },
   "source": [
    "# Overview\n",
    "\n",
    "* **Research Question: What are the effects of demographic changes on the transmission of monetary policy to consumption?**\n",
    "* **Part I: Empirical estimate**\n",
    "    * **Age-specific consumption elasticities to interest rate**\n",
    "        * **Consumption of young people is two-three times more responsive to interest rate shocks**\n",
    "        * **Consumption elasticities decline with age**\n",
    "    * **Consumption response driven by homeowners**\n",
    "        * **refinance or new loans following interest rate decline**\n",
    "* **Part II: Life-cycle model - partial equilibrium overlapping generations economy**\n",
    "    * **Uninsurable labor income risk, life-cycle saving motive, fixed-rate mortgage structure**\n",
    "    * **Fixed costs to adjust long-term assets**\n",
    "        * **housing and fixed-rate mortgage**"
   ]
  },
  {
   "cell_type": "markdown",
   "metadata": {
    "slideshow": {
     "slide_type": "slide"
    }
   },
   "source": [
    "# Household's maximization problem\n",
    "\n",
    "* **Each period households choose**\n",
    "    * **1. rent**\n",
    "    * **2. continue owning a house & not adjust existing mortgage**\n",
    "    * **3. adjust mortgage and housing stock**\n",
    "* **Conditional on the adjustment, households choose**\n",
    "    * **non-durable consumption, savings in bonds and mortgage debt**\n",
    "<br>\n",
    "<font size=3>\n",
    "    <bold>\n",
    "\\begin{aligned}V_{j a t}\\left(z_{j a t}\\right)=\\max \\left\\{V_{j a t}\\left(z_{j a t}\\right)^{\\mathrm{rent}}, V_{j a t}\\left(z_{j a t}\\right)^{\\mathrm{own} \\& \\text { no-adjust }}, V_{j a t}\\left(z_{j a t}\\right)^{\\text {own } \\& \\text { adjust }}\\right\\}\\end{aligned}      \n",
    "    </bold>    \n",
    "</font>   \n",
    "\n",
    "<font size=3>\n",
    "    <bold>\n",
    "        \\begin{aligned}\n",
    "z_{j a t}=\\left\\{S_{t}, y_{j a t}, \\operatorname{assets}_{j, a-1, t-1}\\right\\}\n",
    "\\end{aligned}      \n",
    "    </bold>    \n",
    "</font>   \n",
    "\n",
    "* **$S_t$ - uncertainty from aggregate state variables**\n",
    "* **$y_{j a t}$ - uncertainty from idiosyncratic labor income**"
   ]
  },
  {
   "cell_type": "markdown",
   "metadata": {
    "slideshow": {
     "slide_type": "subslide"
    }
   },
   "source": [
    "# 1. Rent Case\n",
    "\n",
    "<font size=3>\n",
    "    <bold>\n",
    "\\begin{aligned}V_{j a t}\\left(z_{j a t}\\right)^{\\mathrm{rent}}=\\max _{c_{j a t}, h_{j a t}^{\\mathrm{rat}}, s_{j a t}} \\frac{\\left(c_{j a t}^{\\alpha} \\cdot h_{j a t}^{1-\\alpha}\\right)^{1-\\sigma}-1}{1-\\sigma}+E_{j a t}\\left[V_{j, a+1, t+1}\\left(z_{j, a+1, t+1}\\right)\\right]\\end{aligned}      \n",
    "    </bold>    \n",
    "</font> \n",
    "\n",
    "<font size=3>\n",
    "    <bold>\n",
    "        \\begin{aligned} s.t. h_{j a t} &=h_{j a t}^{\\text {rent }} \\\\ c_{j a t}+s_{j a t}+p_{t}^{r} h_{j a t}^{\\text {rent }} &=y_{j a t}+(1-\\delta) p_{t} h_{j, a-1, t-1}^{\\text {own }}+\\left(1+r_{t}\\right) s_{j, a-1, t-1}-b_{j, a-1, t-1}\\left(1+R_{j, a-1, t-1}\\right) \\\\ h_{j a t}^{\\text {own }} &=b_{j a t}=0 \\\\ s_{j a t} & \\geq-\\underline{s} \\\\ \\log \\left(y_{j a t}\\right) &=\\chi_{a}+\\eta_{j a t}+\\phi_{a}\\left(y_{t} / y\\right) \\\\ S_{t} &=A_{0}+A_{1} S_{t-1}+u_{t} \\end{aligned}\n",
    "          </bold>    \n",
    "</font> "
   ]
  },
  {
   "cell_type": "markdown",
   "metadata": {
    "slideshow": {
     "slide_type": "subslide"
    }
   },
   "source": [
    "# 2. Own & No-adjust Case\n",
    "\n",
    "<font size=3>\n",
    "    <bold>\n",
    "\\begin{aligned}V_{j a t}\\left(z_{j a t}\\right)^{\\text {own \\& no-adjust }}=\\max _{c_{j a t}, s_{j a t}} \\frac{\\left(c_{j a t}^{\\alpha} \\cdot h_{j a t}^{1-\\alpha}\\right)^{1-\\sigma}-1}{1-\\sigma}+E_{j a t}\\left[V_{j, a+1, t+1}\\left(z_{j, a+1, t+1}\\right)\\right]\\end{aligned}      \n",
    "    </bold>    \n",
    "</font> \n",
    "\n",
    "<font size=3>\n",
    "    <bold>\n",
    "        \\begin{aligned} s.t. h_{j a t} &=(1-\\delta) h_{j, a, t-1}^{\\mathrm{own}} \\\\ c_{j a t}+s_{j a t} &=y_{j a t}+\\left(1+r_{t}\\right) s_{j, a-1, t-1}-M_{j a t} \\\\ s_{j a t} & \\geq-\\underline{s} \\\\ \\log \\left(y_{j a t}\\right) &=\\chi_{a}+\\eta_{j a t}+\\phi_{a}\\left(y_{t} / y\\right) \\\\ S_{t} &=A_{0}+A_{1} S_{t-1}+u_{t} \\end{aligned}\n",
    "          </bold>    \n",
    "</font> "
   ]
  },
  {
   "cell_type": "markdown",
   "metadata": {
    "slideshow": {
     "slide_type": "subslide"
    }
   },
   "source": [
    "# 3. Own & Adjust Case\n",
    "\n",
    "<font size=3>\n",
    "    <bold>\n",
    "\\begin{aligned}V_{j a t}\\left(z_{j a t}\\right)^{\\text {own \\& adjust }}=\\max _{c_{j a t}, s_{j a t}, h_{j a t}^{\\text {own }}, b_{j a t}} \\frac{\\left(c_{j a t}^{\\alpha} \\cdot h_{j a t}^{1-\\alpha}\\right)^{1-\\sigma}-1}{1-\\sigma}+E_{j a t}\\left[V_{j, a+1, t+1}\\left(z_{j, a+1, t+1}\\right)\\right] \\end{aligned}      \n",
    "    </bold>    \n",
    "</font> \n",
    "\n",
    "<font size=3>\n",
    "    <bold>\n",
    "        \\begin{aligned} s.t. h_{j a t} &=h_{j, a}^{\\mathrm{own}} \\\\ b_{j a t} & \\leq(1-\\phi) p_{t} h_{j a t}^{\\mathrm{own}} \\\\ c_{j a t}+s_{j a t}+p_{t} h_{j a t}^{\\mathrm{own}}-b_{j a t}-F &=y_{j a t}+(1-\\delta) p_{t} h_{j, a-1, t-1}^{\\mathrm{own}}+\\left(1+r_{t}\\right) s_{j, a-1, t-1}-b_{j, a-1, t-1}\\left(1+R_{j, a-1, t-1}\\right) \\\\ s_{j a t} & \\geq-\\underline{s} \\\\ \\log \\left(y_{j a t}\\right) &=\\chi_{a}+\\eta_{j a t}+\\phi_{a}\\left(y_{t} / y\\right) \\\\ S_{t} &=A_{0}+A_{1} S_{t-1}+u_{t} \\end{aligned}      \n",
    "    </bold>    \n",
    "</font> "
   ]
  },
  {
   "cell_type": "markdown",
   "metadata": {
    "slideshow": {
     "slide_type": "subslide"
    }
   },
   "source": [
    "# Retirement and Death\n",
    "\n",
    "* **Upon death, agent bequasts total new wealth:**\n",
    "\n",
    "<font size=3>\n",
    "    <bold>\n",
    "\\begin{aligned}W_{j a t}=(1-\\delta) p_{t} h_{j, a-1, t-1}^{\\mathrm{own}}+\\left(1+r_{t}\\right) s_{j, a-1, t-1}\n",
    "        \\end{aligned}      \n",
    "    </bold>    \n",
    "</font> "
   ]
  },
  {
   "cell_type": "markdown",
   "metadata": {
    "slideshow": {
     "slide_type": "slide"
    }
   },
   "source": [
    "# Results\n",
    "\n",
    "* **The refinancing and new lending channel** \n",
    "    * **the difference in the consumption responses of the young-old to interest rate shocks**\n",
    "* **Aging population can significantly dampen the transmission of monetary policy**    "
   ]
  }
 ],
 "metadata": {
  "celltoolbar": "Slideshow",
  "kernelspec": {
   "display_name": "Python 3",
   "language": "python",
   "name": "python3"
  },
  "language_info": {
   "codemirror_mode": {
    "name": "ipython",
    "version": 3
   },
   "file_extension": ".py",
   "mimetype": "text/x-python",
   "name": "python",
   "nbconvert_exporter": "python",
   "pygments_lexer": "ipython3",
   "version": "3.7.3"
  }
 },
 "nbformat": 4,
 "nbformat_minor": 2
}
