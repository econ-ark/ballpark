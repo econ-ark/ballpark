{
 "cells": [
  {
   "cell_type": "markdown",
   "metadata": {
    "slideshow": {
     "slide_type": "slide"
    }
   },
   "source": [
    "<br><br><font size=10><b><center> Paper 1: \"Monetary Policy, Heterogeneity, and the Housing Channel\"  </center></b></font>\n",
    "    <br><br>\n",
    "    <font size=6><b><center> Hedlund, Karahan, Mitman, Ozkan (2017)</center></b></font>\n",
    "    <br><br>\n",
    "    <font size=5><b><center> Nino Kodua </center></b></font>\n",
    "    <br><br>\n",
    "    <font size=4><b><center> Johns Hopkins University </center></b></font>\n",
    "    <br><br>\n",
    "    <font size=4><b><center> February 16, 2020 </center></b></font>"
   ]
  },
  {
   "cell_type": "markdown",
   "metadata": {
    "slideshow": {
     "slide_type": "slide"
    }
   },
   "source": [
    "# Overview\n",
    "\n",
    "* **Research Question: What is the extent to which housing and mortgage debt affect the transmission and effectiveness of monetary policy?** \n",
    "* **Channels to consider:** \n",
    "    * **Direct intertemporal substitution effect**\n",
    "    * **House price channel**\n",
    "    * **Liquidity channel**\n",
    "    * **Cash-flow channel**\n",
    "    * **Redistribution channel**\n",
    "* **HANK model with nominal rigidities and a frictional housing market**    \n",
    "\n"
   ]
  },
  {
   "cell_type": "markdown",
   "metadata": {
    "slideshow": {
     "slide_type": "slide"
    }
   },
   "source": [
    "# Households\n",
    "\n",
    "* **Infinitely lived households with uninsurable idiosyncratic labor productivity risk**\n",
    "<center><img src=\"Figure10.png\" width=\"700\"/></center>  "
   ]
  },
  {
   "cell_type": "markdown",
   "metadata": {
    "slideshow": {
     "slide_type": "subslide"
    }
   },
   "source": [
    "## Selling decision of a household:  \n",
    "<br>\n",
    "<font size=4>\n",
    "    <bold>\n",
    "        \\begin{aligned}\n",
    "V_{O W N}\\left(a_{t}, M_{t}, h_{t}, z_{t}\\right)=\\max _{\\varsigma_{t} \\in\\{0,1\\}} \\varsigma_{t} V_{S E L L}\\left(a_{t}, M_{t}, h_{t}, z_{t}\\right)+\\left(1-\\varsigma_{t}\\right) V_{N S e l l}\\left(a_{t}, M_{t}, h_{t}, z_{t}\\right)\n",
    "        \\end{aligned}\n",
    "    </bold>    \n",
    "</font>\n",
    "\n",
    "* ***$\\varsigma_{t}$ - Mortgage initiation cost;***    \n",
    "* ***$M_{t}$ - Mortgage size;***   \n",
    "* ***$h_{t}$ - House size;***   \n",
    "* ***$z_{t}$ - Idiosyncratic labor productivity;***\n",
    "\n"
   ]
  },
  {
   "cell_type": "markdown",
   "metadata": {
    "slideshow": {
     "slide_type": "subslide"
    }
   },
   "source": [
    "## A household wanting to sell the house chooses a list price ${x_{s}}$\n",
    "<br>\n",
    "<font size=4>\n",
    "    <bold>\n",
    "\\begin{aligned} \n",
    "        V_{S E L L}\\left(a_{t}, M_{t}, h_{t}, z_{t}\\right) &=\\max _{x_{s t}}-\\xi+\\tilde{p}_{t}\\left(\\theta_{t}\\left(x_{s}, h\\right)\\right) V_{N O w n}^{t}\\left(a_{t}+x_{s t}-M_{t}, z_{t}\\right) \\\\ &+\\tilde{p}_{t}\\left(\\theta_{t}\\left(x_{s}, h\\right)\\right) V_{N S e l l}\\left(a_{t}, M_{t}, h_{t}, z_{t}\\right) \n",
    "        \\end{aligned}\n",
    "    </bold>    \n",
    "</font>   \n",
    "\n",
    "* ***$\\tilde{p}_{t}\\left(\\theta_{t}\\left(x_{s}, h\\right)\\right)$ - Probability of a meeting between a real estate broker and a seller;***\n",
    "* ***$\\theta_{t}\\left(x_{s}, h\\right)$ - tightness of the submarket for house size $h$ and a price ${x_{s}}$***\n",
    "* ***$\\xi$ - utility cost if homeowner tries but fails to sell the house***\n",
    "<br>\n",
    "\n",
    "* **Free entry condition for brokers:**\n",
    "<font size=4>\n",
    " <bold>\n",
    "\\begin{aligned} \\kappa h=\\overbrace{\\alpha_{t}\\left(\\theta_{t}\\left(x_{s}, h\\right)\\right)}^{\\text {prob of match }} \\overbrace{\\left(p_{t}^{H} h-x_{s}\\right)}^{\\text {broker revenue }}\\end{aligned}\n",
    "    </bold>    \n",
    "    </font>\n",
    "\n",
    "\n",
    "## Buying decision of a household who does not own a house (recently sold or never owned)\n",
    "<br>\n",
    "<font size=4>\n",
    "    <bold>\n",
    "\\begin{aligned} \n",
    "V_{N O w n}^{t}\\left(a_{t}, z_{t}\\right)=\\max _{B u y_{t} \\in\\{0,1\\}} B u y_{t} V_{B u y}^{t}\\left(a_{t}, z_{t}\\right)+\\left(1-B u y_{t}\\right) V_{R e n t}^{t}\\left(a_{t}, z_{t}\\right)\n",
    "\\end{aligned}\n",
    "    </bold>    \n",
    "</font>   "
   ]
  },
  {
   "cell_type": "markdown",
   "metadata": {
    "slideshow": {
     "slide_type": "subslide"
    }
   },
   "source": [
    "## Household who buys a house\n",
    "<br>\n",
    "<font size=3>\n",
    "    <bold>\n",
    "\\begin{aligned} \n",
    "        V_{B u y}^{t}\\left(a_{t}, z_{t}\\right)=\\max _{h_t, M_{t+1}, b_{t+1}, c_{t}, l_{t} \\geq 0} u\\left(c_{t}, h_{t}, l_{t}\\right)+\\beta_{L} \\mathbb{E}\\left[V_{o w n}^{t+1}\\left(a_{t+1}, M_{t+1}, h_{t+1}, z_{t+1}\\right)\\right]\\end{aligned} \n",
    "\\begin{aligned} s.t. P_{t} c_{t}+q_{t}^{B} b_{t+1}+p_{t}^{H} h_{t} & \\leq a_{t}+q_{m t}^{0} M_{t+1} \\\\ a_{t+1} &=P_{t+1} w_{t+1} z_{t+1} l_{t+1}+b_{t+1} \\end{aligned}      \n",
    "    </bold>    \n",
    "</font>   \n",
    "\n",
    "\n",
    "* **involves decisions of house price, mortgage debt payment, bond holdings, consumption and labor supply** \n",
    "* **Banks issue long-term, adjustable rate mortgage contracts.** \n",
    "    * **Borrower received nominal resources $q_{m t}^{0} M_{t+1}$ ($q_{m t}^{0}$ - mortgage price at origination).**\n",
    "    * **Interest rate on the loan $r_{m t}$ adjusts each period:**  \n",
    "    <font size=3>\n",
    "    \\begin{aligned}1+r_{m t}=\\underbrace{(1+\\phi)}_{\\text {spread }} \\underbrace{\\left(1+r_{t}\\right)\\left(1+\\pi_{t}\\right)}_{\\text {nominal risk-free rate }}\\end{aligned}   \n",
    "</font>   \n",
    "\n",
    "\n",
    "## Household who rents a house\n",
    "<br>\n",
    "<font size=3>\n",
    "    <bold>\n",
    "\\begin{aligned} \n",
    "V_{\\text {Rent }}^{t}\\left(a_{t}, z_{t}\\right)=\\max _{b_{t+1}, s_{t}, c_{t}, l_{t} \\geq 0} u\\left(c_{t}, h_{t}, l_{t}\\right)+\\beta_{L} \\mathbb{E}\\left[V_{N O w n}^{t+1}\\left(a_{t+1}, z_{t+1}\\right)\\right]\n",
    "\\end{aligned}      \n",
    "\\begin{aligned} s.t. P_{t} c+q_{t}^{B} b_{t+1}+P_{t} r_{s} s_{t} & \\leq a_{t} \\\\ s_{t} & \\leq \\bar{s} \\\\ a_{t+1} &=P_{t+1} w_{t+1} z_{t+1} l_{t+1}+b_{t+1} \\end{aligned}\n",
    "</bold>    \n",
    "</font>   \n",
    "<br>\n",
    "\n",
    "* **$s_t$ - service flow from renting a house**"
   ]
  },
  {
   "cell_type": "markdown",
   "metadata": {
    "slideshow": {
     "slide_type": "slide"
    }
   },
   "source": [
    "## Mortgages and Banks - two types of risks when issuing loans\n",
    "\n",
    "**1. Borrowers default - foreclosure**\n",
    "  * **Bank sells the repossessed house (REO)** \n",
    "       * **in a frictional decentralized housing market as individual sellers to**\n",
    "       * **incurs a loss $\\gamma^{ROE}$**\n",
    "  * **Value to banks of repossessing a house size $h$:**  \n",
    "  \n",
    "  <font size=2>\n",
    "    <bold>\n",
    "     \\begin{aligned} J_{R E O}^{t}(h)=R_{R E O}^{t}(h)-\\eta h+\\frac{1}{1+r_{t+1}} J_{R E O}^{t+1}(h)\n",
    "     \\end{aligned}\n",
    "     </bold>    \n",
    "     </font>   \n",
    "         \n",
    "<font size=2>\n",
    "    <bold>        \n",
    "\\begin{aligned} R_{R E O}^{t}(h)=\\max \\left\\{0, \\max _{x_{s} \\geq 0} \\tilde{p}_{t}\\left(\\theta_{t}\\left(x_{s}, h\\right)\\right)\\left[\\left(1-\\gamma^{R E O}\\right) x_{s}-\\left(-\\eta h+\\frac{1}{1+r_{t+1}} J_{R E O}^{t+1}(h)\\right)\\right]\\right\\}\n",
    "        \\end{aligned}\n",
    "        </bold>    \n",
    "         </font>   \n",
    "         \n",
    "* ***$\\eta$ - the cost of holding onto the house (maintenance, property taxes, etc.)*** \n",
    "* ***$R_{R E O}^{t}(h)$ - the option value of trying to sell the house in period $t$***\n",
    "\n",
    "<font size=4>\n",
    "    \n",
    "**2. Prepayment and refinancing the loan by households**\n",
    "  \n",
    "\n"
   ]
  },
  {
   "cell_type": "markdown",
   "metadata": {
    "slideshow": {
     "slide_type": "subslide"
    }
   },
   "source": [
    "## Mortgages and Banks - two types of risks when issuing loans\n",
    "<br>\n",
    "\n",
    "* **Banks take these risks into account and determine the mortgage price $q_{m t}^{0}$ accordingly:**\n",
    "\n",
    "<br>\n",
    " <font size=2>\n",
    "    <bold>\n",
    "    \\begin{aligned} q_{m t}\\left(M_{t+1}, b_{t+1}, h_{t}, z_{t}\\right) M_{t+1}=\\frac{1}{\\left(1+r_{m t}\\right)} \\mathbb{E}\\{\\overbrace{\\tilde{p}_{t+1}\\left(\\theta_{t+1}\\left(x_{s t+1}, h_{t}\\right)\\right) M_{t+1}}^{\\text {sell }+\\text { repay }}+\\overbrace{\\left[1-\\tilde{p}_{t+1}\\left(\\theta_{t+1}\\left(x_{s t+1}, h_{t}\\right)\\right)\\right]}^{\\text {no sale (do not try } / \\text { fail })}\n",
    "\\times[\\underbrace{d_{t+1} \\min \\left\\{P_{t+1} J_{R E O}(h), M_{t+1}\\right\\}}_{\\text {default + repossession }}+\\operatorname{Refi}_{t+1} M_{t+1}\n",
    "\\left.\\left.+\\left(1-d_{t+1}-\\operatorname{Refi}_{t+1}\\right)(\\underbrace{M_{t+1}-\\frac{M_{t+2}}{\\left(1+r_{m t+1}\\right)}}_{\\text {borrower payment net of servicing costs }}+\\underbrace{q_{m t+1}\\left(M_{t+2}, b_{t+2}, h_{t}, z_{t+1}\\right) M_{t+2}}_{\\text {continuation value of new } M^{\\prime \\prime}})\\right]\\right\\}\n",
    "        \\end{aligned}\n",
    "        </bold>    \n",
    "         </font>   "
   ]
  },
  {
   "cell_type": "markdown",
   "metadata": {
    "slideshow": {
     "slide_type": "subslide"
    }
   },
   "source": [
    "## Additional Ingredients: \n",
    "<br>\n",
    "<font size=4>\n",
    "    \n",
    "* **To close the model:**\n",
    "    * **Government sponsored enterprises**\n",
    "        * **provide insurance to the banks against the default risk of mortgages**\n",
    "    * **Intermediate goods produces - monopolistically competitive**\n",
    "    * **A representative final goods produce**\n",
    "        * **intermediate goods into the final consumption good**\n",
    "    * **Government - sets fiscal policy**\n",
    "    * **Monetary authority - sets the nominal interest rate**\n",
    "   "
   ]
  },
  {
   "cell_type": "markdown",
   "metadata": {
    "slideshow": {
     "slide_type": "slide"
    }
   },
   "source": [
    "## Results:\n",
    "\n",
    "* **The calibrated steady state of the model** \n",
    "    * **matches heterogeneity in home ownership, leverage and MPC across households**\n",
    "        * **MPC differs between low- and high-loan-to-value (LTV) households)**\n",
    "    * **the US microeconomic & macroeconomic data over the past 20 years**\n",
    "* **Effectiveness of the monetary policy depends on mortgage debt distribution:**\n",
    "    * **In a high-LTV economy expansionary monetary policy is more effective**"
   ]
  }
 ],
 "metadata": {
  "celltoolbar": "Slideshow",
  "kernelspec": {
   "display_name": "Python 3",
   "language": "python",
   "name": "python3"
  },
  "language_info": {
   "codemirror_mode": {
    "name": "ipython",
    "version": 3
   },
   "file_extension": ".py",
   "mimetype": "text/x-python",
   "name": "python",
   "nbconvert_exporter": "python",
   "pygments_lexer": "ipython3",
   "version": "3.7.3"
  }
 },
 "nbformat": 4,
 "nbformat_minor": 2
}
