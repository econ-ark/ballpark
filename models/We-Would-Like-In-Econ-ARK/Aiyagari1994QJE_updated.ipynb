{
 "cells": [
  {
   "cell_type": "markdown",
   "metadata": {},
   "source": [
    "# Uninsured Idiosyncratic Risk and Aggregate Saving\n",
    "* Authors: S. Rao Aiyagari\n",
    "* Source: The Quaterly Journal of Economics, Vol. 109, No. 3 (Aug., 1994), pp. 659-684\n",
    "* Notebook by Zixuan Huang and Mingzuo Sun\n",
    "* 2019 Fall"
   ]
  },
  {
   "cell_type": "markdown",
   "metadata": {},
   "source": [
    "## Introduction of Heterogeneity\n",
    "* The flaw of Representative Agent (RA) model: inconsistency with empirical studies. \n",
    "> * Empricial studies suggest that individual consumption is much more variable than aggregate consumption, which is inconsistent with conclusions of RA model.\n",
    "> * The behavior of wealth and portfolios is strongly at variance with the complete markets model implicit in RA models.\n",
    "\n",
    "* Thus due to incomplete markets, the existence of heterogeneity may be important especially with a context of borrowing constraints."
   ]
  },
  {
   "cell_type": "markdown",
   "metadata": {},
   "source": [
    "## Abtract \n",
    "* The paper modifies standard growth model to include precautionary saving motives and liquidity constraints. \n",
    "* The paper presents the impact on the aggregate saving rate, the importance of asset trading to individuals and the relative inequality of wealth and income distributions. "
   ]
  },
  {
   "cell_type": "markdown",
   "metadata": {},
   "source": [
    "## Introduction\n",
    "\n",
    "### Goals \n",
    "* To provide an exposition of models whose aggregate behavior is the result of market interaction among a large number of agents subject to idiosyncratic shocks. \n",
    "> * This class of models contrasts with representative agent models where individual dynamics and uncertainty coincide with aggregate dynamics and uncertainty. <br/>\n",
    "> * This exposition is built around the standard growth model of Brock and Mirman(1972) modified to include a role for uninsured idiosyncratic risk and borrowing constraint.\n",
    "* To use such a model to study the quantitative importance of individual risk for aggregate saving. <br/>\n",
    "\n",
    "\n",
    "### Key features\n",
    "* Endogenous heterogeneity \n",
    "* Aggregation\n",
    "* Infinite horizons \n",
    "* Borrowing constraint\n",
    "* General equilibrium. i.e. interest rate is endogenously determined since in a steady state equilibrium the capital per capita must equal the per capita asset holdings of consumers, and the interest rate must equal the net marginal product of capital. "
   ]
  },
  {
   "cell_type": "markdown",
   "metadata": {},
   "source": [
    "## Related Literature\n",
    "* Aiyagari model originates from Bewley model and Hugget model. These models all share the same key components as mentioned in the previous part. And they are used to study the following topics:\n",
    "> * How much of observed wealth inequality can one explain through uninsurable earnings variation across agents? <br/>\n",
    "> * What is the fraction of aggregate savings due to the precautionary motive? <br/>\n",
    "> * What are the redistributional implications of various policies?\n",
    "\n",
    "* The evolution of those models\n",
    "> * Bewley(1986): an exogenous interest rate $r$ is assumed. <br/>\n",
    "> * Huggett(1993): a pure exchange economy in which the interest rate is endogenized. <br/>\n",
    "> * Aiyagari(1994): a production sector is added to Huggett model."
   ]
  },
  {
   "cell_type": "markdown",
   "metadata": {},
   "source": [
    "## Model\n",
    "### The Individual's Problem\n",
    "$$\n",
    "\\begin{align}\n",
    "max E_0[\\Sigma_{t=0}^\\infty \\beta^t U(c_t)]\n",
    "\\end{align}\n",
    "$$\n",
    "subject to \n",
    "$$\n",
    "\\begin{align}\n",
    "c_t+a_{t+1}&=wl_{t}+(1+r)a_t \\\\\n",
    "c_t\\geq0&, a_t\\geq-b\n",
    "\\end{align}\n",
    "$$\n",
    "where $b$ (if positive) is the limit on borrowing and $l_t$ is assumed to be i.i.d with bounded support given by $[l_{min},l_{max}]$, with $l_{min}>0$\n",
    "\n",
    "* If $r<0$, some limit on borrowing is required, otherwise the problem is not well posed and a solution does not exist. \n",
    "* If $r>0$, a borrowing constraint, $a_{t} \\geq \\frac{-wl_{min}}{r}$, is implied by nonnegative consumption. Hence, if $b$ exceeds $\\frac{-wl_{min}}{r}$, the the borrowing limit $b$ wil never be binding, and $b$ should be replaced by $\\frac{wl_{min}}{r}$; In other words, the constraints may be specified as:\n",
    "$$\n",
    "\\begin{align}\n",
    "a_t &\\geq -\\phi    \\\\\n",
    "\\phi &\\equiv min\\{b, \\frac{wl_{min}}{r}\\},\\ for\\ r>0; \\phi \\equiv b,\\ for\\ r \\leq 0\n",
    "\\end{align}\n",
    "$$"
   ]
  },
  {
   "cell_type": "markdown",
   "metadata": {},
   "source": [
    "* Define $\\hat{a_t}=a_t+\\phi$ and $z_t=wl_t+(1+r)\\hat{a_t}-r\\phi$, where $\\hat{a_t}$ and $z_t$ may be thought of as the total financial resources at data $t$ and total resources of the agent at date $t$ respectively, then the Bellman equation is as follows:\n",
    "$$\n",
    "\\begin{align}\n",
    "V(z_t,b,w,r) \\equiv \\underset{\\hat{a_{t+1}}}{max}\\{U(z_t-\\hat{a_t})+\\beta \\int V(z_{t+1},b,w,r)dF(l_{t+1})  \\}\n",
    "\\end{align}\n",
    "$$\n",
    "* Solving the Bellman equation, the paper derives the optimal asset demand rule: $\\hat{a_{t+1}}=A(z_t,b,w,r)$ and the transition law for total resources $z_t$ is $z_{t+1}=wl_{t+1}+(1+r)A(z_t,b,w,r)-r\\phi$"
   ]
  },
  {
   "cell_type": "markdown",
   "metadata": {},
   "source": [
    "### Endogenous Heteogeneity and Aggregation\n",
    "* The distribution of $\\{z_t\\}$ and the value of $Ea_w$ (denoting long-run average assets) reflect the endogenous heterogeneity and the aggregation features mentioned above. $Ea_w$ represents the aggregate assets of the population consistent with the distribution of assets across population implied by individual optimal saving behavior.\n",
    "* If earnings were certain (or, equivalently, markets complete), $Ea_w$ would equal ($-\\phi$) for all $r<\\lambda$, where $\\lambda$ denotes the rate of time preference. That is, per capita assets under certainty are at their lower permissible level since all agents are alike and everyone is constrained. However, in a steady state under incomplete markets, there is a distribution of agents with different total resources reflecting different histories of labor endowment shocks. \n",
    "* Those with low total resources will continue to be liquidity constrained, whereas those with high total resources will accumulate assets beyond the constrained level. Aggregation then implies that per capita must necessarily exceed their level under certainty. "
   ]
  },
  {
   "cell_type": "markdown",
   "metadata": {},
   "source": [
    "### General Equilibrium\n",
    "* In the steady state, the capital desired by firms at the interest rate $r$ must be equal to the capital supplied by households at the interest rate $r$, which is time invariant.\n",
    "* The effects of varying the borrowing limit $b$ is described: when borrowing is permitted individuals need not rely solely on holdings of capital to buffer earnings variations. Borrowing can also be used to buffer these shocks and, hence, leads to smaller holdings of capital. "
   ]
  },
  {
   "cell_type": "markdown",
   "metadata": {},
   "source": [
    "## Model Specification, Parameterization, and Consumption\n",
    "\n",
    "### Model specification and parameters\n",
    "* Discount factor: $\\beta=0.96$\n",
    "* Production function: Cobb Douglas with the capital share taken to be 0.36\n",
    "* Depreciation rate: $\\delta=0.08$\n",
    "* Utility function: CRRA with the relative risk aversion coefficient $\\mu \\in \\{1,3,5\\}$\n",
    "* Labor endowment shocks: Markov charin specification with seven states to match the following first-order autoregressive representation for the logarithm of the labor endowment shock:\n",
    "$$\n",
    "\\begin{align}\n",
    "\\log(l_t)=\\rho\\log(l_{t-1})+\\sigma(1-\\rho^2)^{1/2}\\epsilon_{t}, \\epsilon_t--Normal(0,1)   \\\\\n",
    "\\sigma \\in \\{0.2,0.4\\}, \\rho \\in \\{0,0.3,0.6,0.9\\}.\n",
    "\\end{align}\n",
    "$$\n",
    "* Borrowing limit: $b=0$"
   ]
  },
  {
   "cell_type": "markdown",
   "metadata": {},
   "source": [
    "### Computation\n",
    "* Approximate the asset demand as a function of total resources (for each of the seven possible current labor endowment shocks).\n",
    "* Approximate the steady state: start with some value of $r$ (say, $r_1$), then compute the asset demand function corresponding to $r_1$, then simulate the Markov chain for the labor endowment shock using a random number generator and obtain a series of 10,000 draws. These are used with the asset demand function to obtain a simulated series of assets. The sample mean of this is taken to be $Ea$.Then calculate $r_2$ such that $K(r_2)$ equals $Ea$. If $r_2$ exceeds the rate of time preference, it is replaced by the rate of time preference. Define $r_3=(r_1+r_2)/2$ and calculate $Ea$ corresponding to $r_3$. If $Ea$ exceeds $K(r_3)$, then $r_2$ is replaced by $r_3$, and use bisection again. If $Ea$ is less than $K(r_3)$, then $r_1$ is replaced by $r_3$ then use bisection again. Typically this yields an excellent approximation to the steady state within ten iterations. \n",
    "* Once the steady state is approximated, calculate the mean, median, standard deviation, skewness, serial correlation coefficient for labor income, asset holdings, gross saving, consumtion, etc. "
   ]
  },
  {
   "cell_type": "markdown",
   "metadata": {},
   "source": [
    "## Results\n",
    "\n",
    "### Aggregate Saving\n",
    "* The differences between the saving rates with an without insurance are quite small for moderate and empirically plausible values of $\\sigma$, $\\rho$, and $\\mu$. However for high values of $\\sigma$, $\\rho$, and $\\mu$, the presence of idiosyncratic risk can raise the saving rate quite significantly by up to seven percentage points. \n",
    "<img src='Table2.png'>\n",
    "\n",
    "### Variabilities \n",
    "* Consumption varies about 50-70 percent as much as income. Saving and assets are much more volatile than income: Saving varies about three times as much as income, and assets vary about twice as much as income. \n",
    "* Risk aversion tends to reduce the variabilities of all these variabilities. \n",
    "\n",
    "### Importance of Asset Trading\n",
    "* If $\\mu=3$,$\\sigma=4$ and $\\rho=0.6$, then, by optimally accumulating and depleting assets, consumption variability is cut in half, yielding a welfare benefit of about 14 percent of per capita consumption.\n",
    "\n",
    "### Cross-Section Distributions and Inequality Measures\n",
    "* Since long-run distrubutions for an individual coincide with cross-section distrbutions for the population, results for variabilities of individual consumption, income, and assets have immediate implications for cross-section distributions. \n",
    "* There is much less dispersion across households in consumption compared with income and much greater dispersion in wealth compared with income. \n",
    "* Skewness coefficients reveal another aspect of inequality. All of the cross-section distributions are positively skewed (median$<$mean). However, the degree of skewness is less than in the data. "
   ]
  },
  {
   "cell_type": "markdown",
   "metadata": {},
   "source": [
    "## Conclusions and Comments\n",
    "The Aiyagari model extends the Bewley model and the Hugget model to a context with a production sector. Deviating from the representative agent model in which complete market is implicitly assumed, it tries to study the aggregate saving behavior of the economy with the agents facing uninsured idiosyncratic risk. With an empirically plausible set of parameters, it finds that the aggregate saving rate does increase compared to the case with a complete market, however, the change here caused by the precautionary saving motive is mild. Also, the results of the model qualitatively match the real data in terms of the ranking of the fluctuations of some economic variables. However, in terms of approaching the real inequalities of income and wealth shown by the data, the model does not perform very well. Also, in this model, the joint distribution of income and wealth is not treated as a state variable, which neglects the distribution effect Krusell and Smith(1998) try to address."
   ]
  }
 ],
 "metadata": {
  "kernelspec": {
   "display_name": "Python 3",
   "language": "python",
   "name": "python3"
  },
  "language_info": {
   "codemirror_mode": {
    "name": "ipython",
    "version": 3
   },
   "file_extension": ".py",
   "mimetype": "text/x-python",
   "name": "python",
   "nbconvert_exporter": "python",
   "pygments_lexer": "ipython3",
   "version": "3.6.8"
  }
 },
 "nbformat": 4,
 "nbformat_minor": 2
}
